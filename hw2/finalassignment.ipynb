{
 "cells": [
  {
   "cell_type": "code",
   "execution_count": 1,
   "metadata": {
    "colab": {},
    "colab_type": "code",
    "id": "8Rc7l091jlIt"
   },
   "outputs": [],
   "source": [
    "import pandas as pd\n",
    "import numpy as np\n",
    "import matplotlib.pyplot as plt\n",
    "import seaborn as sns\n",
    "from sklearn.impute import KNNImputer\n",
    "train_df=pd.read_csv(\"train.csv\") \n",
    "\n",
    "test_df=pd.read_csv(\"test.csv\")\n",
    "combine=[train_df,test_df]\n",
    "\n",
    "### combining the both the dataset in to variable x\n",
    "bothdata=pd.concat(combine,sort=True)"
   ]
  },
  {
   "cell_type": "markdown",
   "metadata": {
    "colab": {},
    "colab_type": "code",
    "id": "0n9h-8XZjlI1"
   },
   "source": []
  },
  {
   "cell_type": "markdown",
   "metadata": {
    "colab_type": "text",
    "id": "mkOvps1c-V_Q"
   },
   "source": [
    " Q9: Can you observe significant correlation (average survivied ratio>0.5) \n",
    "     among the group of Pclass=1 and Survived? \n",
    "     If Pclass has significant correlation with Survivied, \n",
    "     we should include this feature in the predictive model. \n",
    "     Based on your computation, will you include this feature in the predictive model?"
   ]
  },
  {
   "cell_type": "code",
   "execution_count": 2,
   "metadata": {
    "colab": {
     "base_uri": "https://localhost:8080/",
     "height": 296
    },
    "colab_type": "code",
    "id": "dKD2lLsHjlI4",
    "outputId": "2cb65b28-2066-44b9-a5fb-8850492c63cc"
   },
   "outputs": [
    {
     "data": {
      "text/html": [
       "<div>\n",
       "<style scoped>\n",
       "    .dataframe tbody tr th:only-of-type {\n",
       "        vertical-align: middle;\n",
       "    }\n",
       "\n",
       "    .dataframe tbody tr th {\n",
       "        vertical-align: top;\n",
       "    }\n",
       "\n",
       "    .dataframe thead th {\n",
       "        text-align: right;\n",
       "    }\n",
       "</style>\n",
       "<table border=\"1\" class=\"dataframe\">\n",
       "  <thead>\n",
       "    <tr style=\"text-align: right;\">\n",
       "      <th></th>\n",
       "      <th>Survived</th>\n",
       "    </tr>\n",
       "    <tr>\n",
       "      <th>Pclass</th>\n",
       "      <th></th>\n",
       "    </tr>\n",
       "  </thead>\n",
       "  <tbody>\n",
       "    <tr>\n",
       "      <td>1</td>\n",
       "      <td>0.629630</td>\n",
       "    </tr>\n",
       "    <tr>\n",
       "      <td>2</td>\n",
       "      <td>0.472826</td>\n",
       "    </tr>\n",
       "    <tr>\n",
       "      <td>3</td>\n",
       "      <td>0.242363</td>\n",
       "    </tr>\n",
       "  </tbody>\n",
       "</table>\n",
       "</div>"
      ],
      "text/plain": [
       "        Survived\n",
       "Pclass          \n",
       "1       0.629630\n",
       "2       0.472826\n",
       "3       0.242363"
      ]
     },
     "execution_count": 2,
     "metadata": {},
     "output_type": "execute_result"
    },
    {
     "data": {
      "image/png": "[encoded data removed]",
      "text/plain": [
       "<Figure size 432x288 with 1 Axes>"
      ]
     },
     "metadata": {
      "needs_background": "light"
     },
     "output_type": "display_data"
    }
   ],
   "source": [
    "#solution\n",
    "sns.barplot(x='Pclass',y='Survived',data=bothdata)\n",
    "\n",
    "train_df[['Pclass', 'Survived']].groupby(['Pclass']).mean()"
   ]
  },
  {
   "cell_type": "markdown",
   "metadata": {
    "colab_type": "text",
    "id": "AAJbEDTjAtVT"
   },
   "source": [
    "\n",
    "# Solution \n",
    "Yes the above plot confirms that Pclass=1 has highest rate of survival so we should \n",
    "this feature in the predictive model "
   ]
  },
  {
   "cell_type": "markdown",
   "metadata": {
    "colab_type": "text",
    "id": "s7LmkkTAA5UF"
   },
   "source": [
    "Q10: Are Women (Sex=female) were more likely to have survived?"
   ]
  },
  {
   "cell_type": "code",
   "execution_count": 3,
   "metadata": {
    "colab": {
     "base_uri": "https://localhost:8080/",
     "height": 296
    },
    "colab_type": "code",
    "id": "I2vKNpPVjlI_",
    "outputId": "ce6d791e-1af9-46ac-9852-e8d58d7a51cd"
   },
   "outputs": [
    {
     "data": {
      "text/html": [
       "<div>\n",
       "<style scoped>\n",
       "    .dataframe tbody tr th:only-of-type {\n",
       "        vertical-align: middle;\n",
       "    }\n",
       "\n",
       "    .dataframe tbody tr th {\n",
       "        vertical-align: top;\n",
       "    }\n",
       "\n",
       "    .dataframe thead th {\n",
       "        text-align: right;\n",
       "    }\n",
       "</style>\n",
       "<table border=\"1\" class=\"dataframe\">\n",
       "  <thead>\n",
       "    <tr style=\"text-align: right;\">\n",
       "      <th></th>\n",
       "      <th>Sex</th>\n",
       "      <th>Survived</th>\n",
       "    </tr>\n",
       "  </thead>\n",
       "  <tbody>\n",
       "    <tr>\n",
       "      <td>0</td>\n",
       "      <td>female</td>\n",
       "      <td>0.742038</td>\n",
       "    </tr>\n",
       "    <tr>\n",
       "      <td>1</td>\n",
       "      <td>male</td>\n",
       "      <td>0.188908</td>\n",
       "    </tr>\n",
       "  </tbody>\n",
       "</table>\n",
       "</div>"
      ],
      "text/plain": [
       "      Sex  Survived\n",
       "0  female  0.742038\n",
       "1    male  0.188908"
      ]
     },
     "execution_count": 3,
     "metadata": {},
     "output_type": "execute_result"
    },
    {
     "data": {
      "image/png": "[encoded data removed]",
      "text/plain": [
       "<Figure size 432x288 with 1 Axes>"
      ]
     },
     "metadata": {
      "needs_background": "light"
     },
     "output_type": "display_data"
    }
   ],
   "source": [
    "#solution:\n",
    "sns.barplot(x=\"Sex\",y=\"Survived\", data=bothdata)\n",
    "\n",
    "bothdata[[\"Sex\", \"Survived\"]].groupby(['Sex'], as_index=False).mean().sort_values(by='Survived', ascending=False)"
   ]
  },
  {
   "cell_type": "markdown",
   "metadata": {
    "colab_type": "text",
    "id": "DLC7JMSjBDBe"
   },
   "source": [
    "# Solution :\n",
    "from the plot is clear that women have a survival rate of more then 70% \n",
    "so Women (Sex=female) were more likely to have survived"
   ]
  },
  {
   "cell_type": "markdown",
   "metadata": {
    "colab_type": "text",
    "id": "vruEYQooBfJA"
   },
   "source": [
    "\n",
    "Q11: Let us start by understanding correlations between a numeric feature (Age) \n",
    "    and our predictive goal (Survived). A histogram chart is useful for analyzing continuous numerical \n",
    "    variables like Age where banding or ranges will help identify useful patterns. \n",
    "    The histogram can indicate distribution of samples using automatically defined bins or equally ranged bands. \n",
    "    This helps us answer questions relating to specific bands (e.g., infants, old). \n",
    "    Please plot the histogram plots between ages and Survived (Figure 1 is an example), \n",
    "    and answer the following questions:"
   ]
  },
  {
   "cell_type": "code",
   "execution_count": 4,
   "metadata": {
    "colab": {
     "base_uri": "https://localhost:8080/",
     "height": 242
    },
    "colab_type": "code",
    "id": "dw_YU6objlJI",
    "outputId": "a20c1ee6-d0c3-4952-bbfc-38de86c8d23c"
   },
   "outputs": [
    {
     "name": "stderr",
     "output_type": "stream",
     "text": [
      "/Users/rohitmarathe/anaconda3/lib/python3.7/site-packages/seaborn/axisgrid.py:230: UserWarning: The `size` paramter has been renamed to `height`; please update your code.\n",
      "  warnings.warn(msg, UserWarning)\n"
     ]
    },
    {
     "data": {
      "text/plain": [
       "<seaborn.axisgrid.FacetGrid at 0x1a1da38c50>"
      ]
     },
     "execution_count": 4,
     "metadata": {},
     "output_type": "execute_result"
    },
    {
     "data": {
      "image/png": "[encoded data removed]",
      "text/plain": [
       "<Figure size 864x432 with 2 Axes>"
      ]
     },
     "metadata": {
      "needs_background": "light"
     },
     "output_type": "display_data"
    }
   ],
   "source": [
    "\n",
    "graph = sns.FacetGrid(bothdata,col='Survived',size=6)\n",
    "graph.map(plt.hist,'Age',bins=range(0,100,5))"
   ]
  },
  {
   "cell_type": "markdown",
   "metadata": {
    "colab_type": "text",
    "id": "BWIwr8_MBoAS"
   },
   "source": [
    "•\tDo infants (Age <=4) have high survival rate?\n",
    "\n",
    "**yes infants (Age <=4) have high survival rate, we can clearly see that in histogram**\n",
    "\n",
    "•\tDo infants (Age <=4) have high survival rate?\n",
    "\n",
    "**yes infants (Age <=4) have high survival rate, we can clearly see that in the histogram**\n",
    "\n",
    "•\tDo oldest passengers (Age = 80) survive?\n",
    "\n",
    "**yes, oldest passengers (Age = 80) survive, we can see that in the second histogram (survived=1.0) that  passenger with 80 years has a spike.**\n",
    "\n",
    "\n",
    "•\tDo oldest passengers (Age = 80) survive?\n",
    "\n",
    "\n",
    "**yes, oldest passengers (Age = 80) survive, we can see that in the second histogram (survived=1.0) that passenger with 80 years has a spike.** \n",
    "\n",
    "\n",
    "•\tDo large number of 15-25 year olds not survive? Based on your analysis of the histograms,\n",
    "\n",
    "**yes, large no of passanger 15-25 did not make it. Histrogram with (survived=0.0) with shows huge spikes in the age between 15-25**\n",
    "\n",
    "\n",
    "•\tShould we consider Age in our model training? \n",
    "(If yes, then we should complete the Age feature for null values.)\n",
    "\n",
    "**yes, we should consider the  age in our model as we see from the histrogram it \n",
    "is correlated with survival of the passanger .Also, we should fill in the null values simple way is to generate random numbers between mean and standard deviation.**  \n",
    "\n",
    "\n",
    "•\tShould we should band age groups?\n",
    "\n",
    "**YES,we should band the age as it is continous data, we can band it and convert it into ordinal data use it for the model**"
   ]
  },
  {
   "cell_type": "markdown",
   "metadata": {
    "colab_type": "text",
    "id": "wsRVXxThEIuy"
   },
   "source": [
    "Q12: We can combine three features (age, Pclass, and survivied) for identifying correlations using a single plot. \n",
    "\n",
    "**This can be done with numerical and categorical features which have numeric values. Here is an example plot:**"
   ]
  },
  {
   "cell_type": "code",
   "execution_count": 5,
   "metadata": {
    "colab": {
     "base_uri": "https://localhost:8080/",
     "height": 557
    },
    "colab_type": "code",
    "id": "HGxnQGSujlJX",
    "outputId": "745c776f-9b45-44a2-d8f4-e9f21e2d84f1"
   },
   "outputs": [
    {
     "data": {
      "text/plain": [
       "<seaborn.axisgrid.FacetGrid at 0x1a1da38990>"
      ]
     },
     "execution_count": 5,
     "metadata": {},
     "output_type": "execute_result"
    },
    {
     "data": {
      "image/png": "[encoded data removed]",
      "text/plain": [
       "<Figure size 656x648 with 6 Axes>"
      ]
     },
     "metadata": {
      "needs_background": "light"
     },
     "output_type": "display_data"
    }
   ],
   "source": [
    "plot = sns.FacetGrid(bothdata,row='Pclass',col='Survived',aspect=1.5, size=3)\n",
    "plot.map(plt.hist,'Age',bins=30)\n",
    "plot.add_legend()"
   ]
  },
  {
   "cell_type": "markdown",
   "metadata": {
    "colab_type": "text",
    "id": "UnzHyDH-EHG4"
   },
   "source": [
    "\n",
    "•\tDoes Pclass=3 have most passengers, however most did not survive?\n",
    "\n",
    "**Yes Pclass=3 had the most passengers, Most of them did'nt survive confrims out\n",
    "classifying**\n",
    "\n",
    "\n",
    "\n",
    "\n",
    "\n",
    "•\tDo infant passengers in Pclass=2 and Pclass=3 mostly survive?\n",
    "\n",
    "**Yes, infant passengers in Pclass=2 and Pclass=3 mostly survive\n",
    "we can see that in histrogram of Pclass=2, Pclass=3 and survived=1 has \n",
    "a spike in the infant**\n",
    "\n",
    "\n",
    "\n",
    "\n",
    "\n",
    "•\tDo most passengers in Pclass=1 survive?\n",
    "\n",
    "**yes Pclass=1 passengers has mostly survided** \n",
    "\n",
    "\n",
    "\n",
    "\n",
    "\n",
    "•\tDoes Pclass vary in terms of Age distribution of passengers?\n",
    "\n",
    "**Yes, Pclass vary in terms of Age distribution of passengers**\n",
    "\n",
    "\n",
    "\n",
    "\n",
    "\n",
    "•\tShould we consider Pclass for model training?\n",
    "\n",
    "**yes, Pclass provides a lot of information about survival of the \n",
    "passanger, so we should consider it while training the model**"
   ]
  },
  {
   "cell_type": "markdown",
   "metadata": {
    "colab_type": "text",
    "id": "csx9Cg9NFKz4"
   },
   "source": [
    "\n",
    "Q13: We want to correlate categorical features (with non-numeric values) and numeric features. We can consider correlating Embarked (Categorical non-numeric), Sex (Categorical non-numeric), Fare (Numeric continuous),with Survived (Categorical numeric). Please plot a histogram figure to illustrate the correlations of Embarked, Sex, Fare, and Survivied. Here is a sample plot:\n",
    "\n"
   ]
  },
  {
   "cell_type": "code",
   "execution_count": 6,
   "metadata": {
    "colab": {
     "base_uri": "https://localhost:8080/",
     "height": 591
    },
    "colab_type": "code",
    "id": "Yl3YL9w5jlJo",
    "outputId": "5146f432-450c-4ad6-8aac-c9b825c903e6"
   },
   "outputs": [
    {
     "name": "stderr",
     "output_type": "stream",
     "text": [
      "/Users/rohitmarathe/anaconda3/lib/python3.7/site-packages/seaborn/axisgrid.py:715: UserWarning: Using the barplot function without specifying `order` is likely to produce an incorrect plot.\n",
      "  warnings.warn(warning)\n"
     ]
    },
    {
     "data": {
      "text/plain": [
       "<seaborn.axisgrid.FacetGrid at 0x1a1da02d50>"
      ]
     },
     "execution_count": 6,
     "metadata": {},
     "output_type": "execute_result"
    },
    {
     "data": {
      "image/png": "[encoded data removed]",
      "text/plain": [
       "<Figure size 504.8x496.8 with 6 Axes>"
      ]
     },
     "metadata": {
      "needs_background": "light"
     },
     "output_type": "display_data"
    }
   ],
   "source": [
    "fare = sns.FacetGrid(bothdata,row='Embarked',col='Survived',size = 2.3,aspect=1.5)\n",
    "fare.map(sns.barplot,'Sex','Fare',ci=None)\n",
    "fare.add_legend()\n"
   ]
  },
  {
   "cell_type": "markdown",
   "metadata": {
    "colab_type": "text",
    "id": "n75cEZl7IsXC"
   },
   "source": [
    "•   Do higher fare paying passengers have better survival?\n",
    "\n",
    "**yes Higher fare paying passengers have better survival rate, we can\n",
    "clearly see that in the bar chart above**\n",
    "\n",
    "\n",
    "•   Port of embarkation correlates with survival rates\n",
    "\n",
    "**yes, Port of embarkation correlates with survival rates. this can be seen in bar chart correlating 1 and completing 2**\n",
    "\n",
    "•   Should we consider banding fare feature?\n",
    "\n",
    "\n",
    "**Yes we should consider banding fare feature as it has co relation with\n",
    "survival** \n"
   ]
  },
  {
   "cell_type": "markdown",
   "metadata": {
    "colab_type": "text",
    "id": "5RK9uUauI7gM"
   },
   "source": [
    "14: What is the rate of duplicates for the Ticket feature? \n",
    "Is there a correlation between Ticket and survival? Should we drop the Ticket feature?\n",
    "\n",
    "\n",
    "**Ticket feature may be dropped from our analysis as it contains high ratio of duplicates (22%) \n",
    "and there may not be a correlation between Ticket and survival.**"
   ]
  },
  {
   "cell_type": "code",
   "execution_count": 7,
   "metadata": {},
   "outputs": [
    {
     "data": {
      "text/plain": [
       "count        891\n",
       "unique       681\n",
       "top       347082\n",
       "freq           7\n",
       "Name: Ticket, dtype: object"
      ]
     },
     "execution_count": 7,
     "metadata": {},
     "output_type": "execute_result"
    }
   ],
   "source": [
    "train_df['Ticket'].describe()"
   ]
  },
  {
   "cell_type": "code",
   "execution_count": 8,
   "metadata": {},
   "outputs": [
    {
     "name": "stdout",
     "output_type": "stream",
     "text": [
      "Missing values:\n",
      " Age             263\n",
      "Cabin          1014\n",
      "Embarked          2\n",
      "Fare              1\n",
      "Name              0\n",
      "Parch             0\n",
      "PassengerId       0\n",
      "Pclass            0\n",
      "Sex               0\n",
      "SibSp             0\n",
      "Survived        418\n",
      "Ticket            0\n",
      "dtype: int64\n",
      "duplicate values 23.56902356902357 %\n"
     ]
    }
   ],
   "source": [
    "\n",
    "print('Missing values:\\n',bothdata.isna().sum())\n",
    "duplicate_ticket=((891-681)/891)*100\n",
    "print(\"duplicate values\",duplicate_ticket,\"%\")"
   ]
  },
  {
   "cell_type": "markdown",
   "metadata": {
    "colab_type": "text",
    "id": "lcebOT08JEY3"
   },
   "source": [
    "Q15: Is the Cabin feature complete? How many null values there are in the Cabin features of the combined dataset of training and test dataset?\n",
    "Should we drop the Cabin feature?\n",
    "\n",
    "\n",
    " **we can drop the lodge highlight as it profoundly fragmented and contains numerous invalid qualities in the preparation and testing dataset The Cabin include in not finish. Out of 1309 columns joining both train and test information just 295 lines contain Cabin include. Among those 186 are one of a kind. The quantity of invalid qualities are: 1014. We should drop the Cabin include.**"
   ]
  },
  {
   "cell_type": "code",
   "execution_count": 9,
   "metadata": {
    "colab": {
     "base_uri": "https://localhost:8080/",
     "height": 173
    },
    "colab_type": "code",
    "id": "1c1BVeAojlJy",
    "outputId": "07bd23f8-3ddf-45c1-becf-e973e79e4520"
   },
   "outputs": [
    {
     "name": "stdout",
     "output_type": "stream",
     "text": [
      "Missing values:\n",
      " Age             263\n",
      "Cabin          1014\n",
      "Embarked          2\n",
      "Fare              1\n",
      "Name              0\n",
      "Parch             0\n",
      "PassengerId       0\n",
      "Pclass            0\n",
      "Sex               0\n",
      "SibSp             0\n",
      "Survived        418\n",
      "Ticket            0\n",
      "dtype: int64\n"
     ]
    }
   ],
   "source": [
    "print('Missing values:\\n',bothdata.isna().sum())\n"
   ]
  },
  {
   "cell_type": "code",
   "execution_count": 10,
   "metadata": {},
   "outputs": [
    {
     "data": {
      "text/html": [
       "<div>\n",
       "<style scoped>\n",
       "    .dataframe tbody tr th:only-of-type {\n",
       "        vertical-align: middle;\n",
       "    }\n",
       "\n",
       "    .dataframe tbody tr th {\n",
       "        vertical-align: top;\n",
       "    }\n",
       "\n",
       "    .dataframe thead th {\n",
       "        text-align: right;\n",
       "    }\n",
       "</style>\n",
       "<table border=\"1\" class=\"dataframe\">\n",
       "  <thead>\n",
       "    <tr style=\"text-align: right;\">\n",
       "      <th></th>\n",
       "      <th>Cabin</th>\n",
       "      <th>Embarked</th>\n",
       "      <th>Name</th>\n",
       "      <th>Sex</th>\n",
       "      <th>Ticket</th>\n",
       "    </tr>\n",
       "  </thead>\n",
       "  <tbody>\n",
       "    <tr>\n",
       "      <td>count</td>\n",
       "      <td>295</td>\n",
       "      <td>1307</td>\n",
       "      <td>1309</td>\n",
       "      <td>1309</td>\n",
       "      <td>1309</td>\n",
       "    </tr>\n",
       "    <tr>\n",
       "      <td>unique</td>\n",
       "      <td>186</td>\n",
       "      <td>3</td>\n",
       "      <td>1307</td>\n",
       "      <td>2</td>\n",
       "      <td>929</td>\n",
       "    </tr>\n",
       "    <tr>\n",
       "      <td>top</td>\n",
       "      <td>C23 C25 C27</td>\n",
       "      <td>S</td>\n",
       "      <td>Kelly, Mr. James</td>\n",
       "      <td>male</td>\n",
       "      <td>CA. 2343</td>\n",
       "    </tr>\n",
       "    <tr>\n",
       "      <td>freq</td>\n",
       "      <td>6</td>\n",
       "      <td>914</td>\n",
       "      <td>2</td>\n",
       "      <td>843</td>\n",
       "      <td>11</td>\n",
       "    </tr>\n",
       "  </tbody>\n",
       "</table>\n",
       "</div>"
      ],
      "text/plain": [
       "              Cabin Embarked              Name   Sex    Ticket\n",
       "count           295     1307              1309  1309      1309\n",
       "unique          186        3              1307     2       929\n",
       "top     C23 C25 C27        S  Kelly, Mr. James  male  CA. 2343\n",
       "freq              6      914                 2   843        11"
      ]
     },
     "execution_count": 10,
     "metadata": {},
     "output_type": "execute_result"
    }
   ],
   "source": [
    "bothdata.describe(include=[\"O\"])"
   ]
  },
  {
   "cell_type": "markdown",
   "metadata": {
    "colab_type": "text",
    "id": "SRxP_9ToJfu-"
   },
   "source": [
    "Q16: We can convert features which contain strings to numerical values.\n",
    "This is required by most model algorithms. Doing so will also help us in achieving the feature completing goal. In this question ,\n",
    "please convert Sex feature to a new feature called Gender where female=1 and male=0.\n",
    "\n"
   ]
  },
  {
   "cell_type": "code",
   "execution_count": 11,
   "metadata": {
    "colab": {},
    "colab_type": "code",
    "id": "jc7ikYpujlJ2"
   },
   "outputs": [
    {
     "data": {
      "text/html": [
       "<div>\n",
       "<style scoped>\n",
       "    .dataframe tbody tr th:only-of-type {\n",
       "        vertical-align: middle;\n",
       "    }\n",
       "\n",
       "    .dataframe tbody tr th {\n",
       "        vertical-align: top;\n",
       "    }\n",
       "\n",
       "    .dataframe thead th {\n",
       "        text-align: right;\n",
       "    }\n",
       "</style>\n",
       "<table border=\"1\" class=\"dataframe\">\n",
       "  <thead>\n",
       "    <tr style=\"text-align: right;\">\n",
       "      <th></th>\n",
       "      <th>PassengerId</th>\n",
       "      <th>Survived</th>\n",
       "      <th>Pclass</th>\n",
       "      <th>Name</th>\n",
       "      <th>Sex</th>\n",
       "      <th>Age</th>\n",
       "      <th>SibSp</th>\n",
       "      <th>Parch</th>\n",
       "      <th>Ticket</th>\n",
       "      <th>Fare</th>\n",
       "      <th>Cabin</th>\n",
       "      <th>Embarked</th>\n",
       "      <th>Gender</th>\n",
       "    </tr>\n",
       "  </thead>\n",
       "  <tbody>\n",
       "    <tr>\n",
       "      <td>0</td>\n",
       "      <td>1</td>\n",
       "      <td>0</td>\n",
       "      <td>3</td>\n",
       "      <td>Braund, Mr. Owen Harris</td>\n",
       "      <td>male</td>\n",
       "      <td>22.0</td>\n",
       "      <td>1</td>\n",
       "      <td>0</td>\n",
       "      <td>A/5 21171</td>\n",
       "      <td>7.2500</td>\n",
       "      <td>NaN</td>\n",
       "      <td>S</td>\n",
       "      <td>0</td>\n",
       "    </tr>\n",
       "    <tr>\n",
       "      <td>1</td>\n",
       "      <td>2</td>\n",
       "      <td>1</td>\n",
       "      <td>1</td>\n",
       "      <td>Cumings, Mrs. John Bradley (Florence Briggs Th...</td>\n",
       "      <td>female</td>\n",
       "      <td>38.0</td>\n",
       "      <td>1</td>\n",
       "      <td>0</td>\n",
       "      <td>PC 17599</td>\n",
       "      <td>71.2833</td>\n",
       "      <td>C85</td>\n",
       "      <td>C</td>\n",
       "      <td>1</td>\n",
       "    </tr>\n",
       "    <tr>\n",
       "      <td>2</td>\n",
       "      <td>3</td>\n",
       "      <td>1</td>\n",
       "      <td>3</td>\n",
       "      <td>Heikkinen, Miss. Laina</td>\n",
       "      <td>female</td>\n",
       "      <td>26.0</td>\n",
       "      <td>0</td>\n",
       "      <td>0</td>\n",
       "      <td>STON/O2. 3101282</td>\n",
       "      <td>7.9250</td>\n",
       "      <td>NaN</td>\n",
       "      <td>S</td>\n",
       "      <td>1</td>\n",
       "    </tr>\n",
       "    <tr>\n",
       "      <td>3</td>\n",
       "      <td>4</td>\n",
       "      <td>1</td>\n",
       "      <td>1</td>\n",
       "      <td>Futrelle, Mrs. Jacques Heath (Lily May Peel)</td>\n",
       "      <td>female</td>\n",
       "      <td>35.0</td>\n",
       "      <td>1</td>\n",
       "      <td>0</td>\n",
       "      <td>113803</td>\n",
       "      <td>53.1000</td>\n",
       "      <td>C123</td>\n",
       "      <td>S</td>\n",
       "      <td>1</td>\n",
       "    </tr>\n",
       "    <tr>\n",
       "      <td>4</td>\n",
       "      <td>5</td>\n",
       "      <td>0</td>\n",
       "      <td>3</td>\n",
       "      <td>Allen, Mr. William Henry</td>\n",
       "      <td>male</td>\n",
       "      <td>35.0</td>\n",
       "      <td>0</td>\n",
       "      <td>0</td>\n",
       "      <td>373450</td>\n",
       "      <td>8.0500</td>\n",
       "      <td>NaN</td>\n",
       "      <td>S</td>\n",
       "      <td>0</td>\n",
       "    </tr>\n",
       "  </tbody>\n",
       "</table>\n",
       "</div>"
      ],
      "text/plain": [
       "   PassengerId  Survived  Pclass  \\\n",
       "0            1         0       3   \n",
       "1            2         1       1   \n",
       "2            3         1       3   \n",
       "3            4         1       1   \n",
       "4            5         0       3   \n",
       "\n",
       "                                                Name     Sex   Age  SibSp  \\\n",
       "0                            Braund, Mr. Owen Harris    male  22.0      1   \n",
       "1  Cumings, Mrs. John Bradley (Florence Briggs Th...  female  38.0      1   \n",
       "2                             Heikkinen, Miss. Laina  female  26.0      0   \n",
       "3       Futrelle, Mrs. Jacques Heath (Lily May Peel)  female  35.0      1   \n",
       "4                           Allen, Mr. William Henry    male  35.0      0   \n",
       "\n",
       "   Parch            Ticket     Fare Cabin Embarked  Gender  \n",
       "0      0         A/5 21171   7.2500   NaN        S       0  \n",
       "1      0          PC 17599  71.2833   C85        C       1  \n",
       "2      0  STON/O2. 3101282   7.9250   NaN        S       1  \n",
       "3      0            113803  53.1000  C123        S       1  \n",
       "4      0            373450   8.0500   NaN        S       0  "
      ]
     },
     "execution_count": 11,
     "metadata": {},
     "output_type": "execute_result"
    }
   ],
   "source": [
    "\n",
    "m = {'male' : 0, 'female' : 1}\n",
    "for df in combine:\n",
    "    df['Gender'] = df['Sex'].map(m).astype(int)\n",
    "combine[0].head()\n",
    "\n",
    "\n"
   ]
  },
  {
   "cell_type": "code",
   "execution_count": 12,
   "metadata": {
    "colab": {
     "base_uri": "https://localhost:8080/",
     "height": 204
    },
    "colab_type": "code",
    "id": "NUBudy86jlJ4",
    "outputId": "4948a69e-e518-49c3-9d3d-05b500f66d72"
   },
   "outputs": [
    {
     "data": {
      "text/html": [
       "<div>\n",
       "<style scoped>\n",
       "    .dataframe tbody tr th:only-of-type {\n",
       "        vertical-align: middle;\n",
       "    }\n",
       "\n",
       "    .dataframe tbody tr th {\n",
       "        vertical-align: top;\n",
       "    }\n",
       "\n",
       "    .dataframe thead th {\n",
       "        text-align: right;\n",
       "    }\n",
       "</style>\n",
       "<table border=\"1\" class=\"dataframe\">\n",
       "  <thead>\n",
       "    <tr style=\"text-align: right;\">\n",
       "      <th></th>\n",
       "      <th>Age</th>\n",
       "      <th>Cabin</th>\n",
       "      <th>Embarked</th>\n",
       "      <th>Fare</th>\n",
       "      <th>Name</th>\n",
       "      <th>Parch</th>\n",
       "      <th>PassengerId</th>\n",
       "      <th>Pclass</th>\n",
       "      <th>Sex</th>\n",
       "      <th>SibSp</th>\n",
       "      <th>Survived</th>\n",
       "      <th>Ticket</th>\n",
       "    </tr>\n",
       "  </thead>\n",
       "  <tbody>\n",
       "    <tr>\n",
       "      <td>0</td>\n",
       "      <td>22.0</td>\n",
       "      <td>NaN</td>\n",
       "      <td>S</td>\n",
       "      <td>7.2500</td>\n",
       "      <td>Braund, Mr. Owen Harris</td>\n",
       "      <td>0</td>\n",
       "      <td>1</td>\n",
       "      <td>3</td>\n",
       "      <td>male</td>\n",
       "      <td>1</td>\n",
       "      <td>0.0</td>\n",
       "      <td>A/5 21171</td>\n",
       "    </tr>\n",
       "    <tr>\n",
       "      <td>1</td>\n",
       "      <td>38.0</td>\n",
       "      <td>C85</td>\n",
       "      <td>C</td>\n",
       "      <td>71.2833</td>\n",
       "      <td>Cumings, Mrs. John Bradley (Florence Briggs Th...</td>\n",
       "      <td>0</td>\n",
       "      <td>2</td>\n",
       "      <td>1</td>\n",
       "      <td>female</td>\n",
       "      <td>1</td>\n",
       "      <td>1.0</td>\n",
       "      <td>PC 17599</td>\n",
       "    </tr>\n",
       "    <tr>\n",
       "      <td>2</td>\n",
       "      <td>26.0</td>\n",
       "      <td>NaN</td>\n",
       "      <td>S</td>\n",
       "      <td>7.9250</td>\n",
       "      <td>Heikkinen, Miss. Laina</td>\n",
       "      <td>0</td>\n",
       "      <td>3</td>\n",
       "      <td>3</td>\n",
       "      <td>female</td>\n",
       "      <td>0</td>\n",
       "      <td>1.0</td>\n",
       "      <td>STON/O2. 3101282</td>\n",
       "    </tr>\n",
       "    <tr>\n",
       "      <td>3</td>\n",
       "      <td>35.0</td>\n",
       "      <td>C123</td>\n",
       "      <td>S</td>\n",
       "      <td>53.1000</td>\n",
       "      <td>Futrelle, Mrs. Jacques Heath (Lily May Peel)</td>\n",
       "      <td>0</td>\n",
       "      <td>4</td>\n",
       "      <td>1</td>\n",
       "      <td>female</td>\n",
       "      <td>1</td>\n",
       "      <td>1.0</td>\n",
       "      <td>113803</td>\n",
       "    </tr>\n",
       "    <tr>\n",
       "      <td>4</td>\n",
       "      <td>35.0</td>\n",
       "      <td>NaN</td>\n",
       "      <td>S</td>\n",
       "      <td>8.0500</td>\n",
       "      <td>Allen, Mr. William Henry</td>\n",
       "      <td>0</td>\n",
       "      <td>5</td>\n",
       "      <td>3</td>\n",
       "      <td>male</td>\n",
       "      <td>0</td>\n",
       "      <td>0.0</td>\n",
       "      <td>373450</td>\n",
       "    </tr>\n",
       "  </tbody>\n",
       "</table>\n",
       "</div>"
      ],
      "text/plain": [
       "    Age Cabin Embarked     Fare  \\\n",
       "0  22.0   NaN        S   7.2500   \n",
       "1  38.0   C85        C  71.2833   \n",
       "2  26.0   NaN        S   7.9250   \n",
       "3  35.0  C123        S  53.1000   \n",
       "4  35.0   NaN        S   8.0500   \n",
       "\n",
       "                                                Name  Parch  PassengerId  \\\n",
       "0                            Braund, Mr. Owen Harris      0            1   \n",
       "1  Cumings, Mrs. John Bradley (Florence Briggs Th...      0            2   \n",
       "2                             Heikkinen, Miss. Laina      0            3   \n",
       "3       Futrelle, Mrs. Jacques Heath (Lily May Peel)      0            4   \n",
       "4                           Allen, Mr. William Henry      0            5   \n",
       "\n",
       "   Pclass     Sex  SibSp  Survived            Ticket  \n",
       "0       3    male      1       0.0         A/5 21171  \n",
       "1       1  female      1       1.0          PC 17599  \n",
       "2       3  female      0       1.0  STON/O2. 3101282  \n",
       "3       1  female      1       1.0            113803  \n",
       "4       3    male      0       0.0            373450  "
      ]
     },
     "execution_count": 12,
     "metadata": {},
     "output_type": "execute_result"
    }
   ],
   "source": [
    "bothdata.head()\n",
    "#print(\"The value of Sex column are converted to 1 and 0\")"
   ]
  },
  {
   "cell_type": "markdown",
   "metadata": {
    "colab_type": "text",
    "id": "tH6ScLURJ_gW"
   },
   "source": [
    "Q17: We start estimating and completing features with missing or null values. \n",
    "    We will first do this for the Age feature. We can consider three methods to complete a numerical continuous feature. \n",
    "    A simple way is to generate random numbers between mean and standard deviation.\n",
    "    More accurate way of guessing missing values is to use the K-Nearest Neighbor algorithm to select the top-K most similar data points, \n",
    "    and then use the top-K most similar data points to impute the missing values of ages."
   ]
  },
  {
   "cell_type": "code",
   "execution_count": 13,
   "metadata": {
    "colab": {
     "base_uri": "https://localhost:8080/",
     "height": 289
    },
    "colab_type": "code",
    "id": "3mcG0dcTjlJ6",
    "outputId": "99009a53-f1ed-40c1-f4c6-10efa7a2d771"
   },
   "outputs": [
    {
     "name": "stdout",
     "output_type": "stream",
     "text": [
      "using random value\n"
     ]
    },
    {
     "name": "stderr",
     "output_type": "stream",
     "text": [
      "/Users/rohitmarathe/anaconda3/lib/python3.7/site-packages/ipykernel_launcher.py:6: SettingWithCopyWarning: \n",
      "A value is trying to be set on a copy of a slice from a DataFrame\n",
      "\n",
      "See the caveats in the documentation: http://pandas.pydata.org/pandas-docs/stable/user_guide/indexing.html#returning-a-view-versus-a-copy\n",
      "  \n"
     ]
    },
    {
     "data": {
      "text/html": [
       "<div>\n",
       "<style scoped>\n",
       "    .dataframe tbody tr th:only-of-type {\n",
       "        vertical-align: middle;\n",
       "    }\n",
       "\n",
       "    .dataframe tbody tr th {\n",
       "        vertical-align: top;\n",
       "    }\n",
       "\n",
       "    .dataframe thead th {\n",
       "        text-align: right;\n",
       "    }\n",
       "</style>\n",
       "<table border=\"1\" class=\"dataframe\">\n",
       "  <thead>\n",
       "    <tr style=\"text-align: right;\">\n",
       "      <th></th>\n",
       "      <th>PassengerId</th>\n",
       "      <th>Pclass</th>\n",
       "      <th>Name</th>\n",
       "      <th>Sex</th>\n",
       "      <th>Age</th>\n",
       "      <th>SibSp</th>\n",
       "      <th>Parch</th>\n",
       "      <th>Ticket</th>\n",
       "      <th>Fare</th>\n",
       "      <th>Cabin</th>\n",
       "      <th>Embarked</th>\n",
       "      <th>Gender</th>\n",
       "    </tr>\n",
       "  </thead>\n",
       "  <tbody>\n",
       "    <tr>\n",
       "      <td>0</td>\n",
       "      <td>892</td>\n",
       "      <td>3</td>\n",
       "      <td>Kelly, Mr. James</td>\n",
       "      <td>male</td>\n",
       "      <td>34.5</td>\n",
       "      <td>0</td>\n",
       "      <td>0</td>\n",
       "      <td>330911</td>\n",
       "      <td>7.8292</td>\n",
       "      <td>NaN</td>\n",
       "      <td>Q</td>\n",
       "      <td>0</td>\n",
       "    </tr>\n",
       "    <tr>\n",
       "      <td>1</td>\n",
       "      <td>893</td>\n",
       "      <td>3</td>\n",
       "      <td>Wilkes, Mrs. James (Ellen Needs)</td>\n",
       "      <td>female</td>\n",
       "      <td>47.0</td>\n",
       "      <td>1</td>\n",
       "      <td>0</td>\n",
       "      <td>363272</td>\n",
       "      <td>7.0000</td>\n",
       "      <td>NaN</td>\n",
       "      <td>S</td>\n",
       "      <td>1</td>\n",
       "    </tr>\n",
       "    <tr>\n",
       "      <td>2</td>\n",
       "      <td>894</td>\n",
       "      <td>2</td>\n",
       "      <td>Myles, Mr. Thomas Francis</td>\n",
       "      <td>male</td>\n",
       "      <td>62.0</td>\n",
       "      <td>0</td>\n",
       "      <td>0</td>\n",
       "      <td>240276</td>\n",
       "      <td>9.6875</td>\n",
       "      <td>NaN</td>\n",
       "      <td>Q</td>\n",
       "      <td>0</td>\n",
       "    </tr>\n",
       "    <tr>\n",
       "      <td>3</td>\n",
       "      <td>895</td>\n",
       "      <td>3</td>\n",
       "      <td>Wirz, Mr. Albert</td>\n",
       "      <td>male</td>\n",
       "      <td>27.0</td>\n",
       "      <td>0</td>\n",
       "      <td>0</td>\n",
       "      <td>315154</td>\n",
       "      <td>8.6625</td>\n",
       "      <td>NaN</td>\n",
       "      <td>S</td>\n",
       "      <td>0</td>\n",
       "    </tr>\n",
       "    <tr>\n",
       "      <td>4</td>\n",
       "      <td>896</td>\n",
       "      <td>3</td>\n",
       "      <td>Hirvonen, Mrs. Alexander (Helga E Lindqvist)</td>\n",
       "      <td>female</td>\n",
       "      <td>22.0</td>\n",
       "      <td>1</td>\n",
       "      <td>1</td>\n",
       "      <td>3101298</td>\n",
       "      <td>12.2875</td>\n",
       "      <td>NaN</td>\n",
       "      <td>S</td>\n",
       "      <td>1</td>\n",
       "    </tr>\n",
       "  </tbody>\n",
       "</table>\n",
       "</div>"
      ],
      "text/plain": [
       "   PassengerId  Pclass                                          Name     Sex  \\\n",
       "0          892       3                              Kelly, Mr. James    male   \n",
       "1          893       3              Wilkes, Mrs. James (Ellen Needs)  female   \n",
       "2          894       2                     Myles, Mr. Thomas Francis    male   \n",
       "3          895       3                              Wirz, Mr. Albert    male   \n",
       "4          896       3  Hirvonen, Mrs. Alexander (Helga E Lindqvist)  female   \n",
       "\n",
       "    Age  SibSp  Parch   Ticket     Fare Cabin Embarked  Gender  \n",
       "0  34.5      0      0   330911   7.8292   NaN        Q       0  \n",
       "1  47.0      1      0   363272   7.0000   NaN        S       1  \n",
       "2  62.0      0      0   240276   9.6875   NaN        Q       0  \n",
       "3  27.0      0      0   315154   8.6625   NaN        S       0  \n",
       "4  22.0      1      1  3101298  12.2875   NaN        S       1  "
      ]
     },
     "execution_count": 13,
     "metadata": {},
     "output_type": "execute_result"
    }
   ],
   "source": [
    "print(\"using random value\")\n",
    "\n",
    "for df in combine:\n",
    "    for i in range (0, len(df)):\n",
    "        if np.isnan(df[\"Age\"][i]) == True:\n",
    "            df[\"Age\"][i] = np.random.uniform(low=df['Age'].std(), high=df['Age'].median())\n",
    "\n",
    "combine[1].head()\n",
    "\n",
    "\n",
    "\n",
    "\n"
   ]
  },
  {
   "cell_type": "code",
   "execution_count": 14,
   "metadata": {},
   "outputs": [
    {
     "name": "stdout",
     "output_type": "stream",
     "text": [
      "using KNN value\n"
     ]
    },
    {
     "data": {
      "text/html": [
       "<div>\n",
       "<style scoped>\n",
       "    .dataframe tbody tr th:only-of-type {\n",
       "        vertical-align: middle;\n",
       "    }\n",
       "\n",
       "    .dataframe tbody tr th {\n",
       "        vertical-align: top;\n",
       "    }\n",
       "\n",
       "    .dataframe thead th {\n",
       "        text-align: right;\n",
       "    }\n",
       "</style>\n",
       "<table border=\"1\" class=\"dataframe\">\n",
       "  <thead>\n",
       "    <tr style=\"text-align: right;\">\n",
       "      <th></th>\n",
       "      <th>Survived</th>\n",
       "      <th>Gender</th>\n",
       "      <th>Age</th>\n",
       "      <th>SibSp</th>\n",
       "      <th>Parch</th>\n",
       "      <th>Fare</th>\n",
       "      <th>Name</th>\n",
       "      <th>Ticket</th>\n",
       "      <th>Cabin</th>\n",
       "      <th>Pclass</th>\n",
       "      <th>PassengerId</th>\n",
       "      <th>Embarked</th>\n",
       "    </tr>\n",
       "  </thead>\n",
       "  <tbody>\n",
       "    <tr>\n",
       "      <td>0</td>\n",
       "      <td>0.0</td>\n",
       "      <td>22.0</td>\n",
       "      <td>1.0</td>\n",
       "      <td>0.0</td>\n",
       "      <td>7.2500</td>\n",
       "      <td>0.0</td>\n",
       "      <td>Braund, Mr. Owen Harris</td>\n",
       "      <td>A/5 21171</td>\n",
       "      <td>NaN</td>\n",
       "      <td>3</td>\n",
       "      <td>1</td>\n",
       "      <td>S</td>\n",
       "    </tr>\n",
       "    <tr>\n",
       "      <td>1</td>\n",
       "      <td>1.0</td>\n",
       "      <td>38.0</td>\n",
       "      <td>1.0</td>\n",
       "      <td>0.0</td>\n",
       "      <td>71.2833</td>\n",
       "      <td>1.0</td>\n",
       "      <td>Cumings, Mrs. John Bradley (Florence Briggs Th...</td>\n",
       "      <td>PC 17599</td>\n",
       "      <td>C85</td>\n",
       "      <td>1</td>\n",
       "      <td>2</td>\n",
       "      <td>C</td>\n",
       "    </tr>\n",
       "    <tr>\n",
       "      <td>2</td>\n",
       "      <td>1.0</td>\n",
       "      <td>26.0</td>\n",
       "      <td>0.0</td>\n",
       "      <td>0.0</td>\n",
       "      <td>7.9250</td>\n",
       "      <td>1.0</td>\n",
       "      <td>Heikkinen, Miss. Laina</td>\n",
       "      <td>STON/O2. 3101282</td>\n",
       "      <td>NaN</td>\n",
       "      <td>3</td>\n",
       "      <td>3</td>\n",
       "      <td>S</td>\n",
       "    </tr>\n",
       "    <tr>\n",
       "      <td>3</td>\n",
       "      <td>1.0</td>\n",
       "      <td>35.0</td>\n",
       "      <td>1.0</td>\n",
       "      <td>0.0</td>\n",
       "      <td>53.1000</td>\n",
       "      <td>1.0</td>\n",
       "      <td>Futrelle, Mrs. Jacques Heath (Lily May Peel)</td>\n",
       "      <td>113803</td>\n",
       "      <td>C123</td>\n",
       "      <td>1</td>\n",
       "      <td>4</td>\n",
       "      <td>S</td>\n",
       "    </tr>\n",
       "    <tr>\n",
       "      <td>4</td>\n",
       "      <td>0.0</td>\n",
       "      <td>35.0</td>\n",
       "      <td>0.0</td>\n",
       "      <td>0.0</td>\n",
       "      <td>8.0500</td>\n",
       "      <td>0.0</td>\n",
       "      <td>Allen, Mr. William Henry</td>\n",
       "      <td>373450</td>\n",
       "      <td>NaN</td>\n",
       "      <td>3</td>\n",
       "      <td>5</td>\n",
       "      <td>S</td>\n",
       "    </tr>\n",
       "  </tbody>\n",
       "</table>\n",
       "</div>"
      ],
      "text/plain": [
       "   Survived  Gender  Age  SibSp    Parch  Fare  \\\n",
       "0       0.0    22.0  1.0    0.0   7.2500   0.0   \n",
       "1       1.0    38.0  1.0    0.0  71.2833   1.0   \n",
       "2       1.0    26.0  0.0    0.0   7.9250   1.0   \n",
       "3       1.0    35.0  1.0    0.0  53.1000   1.0   \n",
       "4       0.0    35.0  0.0    0.0   8.0500   0.0   \n",
       "\n",
       "                                                Name            Ticket Cabin  \\\n",
       "0                            Braund, Mr. Owen Harris         A/5 21171   NaN   \n",
       "1  Cumings, Mrs. John Bradley (Florence Briggs Th...          PC 17599   C85   \n",
       "2                             Heikkinen, Miss. Laina  STON/O2. 3101282   NaN   \n",
       "3       Futrelle, Mrs. Jacques Heath (Lily May Peel)            113803  C123   \n",
       "4                           Allen, Mr. William Henry            373450   NaN   \n",
       "\n",
       "   Pclass  PassengerId Embarked  \n",
       "0       3            1        S  \n",
       "1       1            2        C  \n",
       "2       3            3        S  \n",
       "3       1            4        S  \n",
       "4       3            5        S  "
      ]
     },
     "execution_count": 14,
     "metadata": {},
     "output_type": "execute_result"
    }
   ],
   "source": [
    "print(\"using KNN value\")\n",
    "\n",
    "train_df['Age'] = train_df['Age'].apply(lambda x: np.random.randint(high = 29.699118, low = 14.526497) if np.isnan(x) else x)\n",
    "\n",
    "imputer = KNNImputer(n_neighbors=2)\n",
    "df_filled = imputer.fit_transform(train_df.loc[:,train_df.columns.isin(['Age','Fare','SibSp','Parch','Gender','Survived'])])\n",
    "df_filled = pd.DataFrame(df_filled , columns =['Survived','Gender','Age','SibSp','Parch','Fare'] )\n",
    "\n",
    "df_filled['Name'] = train_df['Name']\n",
    "df_filled['Ticket'] = train_df['Ticket']\n",
    "df_filled['Cabin'] = train_df['Cabin']\n",
    "df_filled['Pclass'] = train_df['Pclass']\n",
    "df_filled['PassengerId'] = train_df['PassengerId']\n",
    "df_filled['Embarked'] = train_df['Embarked']\n",
    "\n",
    "df_filled.head()"
   ]
  },
  {
   "cell_type": "markdown",
   "metadata": {
    "colab_type": "text",
    "id": "WEvqr36bKM5t"
   },
   "source": [
    "Q18: Completing a categorical feature: Embarked feature takes S, Q, C values based on port of embarkation. \n",
    "Our training dataset has some missing values. Please simply fill these with the most common occurrences."
   ]
  },
  {
   "cell_type": "code",
   "execution_count": 15,
   "metadata": {
    "colab": {
     "base_uri": "https://localhost:8080/",
     "height": 142
    },
    "colab_type": "code",
    "id": "tJTTW445jlJ8",
    "outputId": "75a45867-e623-49ce-fc63-5808ff540851"
   },
   "outputs": [
    {
     "data": {
      "text/html": [
       "<div>\n",
       "<style scoped>\n",
       "    .dataframe tbody tr th:only-of-type {\n",
       "        vertical-align: middle;\n",
       "    }\n",
       "\n",
       "    .dataframe tbody tr th {\n",
       "        vertical-align: top;\n",
       "    }\n",
       "\n",
       "    .dataframe thead th {\n",
       "        text-align: right;\n",
       "    }\n",
       "</style>\n",
       "<table border=\"1\" class=\"dataframe\">\n",
       "  <thead>\n",
       "    <tr style=\"text-align: right;\">\n",
       "      <th></th>\n",
       "      <th>Embarked</th>\n",
       "      <th>Survived</th>\n",
       "    </tr>\n",
       "  </thead>\n",
       "  <tbody>\n",
       "    <tr>\n",
       "      <td>0</td>\n",
       "      <td>C</td>\n",
       "      <td>0.553571</td>\n",
       "    </tr>\n",
       "    <tr>\n",
       "      <td>1</td>\n",
       "      <td>Q</td>\n",
       "      <td>0.389610</td>\n",
       "    </tr>\n",
       "    <tr>\n",
       "      <td>2</td>\n",
       "      <td>S</td>\n",
       "      <td>0.339009</td>\n",
       "    </tr>\n",
       "  </tbody>\n",
       "</table>\n",
       "</div>"
      ],
      "text/plain": [
       "  Embarked  Survived\n",
       "0        C  0.553571\n",
       "1        Q  0.389610\n",
       "2        S  0.339009"
      ]
     },
     "execution_count": 15,
     "metadata": {},
     "output_type": "execute_result"
    }
   ],
   "source": [
    "\n",
    "freq_port = train_df.Embarked.dropna().mode()[0]\n",
    "for dataset in combine:\n",
    "    dataset['Embarked'] = dataset['Embarked'].fillna(freq_port)\n",
    "    \n",
    "train_df[['Embarked', 'Survived']].groupby(['Embarked'], as_index=False).mean().sort_values(by='Survived', ascending=False)"
   ]
  },
  {
   "cell_type": "markdown",
   "metadata": {
    "colab_type": "text",
    "id": "0Vb5M08vKVV9"
   },
   "source": [
    "Q19: Completing and converting a numeric feature. Please complete the Fare feature for single missing value in test dataset using\n",
    "mode to get the value that occurs most frequently for this feature."
   ]
  },
  {
   "cell_type": "code",
   "execution_count": 16,
   "metadata": {
    "colab": {
     "base_uri": "https://localhost:8080/",
     "height": 204
    },
    "colab_type": "code",
    "id": "tKGguASYjlJ_",
    "outputId": "111af374-5795-452b-fdc7-fcfd8ce33e1c"
   },
   "outputs": [
    {
     "data": {
      "text/html": [
       "<div>\n",
       "<style scoped>\n",
       "    .dataframe tbody tr th:only-of-type {\n",
       "        vertical-align: middle;\n",
       "    }\n",
       "\n",
       "    .dataframe tbody tr th {\n",
       "        vertical-align: top;\n",
       "    }\n",
       "\n",
       "    .dataframe thead th {\n",
       "        text-align: right;\n",
       "    }\n",
       "</style>\n",
       "<table border=\"1\" class=\"dataframe\">\n",
       "  <thead>\n",
       "    <tr style=\"text-align: right;\">\n",
       "      <th></th>\n",
       "      <th>PassengerId</th>\n",
       "      <th>Pclass</th>\n",
       "      <th>Name</th>\n",
       "      <th>Sex</th>\n",
       "      <th>Age</th>\n",
       "      <th>SibSp</th>\n",
       "      <th>Parch</th>\n",
       "      <th>Ticket</th>\n",
       "      <th>Fare</th>\n",
       "      <th>Cabin</th>\n",
       "      <th>Embarked</th>\n",
       "      <th>Gender</th>\n",
       "    </tr>\n",
       "  </thead>\n",
       "  <tbody>\n",
       "    <tr>\n",
       "      <td>0</td>\n",
       "      <td>892</td>\n",
       "      <td>3</td>\n",
       "      <td>Kelly, Mr. James</td>\n",
       "      <td>male</td>\n",
       "      <td>34.5</td>\n",
       "      <td>0</td>\n",
       "      <td>0</td>\n",
       "      <td>330911</td>\n",
       "      <td>7.8292</td>\n",
       "      <td>NaN</td>\n",
       "      <td>Q</td>\n",
       "      <td>0</td>\n",
       "    </tr>\n",
       "    <tr>\n",
       "      <td>1</td>\n",
       "      <td>893</td>\n",
       "      <td>3</td>\n",
       "      <td>Wilkes, Mrs. James (Ellen Needs)</td>\n",
       "      <td>female</td>\n",
       "      <td>47.0</td>\n",
       "      <td>1</td>\n",
       "      <td>0</td>\n",
       "      <td>363272</td>\n",
       "      <td>7.0000</td>\n",
       "      <td>NaN</td>\n",
       "      <td>S</td>\n",
       "      <td>1</td>\n",
       "    </tr>\n",
       "    <tr>\n",
       "      <td>2</td>\n",
       "      <td>894</td>\n",
       "      <td>2</td>\n",
       "      <td>Myles, Mr. Thomas Francis</td>\n",
       "      <td>male</td>\n",
       "      <td>62.0</td>\n",
       "      <td>0</td>\n",
       "      <td>0</td>\n",
       "      <td>240276</td>\n",
       "      <td>9.6875</td>\n",
       "      <td>NaN</td>\n",
       "      <td>Q</td>\n",
       "      <td>0</td>\n",
       "    </tr>\n",
       "    <tr>\n",
       "      <td>3</td>\n",
       "      <td>895</td>\n",
       "      <td>3</td>\n",
       "      <td>Wirz, Mr. Albert</td>\n",
       "      <td>male</td>\n",
       "      <td>27.0</td>\n",
       "      <td>0</td>\n",
       "      <td>0</td>\n",
       "      <td>315154</td>\n",
       "      <td>8.6625</td>\n",
       "      <td>NaN</td>\n",
       "      <td>S</td>\n",
       "      <td>0</td>\n",
       "    </tr>\n",
       "    <tr>\n",
       "      <td>4</td>\n",
       "      <td>896</td>\n",
       "      <td>3</td>\n",
       "      <td>Hirvonen, Mrs. Alexander (Helga E Lindqvist)</td>\n",
       "      <td>female</td>\n",
       "      <td>22.0</td>\n",
       "      <td>1</td>\n",
       "      <td>1</td>\n",
       "      <td>3101298</td>\n",
       "      <td>12.2875</td>\n",
       "      <td>NaN</td>\n",
       "      <td>S</td>\n",
       "      <td>1</td>\n",
       "    </tr>\n",
       "  </tbody>\n",
       "</table>\n",
       "</div>"
      ],
      "text/plain": [
       "   PassengerId  Pclass                                          Name     Sex  \\\n",
       "0          892       3                              Kelly, Mr. James    male   \n",
       "1          893       3              Wilkes, Mrs. James (Ellen Needs)  female   \n",
       "2          894       2                     Myles, Mr. Thomas Francis    male   \n",
       "3          895       3                              Wirz, Mr. Albert    male   \n",
       "4          896       3  Hirvonen, Mrs. Alexander (Helga E Lindqvist)  female   \n",
       "\n",
       "    Age  SibSp  Parch   Ticket     Fare Cabin Embarked  Gender  \n",
       "0  34.5      0      0   330911   7.8292   NaN        Q       0  \n",
       "1  47.0      1      0   363272   7.0000   NaN        S       1  \n",
       "2  62.0      0      0   240276   9.6875   NaN        Q       0  \n",
       "3  27.0      0      0   315154   8.6625   NaN        S       0  \n",
       "4  22.0      1      1  3101298  12.2875   NaN        S       1  "
      ]
     },
     "execution_count": 16,
     "metadata": {},
     "output_type": "execute_result"
    }
   ],
   "source": [
    "test_df['Fare'].fillna(test_df['Fare'].dropna().mode(), inplace=True)\n",
    "#bothdata[1]['Fare'] = combine[1]['Fare'].fillna(combine[1]['Fare'].dropna().mode())\n",
    "test_df.head()"
   ]
  },
  {
   "cell_type": "markdown",
   "metadata": {
    "colab_type": "text",
    "id": "PBc-KG70Kc9n"
   },
   "source": [
    "Q20: Convert the Fare feature to ordinal values based on the FareBanddefined follows:Ordinal Fare IndicatorFareBandSurvivied \n",
    "![image.png](data:image/png;base64,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)"
   ]
  },
  {
   "cell_type": "code",
   "execution_count": 17,
   "metadata": {
    "colab": {
     "base_uri": "https://localhost:8080/",
     "height": 669
    },
    "colab_type": "code",
    "id": "09aeAKudjlKF",
    "outputId": "3e7b15d9-6345-40d0-dd40-baa19b4f6da2"
   },
   "outputs": [
    {
     "data": {
      "text/html": [
       "<div>\n",
       "<style scoped>\n",
       "    .dataframe tbody tr th:only-of-type {\n",
       "        vertical-align: middle;\n",
       "    }\n",
       "\n",
       "    .dataframe tbody tr th {\n",
       "        vertical-align: top;\n",
       "    }\n",
       "\n",
       "    .dataframe thead th {\n",
       "        text-align: right;\n",
       "    }\n",
       "</style>\n",
       "<table border=\"1\" class=\"dataframe\">\n",
       "  <thead>\n",
       "    <tr style=\"text-align: right;\">\n",
       "      <th></th>\n",
       "      <th>PassengerId</th>\n",
       "      <th>Survived</th>\n",
       "      <th>Pclass</th>\n",
       "      <th>Name</th>\n",
       "      <th>Sex</th>\n",
       "      <th>Age</th>\n",
       "      <th>SibSp</th>\n",
       "      <th>Parch</th>\n",
       "      <th>Ticket</th>\n",
       "      <th>Fare</th>\n",
       "      <th>Cabin</th>\n",
       "      <th>Embarked</th>\n",
       "      <th>Gender</th>\n",
       "    </tr>\n",
       "  </thead>\n",
       "  <tbody>\n",
       "    <tr>\n",
       "      <td>0</td>\n",
       "      <td>1</td>\n",
       "      <td>0</td>\n",
       "      <td>3</td>\n",
       "      <td>Braund, Mr. Owen Harris</td>\n",
       "      <td>male</td>\n",
       "      <td>22.00000</td>\n",
       "      <td>1</td>\n",
       "      <td>0</td>\n",
       "      <td>A/5 21171</td>\n",
       "      <td>0.0</td>\n",
       "      <td>NaN</td>\n",
       "      <td>S</td>\n",
       "      <td>0</td>\n",
       "    </tr>\n",
       "    <tr>\n",
       "      <td>1</td>\n",
       "      <td>2</td>\n",
       "      <td>1</td>\n",
       "      <td>1</td>\n",
       "      <td>Cumings, Mrs. John Bradley (Florence Briggs Th...</td>\n",
       "      <td>female</td>\n",
       "      <td>38.00000</td>\n",
       "      <td>1</td>\n",
       "      <td>0</td>\n",
       "      <td>PC 17599</td>\n",
       "      <td>3.0</td>\n",
       "      <td>C85</td>\n",
       "      <td>C</td>\n",
       "      <td>1</td>\n",
       "    </tr>\n",
       "    <tr>\n",
       "      <td>2</td>\n",
       "      <td>3</td>\n",
       "      <td>1</td>\n",
       "      <td>3</td>\n",
       "      <td>Heikkinen, Miss. Laina</td>\n",
       "      <td>female</td>\n",
       "      <td>26.00000</td>\n",
       "      <td>0</td>\n",
       "      <td>0</td>\n",
       "      <td>STON/O2. 3101282</td>\n",
       "      <td>1.0</td>\n",
       "      <td>NaN</td>\n",
       "      <td>S</td>\n",
       "      <td>1</td>\n",
       "    </tr>\n",
       "    <tr>\n",
       "      <td>3</td>\n",
       "      <td>4</td>\n",
       "      <td>1</td>\n",
       "      <td>1</td>\n",
       "      <td>Futrelle, Mrs. Jacques Heath (Lily May Peel)</td>\n",
       "      <td>female</td>\n",
       "      <td>35.00000</td>\n",
       "      <td>1</td>\n",
       "      <td>0</td>\n",
       "      <td>113803</td>\n",
       "      <td>3.0</td>\n",
       "      <td>C123</td>\n",
       "      <td>S</td>\n",
       "      <td>1</td>\n",
       "    </tr>\n",
       "    <tr>\n",
       "      <td>4</td>\n",
       "      <td>5</td>\n",
       "      <td>0</td>\n",
       "      <td>3</td>\n",
       "      <td>Allen, Mr. William Henry</td>\n",
       "      <td>male</td>\n",
       "      <td>35.00000</td>\n",
       "      <td>0</td>\n",
       "      <td>0</td>\n",
       "      <td>373450</td>\n",
       "      <td>1.0</td>\n",
       "      <td>NaN</td>\n",
       "      <td>S</td>\n",
       "      <td>0</td>\n",
       "    </tr>\n",
       "    <tr>\n",
       "      <td>5</td>\n",
       "      <td>6</td>\n",
       "      <td>0</td>\n",
       "      <td>3</td>\n",
       "      <td>Moran, Mr. James</td>\n",
       "      <td>male</td>\n",
       "      <td>25.03856</td>\n",
       "      <td>0</td>\n",
       "      <td>0</td>\n",
       "      <td>330877</td>\n",
       "      <td>1.0</td>\n",
       "      <td>NaN</td>\n",
       "      <td>Q</td>\n",
       "      <td>0</td>\n",
       "    </tr>\n",
       "    <tr>\n",
       "      <td>6</td>\n",
       "      <td>7</td>\n",
       "      <td>0</td>\n",
       "      <td>1</td>\n",
       "      <td>McCarthy, Mr. Timothy J</td>\n",
       "      <td>male</td>\n",
       "      <td>54.00000</td>\n",
       "      <td>0</td>\n",
       "      <td>0</td>\n",
       "      <td>17463</td>\n",
       "      <td>3.0</td>\n",
       "      <td>E46</td>\n",
       "      <td>S</td>\n",
       "      <td>0</td>\n",
       "    </tr>\n",
       "    <tr>\n",
       "      <td>7</td>\n",
       "      <td>8</td>\n",
       "      <td>0</td>\n",
       "      <td>3</td>\n",
       "      <td>Palsson, Master. Gosta Leonard</td>\n",
       "      <td>male</td>\n",
       "      <td>2.00000</td>\n",
       "      <td>3</td>\n",
       "      <td>1</td>\n",
       "      <td>349909</td>\n",
       "      <td>2.0</td>\n",
       "      <td>NaN</td>\n",
       "      <td>S</td>\n",
       "      <td>0</td>\n",
       "    </tr>\n",
       "    <tr>\n",
       "      <td>8</td>\n",
       "      <td>9</td>\n",
       "      <td>1</td>\n",
       "      <td>3</td>\n",
       "      <td>Johnson, Mrs. Oscar W (Elisabeth Vilhelmina Berg)</td>\n",
       "      <td>female</td>\n",
       "      <td>27.00000</td>\n",
       "      <td>0</td>\n",
       "      <td>2</td>\n",
       "      <td>347742</td>\n",
       "      <td>1.0</td>\n",
       "      <td>NaN</td>\n",
       "      <td>S</td>\n",
       "      <td>1</td>\n",
       "    </tr>\n",
       "    <tr>\n",
       "      <td>9</td>\n",
       "      <td>10</td>\n",
       "      <td>1</td>\n",
       "      <td>2</td>\n",
       "      <td>Nasser, Mrs. Nicholas (Adele Achem)</td>\n",
       "      <td>female</td>\n",
       "      <td>14.00000</td>\n",
       "      <td>1</td>\n",
       "      <td>0</td>\n",
       "      <td>237736</td>\n",
       "      <td>2.0</td>\n",
       "      <td>NaN</td>\n",
       "      <td>C</td>\n",
       "      <td>1</td>\n",
       "    </tr>\n",
       "  </tbody>\n",
       "</table>\n",
       "</div>"
      ],
      "text/plain": [
       "   PassengerId  Survived  Pclass  \\\n",
       "0            1         0       3   \n",
       "1            2         1       1   \n",
       "2            3         1       3   \n",
       "3            4         1       1   \n",
       "4            5         0       3   \n",
       "5            6         0       3   \n",
       "6            7         0       1   \n",
       "7            8         0       3   \n",
       "8            9         1       3   \n",
       "9           10         1       2   \n",
       "\n",
       "                                                Name     Sex       Age  SibSp  \\\n",
       "0                            Braund, Mr. Owen Harris    male  22.00000      1   \n",
       "1  Cumings, Mrs. John Bradley (Florence Briggs Th...  female  38.00000      1   \n",
       "2                             Heikkinen, Miss. Laina  female  26.00000      0   \n",
       "3       Futrelle, Mrs. Jacques Heath (Lily May Peel)  female  35.00000      1   \n",
       "4                           Allen, Mr. William Henry    male  35.00000      0   \n",
       "5                                   Moran, Mr. James    male  25.03856      0   \n",
       "6                            McCarthy, Mr. Timothy J    male  54.00000      0   \n",
       "7                     Palsson, Master. Gosta Leonard    male   2.00000      3   \n",
       "8  Johnson, Mrs. Oscar W (Elisabeth Vilhelmina Berg)  female  27.00000      0   \n",
       "9                Nasser, Mrs. Nicholas (Adele Achem)  female  14.00000      1   \n",
       "\n",
       "   Parch            Ticket  Fare Cabin Embarked  Gender  \n",
       "0      0         A/5 21171   0.0   NaN        S       0  \n",
       "1      0          PC 17599   3.0   C85        C       1  \n",
       "2      0  STON/O2. 3101282   1.0   NaN        S       1  \n",
       "3      0            113803   3.0  C123        S       1  \n",
       "4      0            373450   1.0   NaN        S       0  \n",
       "5      0            330877   1.0   NaN        Q       0  \n",
       "6      0             17463   3.0   E46        S       0  \n",
       "7      1            349909   2.0   NaN        S       0  \n",
       "8      2            347742   1.0   NaN        S       1  \n",
       "9      0            237736   2.0   NaN        C       1  "
      ]
     },
     "execution_count": 17,
     "metadata": {},
     "output_type": "execute_result"
    }
   ],
   "source": [
    "\n",
    "train_df['FareBand'] = pd.qcut(train_df['Fare'], 4)\n",
    "train_df[['FareBand', 'Survived']].groupby(['FareBand'], as_index=False).mean().sort_values(by='FareBand', ascending=True)\n",
    "\n",
    "\n",
    "for dt in combine:\n",
    "    dt.loc[ dt['Fare'] <= 7.91, 'Fare'] = 0\n",
    "    dt.loc[(dt['Fare'] > 7.91) & (dt['Fare'] <= 14.454), 'Fare'] = 1\n",
    "    dt.loc[(dt['Fare'] > 14.454) & (dt['Fare'] <= 31), 'Fare']   = 2\n",
    "    dt.loc[ dt['Fare'] > 31, 'Fare'] = 3\n",
    "    dt['Fare'] = dt['Fare'].astype(float)\n",
    "\n",
    "train_df = train_df.drop(['FareBand'], axis=1)\n",
    "combine = [train_df, test_df]\n",
    "    \n",
    "train_df.head(10)"
   ]
  },
  {
   "cell_type": "code",
   "execution_count": null,
   "metadata": {},
   "outputs": [],
   "source": []
  }
 ],
 "metadata": {
  "colab": {
   "name": "2.ipynb",
   "provenance": [],
   "toc_visible": true
  },
  "kernelspec": {
   "display_name": "Python 3",
   "language": "python",
   "name": "python3"
  },
  "language_info": {
   "codemirror_mode": {
    "name": "ipython",
    "version": 3
   },
   "file_extension": ".py",
   "mimetype": "text/x-python",
   "name": "python",
   "nbconvert_exporter": "python",
   "pygments_lexer": "ipython3",
   "version": "3.7.4"
  }
 },
 "nbformat": 4,
 "nbformat_minor": 1
}

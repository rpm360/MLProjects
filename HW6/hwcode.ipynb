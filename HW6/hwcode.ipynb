{
 "cells": [
  {
   "cell_type": "code",
   "execution_count": 530,
   "metadata": {},
   "outputs": [
    {
     "data": {
      "text/html": [
       "<div>\n",
       "<style scoped>\n",
       "    .dataframe tbody tr th:only-of-type {\n",
       "        vertical-align: middle;\n",
       "    }\n",
       "\n",
       "    .dataframe tbody tr th {\n",
       "        vertical-align: top;\n",
       "    }\n",
       "\n",
       "    .dataframe thead th {\n",
       "        text-align: right;\n",
       "    }\n",
       "</style>\n",
       "<table border=\"1\" class=\"dataframe\">\n",
       "  <thead>\n",
       "    <tr style=\"text-align: right;\">\n",
       "      <th></th>\n",
       "      <th>Team</th>\n",
       "      <th>winsInSeason2016</th>\n",
       "      <th>winsInSeason2017</th>\n",
       "    </tr>\n",
       "  </thead>\n",
       "  <tbody>\n",
       "    <tr>\n",
       "      <td>0</td>\n",
       "      <td>X1</td>\n",
       "      <td>3</td>\n",
       "      <td>5</td>\n",
       "    </tr>\n",
       "    <tr>\n",
       "      <td>1</td>\n",
       "      <td>X2</td>\n",
       "      <td>3</td>\n",
       "      <td>4</td>\n",
       "    </tr>\n",
       "    <tr>\n",
       "      <td>2</td>\n",
       "      <td>X3</td>\n",
       "      <td>2</td>\n",
       "      <td>8</td>\n",
       "    </tr>\n",
       "    <tr>\n",
       "      <td>3</td>\n",
       "      <td>X4</td>\n",
       "      <td>2</td>\n",
       "      <td>3</td>\n",
       "    </tr>\n",
       "    <tr>\n",
       "      <td>4</td>\n",
       "      <td>X5</td>\n",
       "      <td>6</td>\n",
       "      <td>2</td>\n",
       "    </tr>\n",
       "    <tr>\n",
       "      <td>5</td>\n",
       "      <td>X6</td>\n",
       "      <td>6</td>\n",
       "      <td>4</td>\n",
       "    </tr>\n",
       "    <tr>\n",
       "      <td>6</td>\n",
       "      <td>X7</td>\n",
       "      <td>7</td>\n",
       "      <td>3</td>\n",
       "    </tr>\n",
       "    <tr>\n",
       "      <td>7</td>\n",
       "      <td>X8</td>\n",
       "      <td>7</td>\n",
       "      <td>4</td>\n",
       "    </tr>\n",
       "    <tr>\n",
       "      <td>8</td>\n",
       "      <td>X9</td>\n",
       "      <td>8</td>\n",
       "      <td>5</td>\n",
       "    </tr>\n",
       "    <tr>\n",
       "      <td>9</td>\n",
       "      <td>X10</td>\n",
       "      <td>7</td>\n",
       "      <td>6</td>\n",
       "    </tr>\n",
       "  </tbody>\n",
       "</table>\n",
       "</div>"
      ],
      "text/plain": [
       "  Team  winsInSeason2016  winsInSeason2017\n",
       "0   X1                 3                 5\n",
       "1   X2                 3                 4\n",
       "2   X3                 2                 8\n",
       "3   X4                 2                 3\n",
       "4   X5                 6                 2\n",
       "5   X6                 6                 4\n",
       "6   X7                 7                 3\n",
       "7   X8                 7                 4\n",
       "8   X9                 8                 5\n",
       "9  X10                 7                 6"
      ]
     },
     "execution_count": 530,
     "metadata": {},
     "output_type": "execute_result"
    }
   ],
   "source": [
    "import numpy as np\n",
    "import pandas as pd\n",
    "import seaborn as sns\n",
    "import math\n",
    "from enum import Enum\n",
    "from sklearn.preprocessing import normalize\n",
    "from scipy import stats\n",
    "from sklearn.metrics import accuracy_score\n",
    "data_df=pd.read_csv(\"teamsheet.csv\")\n",
    "datapoints=data_df.values[:,1:]\n",
    "data_df"
   ]
  },
  {
   "cell_type": "code",
   "execution_count": 531,
   "metadata": {},
   "outputs": [
    {
     "data": {
      "image/png": "[encoded data removed]",
      "text/plain": [
       "<Figure size 432x288 with 1 Axes>"
      ]
     },
     "metadata": {
      "needs_background": "light"
     },
     "output_type": "display_data"
    }
   ],
   "source": [
    "plot=sns.scatterplot(x='winsInSeason2016',y='winsInSeason2017',hue=\"Team\",data=data_df)"
   ]
  },
  {
   "cell_type": "code",
   "execution_count": 532,
   "metadata": {},
   "outputs": [],
   "source": [
    "    \n",
    "    \n",
    "def cosine(datapoints, c):\n",
    "    return 1-normalize(datapoints.reshape(-1, datapoints.shape[1]), axis=1).dot(normalize(c.reshape(-1, 1), axis=0))\n",
    "\n",
    "def jaccard(datapoints, c):\n",
    "    return (1-np.sum(np.minimum(datapoints,c),axis=1)/np.sum(np.maximum(datapoints,c),axis=1)).reshape(-1,1)\n",
    "\n",
    "def sse(datapoints, clusters, centroids, metric=eculidean):\n",
    "    result = 0\n",
    "    for i, centroid in enumerate(centroids):\n",
    "        result += np.sum(metric(datapoints[np.where(clusters==i)], centroid))\n",
    "    \n",
    "    return result\n",
    "\n",
    "def manhattan(datapoints, c):\n",
    "    return np.sum(np.abs(datapoints-c), axis=1).reshape(-1, 1)\n",
    "\n",
    "def eculidean(datapoints,c):\n",
    "    return np.sum((datapoints-c)**2, axis=1).reshape(-1,1)\n",
    "\n",
    "    "
   ]
  },
  {
   "cell_type": "code",
   "execution_count": 533,
   "metadata": {},
   "outputs": [],
   "source": [
    "def kmeans(centroids, datapoints,k=3, tol=1e-9, Maxteration=100, metric=3):\n",
    "  \n",
    "    np.random.seed(42)\n",
    "    \n",
    "    if centroids is None:\n",
    "        centroids =datapoints[np.random.choice(len(datapoints),size=k,replace=False)]\n",
    "    \n",
    "    \n",
    "    centroids = np.asarray(centroids)\n",
    "    \n",
    "    \n",
    "    \n",
    "    i=0\n",
    "    \n",
    "    metrics = {\n",
    "        \n",
    "       0: euclidean,\n",
    "        1: cosine,\n",
    "        2: jaccard,\n",
    "        3: manhattan\n",
    "        \n",
    "        \n",
    "    }\n",
    "\n",
    "    prevsse=None\n",
    "    currsse=None\n",
    "    old_clust=None\n",
    "    \n",
    "    while i<Maxteration:\n",
    "        dist=[]\n",
    "        for c in centroids:\n",
    "            dist.append(metrics[metric](datapoints,c))\n",
    "        \n",
    "        dist=np.concatenate(dist,axis=1)\n",
    "        clusters=np.argmin(dist,axis=1)\n",
    "        currsse = sse(datapoints, clusters, centroids)\n",
    "        newCentriod=[(np.mean if metric != 3 else np.median)(datapoints[np.where(clusters==i)], axis=0) for i in range(len(centroids))]\n",
    "        newdistance=0\n",
    "        \n",
    "        for x,y in zip(centroids,newCentriod):\n",
    "            newdistance += metrics[metric](np.array([list(x)]), np.array(list(y)))\n",
    "            \n",
    "        i=i+1\n",
    "        \n",
    "        if math.isclose(newdistance,0,abs_tol=tol) or (prevsse is not None and prevsse<currsse):\n",
    "            if (prevsse is not None and prevsse<currsse):\n",
    "                clusters=old_clust\n",
    "            \n",
    "            print(\"Iternation: {}\".format(i))\n",
    "            print(\"Previous SSE: {}\".format(prevsse))\n",
    "            print(\"Current SSE: {}\".format(currsse))\n",
    "            print(\" \")\n",
    "            print(\"No of Iternation: {}\".format(i))\n",
    "            print(\"Sum of Square Error: {} \".format(prevsse if prevsse<currsse else currsse))\n",
    "            return clusters\n",
    "        \n",
    "        print(\"Iternation: {}\".format(i))\n",
    "        print(\"Previous SSE: {}\".format(prevsse))\n",
    "        print(\"Current SSE: {}\".format(currsse))\n",
    "        prevsse=currsse\n",
    "        old_clust=clusters\n",
    "        centroids=newCentriod\n",
    "        \n",
    "\n",
    "        "
   ]
  },
  {
   "cell_type": "code",
   "execution_count": 534,
   "metadata": {},
   "outputs": [],
   "source": [
    "def scatterandclusters(datapoints,df,centroids,metrics=3):\n",
    "    clusters=kmeans(centroids,datapoints,metric=metrics)\n",
    "    df['clusters']=clusters\n",
    "    \n",
    "    \n",
    "    yx= sns.scatterplot(x='winsInSeason2016', y='winsInSeason2017', hue='clusters',data=df)"
   ]
  },
  {
   "cell_type": "markdown",
   "metadata": {},
   "source": [
    "### Question 1.1"
   ]
  },
  {
   "cell_type": "code",
   "execution_count": 535,
   "metadata": {},
   "outputs": [
    {
     "name": "stdout",
     "output_type": "stream",
     "text": [
      "Iternation: 1\n",
      "Previous SSE: None\n",
      "Current SSE: 58\n",
      "Iternation: 2\n",
      "Previous SSE: 58\n",
      "Current SSE: 37.0\n",
      "Iternation: 3\n",
      "Previous SSE: 37.0\n",
      "Current SSE: 29.0\n",
      " \n",
      "No of Iternation: 3\n",
      "Sum of Square Error: 29.0 \n"
     ]
    },
    {
     "data": {
      "image/png": "[encoded data removed]",
      "text/plain": [
       "<Figure size 432x288 with 1 Axes>"
      ]
     },
     "metadata": {
      "needs_background": "light"
     },
     "output_type": "display_data"
    }
   ],
   "source": [
    "scatterandclusters(datapoints,data_df,[[4,6],[5,4]])\n"
   ]
  },
  {
   "cell_type": "markdown",
   "metadata": {},
   "source": [
    "### Quesiton 1.2"
   ]
  },
  {
   "cell_type": "code",
   "execution_count": 536,
   "metadata": {},
   "outputs": [
    {
     "name": "stdout",
     "output_type": "stream",
     "text": [
      "Iternation: 1\n",
      "Previous SSE: None\n",
      "Current SSE: 57\n",
      "Iternation: 2\n",
      "Previous SSE: 57\n",
      "Current SSE: 43.96875\n",
      "Iternation: 3\n",
      "Previous SSE: 43.96875\n",
      "Current SSE: 27.833333333333332\n",
      " \n",
      "No of Iternation: 3\n",
      "Sum of Square Error: 27.833333333333332 \n"
     ]
    },
    {
     "data": {
      "image/png": "[encoded data removed]",
      "text/plain": [
       "<Figure size 432x288 with 1 Axes>"
      ]
     },
     "metadata": {
      "needs_background": "light"
     },
     "output_type": "display_data"
    }
   ],
   "source": [
    "scatterandclusters(datapoints,data_df, [[4,6], [5,4]], metrics=0)"
   ]
  },
  {
   "cell_type": "markdown",
   "metadata": {},
   "source": [
    "### Question 1.3"
   ]
  },
  {
   "cell_type": "code",
   "execution_count": 537,
   "metadata": {},
   "outputs": [
    {
     "name": "stdout",
     "output_type": "stream",
     "text": [
      "Iternation: 1\n",
      "Previous SSE: None\n",
      "Current SSE: 59\n",
      "Iternation: 2\n",
      "Previous SSE: 59\n",
      "Current SSE: 29.0\n",
      " \n",
      "No of Iternation: 2\n",
      "Sum of Square Error: 29.0 \n"
     ]
    },
    {
     "data": {
      "image/png": "[encoded data removed]",
      "text/plain": [
       "<Figure size 432x288 with 1 Axes>"
      ]
     },
     "metadata": {
      "needs_background": "light"
     },
     "output_type": "display_data"
    }
   ],
   "source": [
    "scatterandclusters(datapoints,data_df,[[3,3],[8,3]])"
   ]
  },
  {
   "cell_type": "markdown",
   "metadata": {},
   "source": [
    "### Question 1.4"
   ]
  },
  {
   "cell_type": "code",
   "execution_count": 538,
   "metadata": {},
   "outputs": [
    {
     "name": "stdout",
     "output_type": "stream",
     "text": [
      "Iternation: 1\n",
      "Previous SSE: None\n",
      "Current SSE: 116\n",
      "Iternation: 2\n",
      "Previous SSE: 116\n",
      "Current SSE: 74.0\n",
      " \n",
      "No of Iternation: 2\n",
      "Sum of Square Error: 74.0 \n"
     ]
    },
    {
     "data": {
      "image/png": "[encoded data removed]",
      "text/plain": [
       "<Figure size 432x288 with 1 Axes>"
      ]
     },
     "metadata": {
      "needs_background": "light"
     },
     "output_type": "display_data"
    }
   ],
   "source": [
    "scatterandclusters(datapoints,data_df,[[3,2],[4,8]])"
   ]
  },
  {
   "cell_type": "markdown",
   "metadata": {},
   "source": [
    "Observations:\n",
    "When using the Euclidean the local maxima leads to the same centriods even with different \n",
    "initial configuation as given above.\n",
    "With Manhattan distance dosn't try to find the best maxima when compared with euclidean distance which can be ovebse in 1.3 and 1.4 repectively \n"
   ]
  },
  {
   "cell_type": "markdown",
   "metadata": {},
   "source": [
    "### Question 2"
   ]
  },
  {
   "cell_type": "code",
   "execution_count": 551,
   "metadata": {},
   "outputs": [
    {
     "data": {
      "text/plain": [
       "array([[5.1, 3.5, 1.4, 0.2],\n",
       "       [4.9, 3. , 1.4, 0.2],\n",
       "       [4.7, 3.2, 1.3, 0.2],\n",
       "       [4.6, 3.1, 1.5, 0.2],\n",
       "       [5. , 3.6, 1.4, 0.2],\n",
       "       [5.4, 3.9, 1.7, 0.4],\n",
       "       [4.6, 3.4, 1.4, 0.3],\n",
       "       [5. , 3.4, 1.5, 0.2],\n",
       "       [4.4, 2.9, 1.4, 0.2],\n",
       "       [4.9, 3.1, 1.5, 0.1],\n",
       "       [5.4, 3.7, 1.5, 0.2],\n",
       "       [4.8, 3.4, 1.6, 0.2],\n",
       "       [4.8, 3. , 1.4, 0.1],\n",
       "       [4.3, 3. , 1.1, 0.1],\n",
       "       [5.8, 4. , 1.2, 0.2],\n",
       "       [5.7, 4.4, 1.5, 0.4],\n",
       "       [5.4, 3.9, 1.3, 0.4],\n",
       "       [5.1, 3.5, 1.4, 0.3],\n",
       "       [5.7, 3.8, 1.7, 0.3],\n",
       "       [5.1, 3.8, 1.5, 0.3],\n",
       "       [5.4, 3.4, 1.7, 0.2],\n",
       "       [5.1, 3.7, 1.5, 0.4],\n",
       "       [4.6, 3.6, 1. , 0.2],\n",
       "       [5.1, 3.3, 1.7, 0.5],\n",
       "       [4.8, 3.4, 1.9, 0.2],\n",
       "       [5. , 3. , 1.6, 0.2],\n",
       "       [5. , 3.4, 1.6, 0.4],\n",
       "       [5.2, 3.5, 1.5, 0.2],\n",
       "       [5.2, 3.4, 1.4, 0.2],\n",
       "       [4.7, 3.2, 1.6, 0.2],\n",
       "       [4.8, 3.1, 1.6, 0.2],\n",
       "       [5.4, 3.4, 1.5, 0.4],\n",
       "       [5.2, 4.1, 1.5, 0.1],\n",
       "       [5.5, 4.2, 1.4, 0.2],\n",
       "       [4.9, 3.1, 1.5, 0.2],\n",
       "       [5. , 3.2, 1.2, 0.2],\n",
       "       [5.5, 3.5, 1.3, 0.2],\n",
       "       [4.9, 3.6, 1.4, 0.1],\n",
       "       [4.4, 3. , 1.3, 0.2],\n",
       "       [5.1, 3.4, 1.5, 0.2],\n",
       "       [5. , 3.5, 1.3, 0.3],\n",
       "       [4.5, 2.3, 1.3, 0.3],\n",
       "       [4.4, 3.2, 1.3, 0.2],\n",
       "       [5. , 3.5, 1.6, 0.6],\n",
       "       [5.1, 3.8, 1.9, 0.4],\n",
       "       [4.8, 3. , 1.4, 0.3],\n",
       "       [5.1, 3.8, 1.6, 0.2],\n",
       "       [4.6, 3.2, 1.4, 0.2],\n",
       "       [5.3, 3.7, 1.5, 0.2],\n",
       "       [5. , 3.3, 1.4, 0.2],\n",
       "       [7. , 3.2, 4.7, 1.4],\n",
       "       [6.4, 3.2, 4.5, 1.5],\n",
       "       [6.9, 3.1, 4.9, 1.5],\n",
       "       [5.5, 2.3, 4. , 1.3],\n",
       "       [6.5, 2.8, 4.6, 1.5],\n",
       "       [5.7, 2.8, 4.5, 1.3],\n",
       "       [6.3, 3.3, 4.7, 1.6],\n",
       "       [4.9, 2.4, 3.3, 1. ],\n",
       "       [6.6, 2.9, 4.6, 1.3],\n",
       "       [5.2, 2.7, 3.9, 1.4],\n",
       "       [5. , 2. , 3.5, 1. ],\n",
       "       [5.9, 3. , 4.2, 1.5],\n",
       "       [6. , 2.2, 4. , 1. ],\n",
       "       [6.1, 2.9, 4.7, 1.4],\n",
       "       [5.6, 2.9, 3.6, 1.3],\n",
       "       [6.7, 3.1, 4.4, 1.4],\n",
       "       [5.6, 3. , 4.5, 1.5],\n",
       "       [5.8, 2.7, 4.1, 1. ],\n",
       "       [6.2, 2.2, 4.5, 1.5],\n",
       "       [5.6, 2.5, 3.9, 1.1],\n",
       "       [5.9, 3.2, 4.8, 1.8],\n",
       "       [6.1, 2.8, 4. , 1.3],\n",
       "       [6.3, 2.5, 4.9, 1.5],\n",
       "       [6.1, 2.8, 4.7, 1.2],\n",
       "       [6.4, 2.9, 4.3, 1.3],\n",
       "       [6.6, 3. , 4.4, 1.4],\n",
       "       [6.8, 2.8, 4.8, 1.4],\n",
       "       [6.7, 3. , 5. , 1.7],\n",
       "       [6. , 2.9, 4.5, 1.5],\n",
       "       [5.7, 2.6, 3.5, 1. ],\n",
       "       [5.5, 2.4, 3.8, 1.1],\n",
       "       [5.5, 2.4, 3.7, 1. ],\n",
       "       [5.8, 2.7, 3.9, 1.2],\n",
       "       [6. , 2.7, 5.1, 1.6],\n",
       "       [5.4, 3. , 4.5, 1.5],\n",
       "       [6. , 3.4, 4.5, 1.6],\n",
       "       [6.7, 3.1, 4.7, 1.5],\n",
       "       [6.3, 2.3, 4.4, 1.3],\n",
       "       [5.6, 3. , 4.1, 1.3],\n",
       "       [5.5, 2.5, 4. , 1.3],\n",
       "       [5.5, 2.6, 4.4, 1.2],\n",
       "       [6.1, 3. , 4.6, 1.4],\n",
       "       [5.8, 2.6, 4. , 1.2],\n",
       "       [5. , 2.3, 3.3, 1. ],\n",
       "       [5.6, 2.7, 4.2, 1.3],\n",
       "       [5.7, 3. , 4.2, 1.2],\n",
       "       [5.7, 2.9, 4.2, 1.3],\n",
       "       [6.2, 2.9, 4.3, 1.3],\n",
       "       [5.1, 2.5, 3. , 1.1],\n",
       "       [5.7, 2.8, 4.1, 1.3],\n",
       "       [6.3, 3.3, 6. , 2.5],\n",
       "       [5.8, 2.7, 5.1, 1.9],\n",
       "       [7.1, 3. , 5.9, 2.1],\n",
       "       [6.3, 2.9, 5.6, 1.8],\n",
       "       [6.5, 3. , 5.8, 2.2],\n",
       "       [7.6, 3. , 6.6, 2.1],\n",
       "       [4.9, 2.5, 4.5, 1.7],\n",
       "       [7.3, 2.9, 6.3, 1.8],\n",
       "       [6.7, 2.5, 5.8, 1.8],\n",
       "       [7.2, 3.6, 6.1, 2.5],\n",
       "       [6.5, 3.2, 5.1, 2. ],\n",
       "       [6.4, 2.7, 5.3, 1.9],\n",
       "       [6.8, 3. , 5.5, 2.1],\n",
       "       [5.7, 2.5, 5. , 2. ],\n",
       "       [5.8, 2.8, 5.1, 2.4],\n",
       "       [6.4, 3.2, 5.3, 2.3],\n",
       "       [6.5, 3. , 5.5, 1.8],\n",
       "       [7.7, 3.8, 6.7, 2.2],\n",
       "       [7.7, 2.6, 6.9, 2.3],\n",
       "       [6. , 2.2, 5. , 1.5],\n",
       "       [6.9, 3.2, 5.7, 2.3],\n",
       "       [5.6, 2.8, 4.9, 2. ],\n",
       "       [7.7, 2.8, 6.7, 2. ],\n",
       "       [6.3, 2.7, 4.9, 1.8],\n",
       "       [6.7, 3.3, 5.7, 2.1],\n",
       "       [7.2, 3.2, 6. , 1.8],\n",
       "       [6.2, 2.8, 4.8, 1.8],\n",
       "       [6.1, 3. , 4.9, 1.8],\n",
       "       [6.4, 2.8, 5.6, 2.1],\n",
       "       [7.2, 3. , 5.8, 1.6],\n",
       "       [7.4, 2.8, 6.1, 1.9],\n",
       "       [7.9, 3.8, 6.4, 2. ],\n",
       "       [6.4, 2.8, 5.6, 2.2],\n",
       "       [6.3, 2.8, 5.1, 1.5],\n",
       "       [6.1, 2.6, 5.6, 1.4],\n",
       "       [7.7, 3. , 6.1, 2.3],\n",
       "       [6.3, 3.4, 5.6, 2.4],\n",
       "       [6.4, 3.1, 5.5, 1.8],\n",
       "       [6. , 3. , 4.8, 1.8],\n",
       "       [6.9, 3.1, 5.4, 2.1],\n",
       "       [6.7, 3.1, 5.6, 2.4],\n",
       "       [6.9, 3.1, 5.1, 2.3],\n",
       "       [5.8, 2.7, 5.1, 1.9],\n",
       "       [6.8, 3.2, 5.9, 2.3],\n",
       "       [6.7, 3.3, 5.7, 2.5],\n",
       "       [6.7, 3. , 5.2, 2.3],\n",
       "       [6.3, 2.5, 5. , 1.9],\n",
       "       [6.5, 3. , 5.2, 2. ],\n",
       "       [6.2, 3.4, 5.4, 2.3],\n",
       "       [5.9, 3. , 5.1, 1.8]])"
      ]
     },
     "execution_count": 551,
     "metadata": {},
     "output_type": "execute_result"
    }
   ],
   "source": [
    "from sklearn.datasets import load_iris\n",
    "datasetiris=load_iris()\n",
    "datasetiris.data"
   ]
  },
  {
   "cell_type": "code",
   "execution_count": 540,
   "metadata": {},
   "outputs": [
    {
     "data": {
      "text/plain": [
       "array([0, 0, 0, 0, 0, 0, 0, 0, 0, 0, 0, 0, 0, 0, 0, 0, 0, 0, 0, 0, 0, 0,\n",
       "       0, 0, 0, 0, 0, 0, 0, 0, 0, 0, 0, 0, 0, 0, 0, 0, 0, 0, 0, 0, 0, 0,\n",
       "       0, 0, 0, 0, 0, 0, 1, 1, 1, 1, 1, 1, 1, 1, 1, 1, 1, 1, 1, 1, 1, 1,\n",
       "       1, 1, 1, 1, 1, 1, 1, 1, 1, 1, 1, 1, 1, 1, 1, 1, 1, 1, 1, 1, 1, 1,\n",
       "       1, 1, 1, 1, 1, 1, 1, 1, 1, 1, 1, 1, 2, 2, 2, 2, 2, 2, 2, 2, 2, 2,\n",
       "       2, 2, 2, 2, 2, 2, 2, 2, 2, 2, 2, 2, 2, 2, 2, 2, 2, 2, 2, 2, 2, 2,\n",
       "       2, 2, 2, 2, 2, 2, 2, 2, 2, 2, 2, 2, 2, 2, 2, 2, 2, 2])"
      ]
     },
     "execution_count": 540,
     "metadata": {},
     "output_type": "execute_result"
    }
   ],
   "source": [
    "datasetiris.target"
   ]
  },
  {
   "cell_type": "code",
   "execution_count": 541,
   "metadata": {},
   "outputs": [
    {
     "name": "stdout",
     "output_type": "stream",
     "text": [
      "Iternation: 1\n",
      "Previous SSE: None\n",
      "Current SSE: 162.21\n",
      "Iternation: 2\n",
      "Previous SSE: 162.21\n",
      "Current SSE: 91.74345963435378\n",
      "Iternation: 3\n",
      "Previous SSE: 91.74345963435378\n",
      "Current SSE: 83.02104835746147\n",
      "Iternation: 4\n",
      "Previous SSE: 83.02104835746147\n",
      "Current SSE: 79.61572102298426\n",
      "Iternation: 5\n",
      "Previous SSE: 79.61572102298426\n",
      "Current SSE: 79.01204896074461\n",
      "Iternation: 6\n",
      "Previous SSE: 79.01204896074461\n",
      "Current SSE: 78.85144142614601\n",
      " \n",
      "No of Iternation: 6\n",
      "Sum of Square Error: 78.85144142614601 \n"
     ]
    }
   ],
   "source": [
    "#### Euclidean Distance\n",
    "\n",
    "e_clusters=kmeans(None,datasetiris.data,k=3,metric=0)\n"
   ]
  },
  {
   "cell_type": "code",
   "execution_count": 542,
   "metadata": {},
   "outputs": [
    {
     "name": "stdout",
     "output_type": "stream",
     "text": [
      "Iternation: 1\n",
      "Previous SSE: None\n",
      "Current SSE: 252.45000000000007\n",
      "Iternation: 2\n",
      "Previous SSE: 252.45000000000007\n",
      "Current SSE: 109.36686658944242\n",
      "Iternation: 3\n",
      "Previous SSE: 109.36686658944242\n",
      "Current SSE: 101.13367336186019\n",
      "Iternation: 4\n",
      "Previous SSE: 101.13367336186019\n",
      "Current SSE: 92.93030809618764\n",
      "Iternation: 5\n",
      "Previous SSE: 92.93030809618764\n",
      "Current SSE: 91.98930917874395\n",
      " \n",
      "No of Iternation: 5\n",
      "Sum of Square Error: 91.98930917874395 \n"
     ]
    }
   ],
   "source": [
    "### Consine Similarity\n",
    "\n",
    "c_cluster=kmeans(None,datasetiris.data,k=3,metric=1)\n"
   ]
  },
  {
   "cell_type": "code",
   "execution_count": 543,
   "metadata": {},
   "outputs": [
    {
     "name": "stdout",
     "output_type": "stream",
     "text": [
      "Iternation: 1\n",
      "Previous SSE: None\n",
      "Current SSE: 166.01\n",
      "Iternation: 2\n",
      "Previous SSE: 166.01\n",
      "Current SSE: 86.32123489331185\n",
      "Iternation: 3\n",
      "Previous SSE: 86.32123489331185\n",
      "Current SSE: 79.39432885317473\n",
      "Iternation: 4\n",
      "Previous SSE: 79.39432885317473\n",
      "Current SSE: 79.16344154984179\n",
      "Iternation: 5\n",
      "Previous SSE: 79.16344154984179\n",
      "Current SSE: 79.09734974533107\n",
      " \n",
      "No of Iternation: 5\n",
      "Sum of Square Error: 79.09734974533107 \n"
     ]
    }
   ],
   "source": [
    "### Jaccard Similarity\n",
    "\n",
    "j_cluster=kmeans(None,datasetiris.data,k=3,metric=2)\n"
   ]
  },
  {
   "cell_type": "markdown",
   "metadata": {},
   "source": [
    "### Question 2.1\n",
    "\n",
    "When we compare the SSE we get the Euclidean distance as the best compared to other distance metrics. As it has SSE lower than 100 in most iteration. "
   ]
  },
  {
   "cell_type": "markdown",
   "metadata": {},
   "source": [
    "### Question 2.2"
   ]
  },
  {
   "cell_type": "code",
   "execution_count": 544,
   "metadata": {},
   "outputs": [
    {
     "name": "stdout",
     "output_type": "stream",
     "text": [
      "accuracy for Euclidean distance metric: 0.89\n",
      "accuracy for Cosine distance metric: 0.97\n",
      "accuracy for Jaccard distance metric: 0.88\n"
     ]
    }
   ],
   "source": [
    "def predictscore(listofcluster,y,k=3):\n",
    "    \n",
    "    labels=[]\n",
    "    ids=[]\n",
    "    \n",
    "    for i in range(k):\n",
    "        ids.append(np.where(cluster==i))\n",
    "    \n",
    "    \n",
    "    for c in ids:\n",
    "        modeofdata = int(stats.mode(y[c])[0])\n",
    "        listofcluster[c]=modeofdata\n",
    "    \n",
    "    return listofcluster\n",
    "\n",
    "\n",
    "for cluster,method in zip ((e_clusters,c_cluster,j_cluster),('Euclidean','Cosine','Jaccard')):\n",
    "    accuracy=accuracy_score(datasetiris.target,predictscore(cluster,datasetiris.target))\n",
    "    print(\"accuracy for {} distance metric: {:.2f}\".format(method,accuracy))"
   ]
  },
  {
   "cell_type": "markdown",
   "metadata": {},
   "source": [
    "From the above we can conclude that consine similarity is metrics is better compared to other as it has the highest accuracy of all. This is due to consine similarity work well in muti-dimensions as it considers the angle between the two vector so even if the distance between two points is high the angle might be low which plays a crucial role while forming the clusters. "
   ]
  },
  {
   "cell_type": "markdown",
   "metadata": {},
   "source": [
    "### Question 2.3\n",
    "\n",
    "\n",
    "Euclidean-k means requries more iteration compared Jaccard and Cosine. As it calcuate distance between centriod and other datapoints it forms small cluster which result in more iteration in euclidean distance. Also euclidean distance works worst with outliers dataset."
   ]
  },
  {
   "cell_type": "code",
   "execution_count": 545,
   "metadata": {},
   "outputs": [
    {
     "name": "stdout",
     "output_type": "stream",
     "text": [
      "Iternation: 1\n",
      "Previous SSE: None\n",
      "Current SSE: 379.1\n",
      "Iternation: 2\n",
      "Previous SSE: 379.1\n",
      "Current SSE: 118.63605287711948\n",
      "Iternation: 3\n",
      "Previous SSE: 118.63605287711948\n",
      "Current SSE: 97.50886925177161\n",
      "Iternation: 4\n",
      "Previous SSE: 97.50886925177161\n",
      "Current SSE: 86.29439304485368\n",
      "Iternation: 5\n",
      "Previous SSE: 86.29439304485368\n",
      "Current SSE: 79.86398439527466\n",
      "Iternation: 6\n",
      "Previous SSE: 79.86398439527466\n",
      "Current SSE: 79.19714263977782\n",
      "Iternation: 7\n",
      "Previous SSE: 79.19714263977782\n",
      "Current SSE: 78.85144142614601\n",
      " \n",
      "No of Iternation: 7\n",
      "Sum of Square Error: 78.85144142614601 \n"
     ]
    }
   ],
   "source": [
    "#Q2.4\n",
    "##### when there is no change in centriod position.\n",
    "##### when the maximum preset value (100) of iteration is complete \n",
    "##### when the SSE value increases in the next iteration\n",
    "e_clusters=kmeans([[7.1,3.8,5.7,2.2],\n",
    " [5.7,3.8,1.7,0.3],\n",
    " [7.7,2.6,6.9,2.3]],datasetiris.data,k=3,metric=0)"
   ]
  },
  {
   "cell_type": "code",
   "execution_count": 546,
   "metadata": {},
   "outputs": [
    {
     "name": "stdout",
     "output_type": "stream",
     "text": [
      "Iternation: 1\n",
      "Previous SSE: None\n",
      "Current SSE: 381.9000000000001\n",
      "Iternation: 2\n",
      "Previous SSE: 381.9000000000001\n",
      "Current SSE: 114.84182240377156\n",
      "Iternation: 3\n",
      "Previous SSE: 114.84182240377156\n",
      "Current SSE: 89.91254802419698\n",
      "Iternation: 4\n",
      "Previous SSE: 89.91254802419698\n",
      "Current SSE: 79.92708472777898\n",
      "Iternation: 5\n",
      "Previous SSE: 79.92708472777898\n",
      "Current SSE: 79.16344154984179\n",
      "Iternation: 6\n",
      "Previous SSE: 79.16344154984179\n",
      "Current SSE: 79.09734974533107\n",
      " \n",
      "No of Iternation: 6\n",
      "Sum of Square Error: 79.09734974533107 \n"
     ]
    }
   ],
   "source": [
    "j_cluster=kmeans([[7.1,3.8,5.7,2.2],\n",
    " [5.7,3.8,1.7,0.3],\n",
    " [7.7,2.6,6.9,2.3]],datasetiris.data,k=3,metric=2)"
   ]
  },
  {
   "cell_type": "code",
   "execution_count": 547,
   "metadata": {},
   "outputs": [
    {
     "name": "stdout",
     "output_type": "stream",
     "text": [
      "Iternation: 1\n",
      "Previous SSE: None\n",
      "Current SSE: 457.8\n",
      "Iternation: 2\n",
      "Previous SSE: 457.8\n",
      "Current SSE: 129.517346492178\n",
      "Iternation: 3\n",
      "Previous SSE: 129.517346492178\n",
      "Current SSE: 107.35772139943839\n",
      "Iternation: 4\n",
      "Previous SSE: 107.35772139943839\n",
      "Current SSE: 98.07865137459942\n",
      "Iternation: 5\n",
      "Previous SSE: 98.07865137459942\n",
      "Current SSE: 92.22181104125576\n",
      "Iternation: 6\n",
      "Previous SSE: 92.22181104125576\n",
      "Current SSE: 91.98930917874395\n",
      " \n",
      "No of Iternation: 6\n",
      "Sum of Square Error: 91.98930917874395 \n"
     ]
    }
   ],
   "source": [
    "c_cluster=kmeans([[7.1,3.8,5.7,2.2],\n",
    " [5.7,3.8,1.7,0.3],\n",
    " [7.7,2.6,6.9,2.3]],datasetiris.data,k=3,metric=1)"
   ]
  },
  {
   "cell_type": "markdown",
   "metadata": {},
   "source": [
    "### Question 2.4\n",
    "\n",
    "\n",
    "From the above configuration as mentioned in problem statment, when we keep same centriod we get the above results.In which Euclidean distance takes most number of iteration while it has Least value of SSE. It takes more time and more time to create above result as in Euclidean-kmeans takes create small cluster. Also it's performance is worst when we deal with outliers dataset. "
   ]
  },
  {
   "cell_type": "markdown",
   "metadata": {},
   "source": [
    "### Question 3\n",
    "\n",
    "(Kmeans general idea)\n",
    "\n",
    "Kmeans is an unsupervised learning method which can be used with unlabelled dataset.K-means tries to group item based on their property. The properties should be quantifiable i.e should be expressed in number as distance metrics. It has centroid in each cluster which represents the center of the cluster. A data point is assigned a cluster based on the proximity to the nearest centroid. This process continues until the cluster starts overlapping each other. K-means tends to work fast for small values of K.\n",
    "\n",
    "K-mean fails when clusters have an uneven number of points. Also, it fails to work with non-spherical clusters.\n",
    "\n",
    "K-means is simple to implement and is faster than hierarchical clustering when the value of k is small. K-means is cost-effective(computationally). Performs well when the clusters are spherical. \n",
    "\n",
    "K-means fails when the value of K is not ideal for the dataset, Also when there are clusters of varying size and density. K-mean struggles when the number of dimensions increases in the dataset and K-means only works with numerical data so preprocessing of data is necessary \n",
    "\n",
    "It is hard to predict the correct value of no clusters and initially, values may sway the results in any direction. This could be overcome by visually selecting good centroids rather than having a randomly assigned initial centroid. There are few ways like the Elbow method, the Silhouette method, etc.\n",
    "\n",
    "    \n"
   ]
  },
  {
   "cell_type": "markdown",
   "metadata": {},
   "source": [
    "https://github.com/rpm360/MLassignment/blob/master/HW6/hwcode.ipynb\n"
   ]
  }
 ],
 "metadata": {
  "kernelspec": {
   "display_name": "Python 3",
   "language": "python",
   "name": "python3"
  },
  "language_info": {
   "codemirror_mode": {
    "name": "ipython",
    "version": 3
   },
   "file_extension": ".py",
   "mimetype": "text/x-python",
   "name": "python",
   "nbconvert_exporter": "python",
   "pygments_lexer": "ipython3",
   "version": "3.7.4"
  }
 },
 "nbformat": 4,
 "nbformat_minor": 2
}

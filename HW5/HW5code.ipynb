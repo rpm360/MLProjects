{
 "cells": [
  {
   "cell_type": "code",
   "execution_count": 114,
   "metadata": {},
   "outputs": [],
   "source": [
    "import pandas as pd\n",
    "import numpy as np\n",
    "from sklearn import model_selection\n",
    "from sklearn.utils import shuffle\n",
    "from sklearn.tree import DecisionTreeClassifier\n",
    "from sklearn.externals import joblib\n",
    "from sklearn import neighbors\n",
    "from sklearn import metrics\n",
    "import matplotlib.pyplot as plt\n",
    "import seaborn as sns"
   ]
  },
  {
   "cell_type": "code",
   "execution_count": 115,
   "metadata": {},
   "outputs": [
    {
     "data": {
      "text/html": [
       "<div>\n",
       "<style scoped>\n",
       "    .dataframe tbody tr th:only-of-type {\n",
       "        vertical-align: middle;\n",
       "    }\n",
       "\n",
       "    .dataframe tbody tr th {\n",
       "        vertical-align: top;\n",
       "    }\n",
       "\n",
       "    .dataframe thead th {\n",
       "        text-align: right;\n",
       "    }\n",
       "</style>\n",
       "<table border=\"1\" class=\"dataframe\">\n",
       "  <thead>\n",
       "    <tr style=\"text-align: right;\">\n",
       "      <th></th>\n",
       "      <th>sepalLength</th>\n",
       "      <th>sepalWidth</th>\n",
       "      <th>petalLength</th>\n",
       "      <th>petalWidth</th>\n",
       "      <th>class</th>\n",
       "    </tr>\n",
       "  </thead>\n",
       "  <tbody>\n",
       "    <tr>\n",
       "      <td>0</td>\n",
       "      <td>5.1</td>\n",
       "      <td>3.5</td>\n",
       "      <td>1.4</td>\n",
       "      <td>0.2</td>\n",
       "      <td>Iris-setosa</td>\n",
       "    </tr>\n",
       "    <tr>\n",
       "      <td>1</td>\n",
       "      <td>4.9</td>\n",
       "      <td>3.0</td>\n",
       "      <td>1.4</td>\n",
       "      <td>0.2</td>\n",
       "      <td>Iris-setosa</td>\n",
       "    </tr>\n",
       "    <tr>\n",
       "      <td>2</td>\n",
       "      <td>4.7</td>\n",
       "      <td>3.2</td>\n",
       "      <td>1.3</td>\n",
       "      <td>0.2</td>\n",
       "      <td>Iris-setosa</td>\n",
       "    </tr>\n",
       "    <tr>\n",
       "      <td>3</td>\n",
       "      <td>4.6</td>\n",
       "      <td>3.1</td>\n",
       "      <td>1.5</td>\n",
       "      <td>0.2</td>\n",
       "      <td>Iris-setosa</td>\n",
       "    </tr>\n",
       "    <tr>\n",
       "      <td>4</td>\n",
       "      <td>5.0</td>\n",
       "      <td>3.6</td>\n",
       "      <td>1.4</td>\n",
       "      <td>0.2</td>\n",
       "      <td>Iris-setosa</td>\n",
       "    </tr>\n",
       "  </tbody>\n",
       "</table>\n",
       "</div>"
      ],
      "text/plain": [
       "   sepalLength  sepalWidth  petalLength  petalWidth        class\n",
       "0          5.1         3.5          1.4         0.2  Iris-setosa\n",
       "1          4.9         3.0          1.4         0.2  Iris-setosa\n",
       "2          4.7         3.2          1.3         0.2  Iris-setosa\n",
       "3          4.6         3.1          1.5         0.2  Iris-setosa\n",
       "4          5.0         3.6          1.4         0.2  Iris-setosa"
      ]
     },
     "execution_count": 115,
     "metadata": {},
     "output_type": "execute_result"
    }
   ],
   "source": [
    "inputdf=pd.read_csv(\"iris.data\",sep=\",\", header=None,names=['sepalLength', 'sepalWidth', 'petalLength', 'petalWidth', 'class'])\n",
    "inputdf.head()"
   ]
  },
  {
   "cell_type": "code",
   "execution_count": 116,
   "metadata": {},
   "outputs": [
    {
     "name": "stdout",
     "output_type": "stream",
     "text": [
      "<class 'pandas.core.frame.DataFrame'>\n",
      "RangeIndex: 150 entries, 0 to 149\n",
      "Data columns (total 5 columns):\n",
      "sepalLength    150 non-null float64\n",
      "sepalWidth     150 non-null float64\n",
      "petalLength    150 non-null float64\n",
      "petalWidth     150 non-null float64\n",
      "class          150 non-null object\n",
      "dtypes: float64(4), object(1)\n",
      "memory usage: 6.0+ KB\n"
     ]
    }
   ],
   "source": [
    "inputdf[\"class\"].unique()\n",
    "inputdf.info()"
   ]
  },
  {
   "cell_type": "code",
   "execution_count": 117,
   "metadata": {},
   "outputs": [
    {
     "data": {
      "text/html": [
       "<div>\n",
       "<style scoped>\n",
       "    .dataframe tbody tr th:only-of-type {\n",
       "        vertical-align: middle;\n",
       "    }\n",
       "\n",
       "    .dataframe tbody tr th {\n",
       "        vertical-align: top;\n",
       "    }\n",
       "\n",
       "    .dataframe thead th {\n",
       "        text-align: right;\n",
       "    }\n",
       "</style>\n",
       "<table border=\"1\" class=\"dataframe\">\n",
       "  <thead>\n",
       "    <tr style=\"text-align: right;\">\n",
       "      <th></th>\n",
       "      <th>sepalLength</th>\n",
       "      <th>sepalWidth</th>\n",
       "      <th>petalLength</th>\n",
       "      <th>petalWidth</th>\n",
       "      <th>class</th>\n",
       "    </tr>\n",
       "  </thead>\n",
       "  <tbody>\n",
       "    <tr>\n",
       "      <td>0</td>\n",
       "      <td>5.1</td>\n",
       "      <td>3.5</td>\n",
       "      <td>1.4</td>\n",
       "      <td>0.2</td>\n",
       "      <td>0</td>\n",
       "    </tr>\n",
       "    <tr>\n",
       "      <td>1</td>\n",
       "      <td>4.9</td>\n",
       "      <td>3.0</td>\n",
       "      <td>1.4</td>\n",
       "      <td>0.2</td>\n",
       "      <td>0</td>\n",
       "    </tr>\n",
       "    <tr>\n",
       "      <td>2</td>\n",
       "      <td>4.7</td>\n",
       "      <td>3.2</td>\n",
       "      <td>1.3</td>\n",
       "      <td>0.2</td>\n",
       "      <td>0</td>\n",
       "    </tr>\n",
       "    <tr>\n",
       "      <td>3</td>\n",
       "      <td>4.6</td>\n",
       "      <td>3.1</td>\n",
       "      <td>1.5</td>\n",
       "      <td>0.2</td>\n",
       "      <td>0</td>\n",
       "    </tr>\n",
       "    <tr>\n",
       "      <td>4</td>\n",
       "      <td>5.0</td>\n",
       "      <td>3.6</td>\n",
       "      <td>1.4</td>\n",
       "      <td>0.2</td>\n",
       "      <td>0</td>\n",
       "    </tr>\n",
       "  </tbody>\n",
       "</table>\n",
       "</div>"
      ],
      "text/plain": [
       "   sepalLength  sepalWidth  petalLength  petalWidth  class\n",
       "0          5.1         3.5          1.4         0.2      0\n",
       "1          4.9         3.0          1.4         0.2      0\n",
       "2          4.7         3.2          1.3         0.2      0\n",
       "3          4.6         3.1          1.5         0.2      0\n",
       "4          5.0         3.6          1.4         0.2      0"
      ]
     },
     "execution_count": 117,
     "metadata": {},
     "output_type": "execute_result"
    }
   ],
   "source": [
    "inputdf[\"class\"]=pd.Categorical(inputdf[\"class\"]) ### changing to class to catergorical data type\n",
    "inputdf[\"class\"]=inputdf[\"class\"].cat.codes ## changing it to cat to code eg (1,2,3)\n",
    "inputdf.head()"
   ]
  },
  {
   "cell_type": "code",
   "execution_count": 118,
   "metadata": {},
   "outputs": [
    {
     "data": {
      "text/plain": [
       "KFold(n_splits=5, random_state=None, shuffle=False)"
      ]
     },
     "execution_count": 118,
     "metadata": {},
     "output_type": "execute_result"
    }
   ],
   "source": [
    "## spliting the model into five\n",
    "KF=model_selection.KFold(n_splits=5)\n",
    "KF\n"
   ]
  },
  {
   "cell_type": "code",
   "execution_count": 119,
   "metadata": {},
   "outputs": [
    {
     "data": {
      "text/plain": [
       "array([0, 0, 0, 0, 0, 0, 0, 0, 0, 0, 0, 0, 0, 0, 0, 0, 0, 0, 0, 0, 0, 0,\n",
       "       0, 0, 0, 0, 0, 0, 0, 0, 0, 0, 0, 0, 0, 0, 0, 0, 0, 0, 0, 0, 0, 0,\n",
       "       0, 0, 0, 0, 0, 0, 1, 1, 1, 1, 1, 1, 1, 1, 1, 1, 1, 1, 1, 1, 1, 1,\n",
       "       1, 1, 1, 1, 1, 1, 1, 1, 1, 1, 1, 1, 1, 1, 1, 1, 1, 1, 1, 1, 1, 1,\n",
       "       1, 1, 1, 1, 1, 1, 1, 1, 1, 1, 1, 1, 2, 2, 2, 2, 2, 2, 2, 2, 2, 2,\n",
       "       2, 2, 2, 2, 2, 2, 2, 2, 2, 2, 2, 2, 2, 2, 2, 2, 2, 2, 2, 2, 2, 2,\n",
       "       2, 2, 2, 2, 2, 2, 2, 2, 2, 2, 2, 2, 2, 2, 2, 2, 2, 2], dtype=int8)"
      ]
     },
     "execution_count": 119,
     "metadata": {},
     "output_type": "execute_result"
    }
   ],
   "source": [
    "X=inputdf[inputdf.columns[:-1]].values\n",
    "y=inputdf[\"class\"].values\n",
    "y"
   ]
  },
  {
   "cell_type": "code",
   "execution_count": 120,
   "metadata": {},
   "outputs": [
    {
     "data": {
      "text/plain": [
       "array([1, 1, 1, 0, 0, 0, 0, 1, 2, 0, 0, 2, 0, 2, 1, 2, 2, 2, 2, 0, 0, 0,\n",
       "       0, 2, 1, 0, 2, 2, 2, 2, 2, 2, 1, 0, 2, 0, 1, 2, 1, 1, 1, 2, 0, 1,\n",
       "       2, 1, 0, 1, 0, 0, 2, 1, 0, 2, 0, 0, 0, 1, 2, 2, 1, 0, 0, 1, 1, 2,\n",
       "       2, 0, 1, 1, 0, 1, 2, 1, 1, 1, 1, 1, 0, 0, 2, 0, 2, 2, 0, 1, 1, 1,\n",
       "       1, 0, 0, 0, 0, 1, 2, 0, 0, 1, 2, 1, 2, 2, 0, 2, 0, 1, 1, 2, 0, 2,\n",
       "       0, 1, 1, 2, 0, 1, 1, 1, 2, 0, 2, 1, 0, 2, 0, 2, 2, 1, 1, 2, 0, 2,\n",
       "       0, 0, 2, 2, 2, 1, 1, 1, 2, 0, 1, 1, 2, 0, 2, 0, 2, 1], dtype=int8)"
      ]
     },
     "execution_count": 120,
     "metadata": {},
     "output_type": "execute_result"
    }
   ],
   "source": [
    "### shuffuling the dataset\n",
    "\n",
    "SX,sy=shuffle(X,y,random_state=999)\n",
    "\n",
    "sy"
   ]
  },
  {
   "cell_type": "code",
   "execution_count": 121,
   "metadata": {},
   "outputs": [
    {
     "data": {
      "text/plain": [
       "array([2, 1, 0, 2, 0, 2, 2, 1, 1, 2, 0, 2, 0, 0, 2, 2, 2, 1, 1, 1, 2, 0,\n",
       "       1, 1, 2, 0, 2, 0, 2, 1], dtype=int8)"
      ]
     },
     "execution_count": 121,
     "metadata": {},
     "output_type": "execute_result"
    }
   ],
   "source": [
    "### spliting the data set\n",
    "\n",
    "for i,j in KF.split(inputdf):\n",
    "    train_x,test_x=SX[i],SX[j]\n",
    "    train_y,test_y=sy[i],sy[j]\n",
    "\n",
    "test_y    \n"
   ]
  },
  {
   "cell_type": "markdown",
   "metadata": {},
   "source": [
    "##### Running kNN and Decision Tree with 5-folder cross validation"
   ]
  },
  {
   "cell_type": "code",
   "execution_count": 122,
   "metadata": {},
   "outputs": [
    {
     "data": {
      "text/plain": [
       "['KNN.joblib']"
      ]
     },
     "execution_count": 122,
     "metadata": {},
     "output_type": "execute_result"
    }
   ],
   "source": [
    "\n",
    "\n",
    "neighboursMax=25\n",
    "knnAccuracy=[[] for i in range(neighboursMax)]\n",
    "dtAccuracy=[]\n",
    "\n",
    "for i,j in KF.split(inputdf):\n",
    "    \n",
    "    \n",
    "    \n",
    "    train_x,test_x=SX[i],SX[j]\n",
    "    train_y,test_y=sy[i],sy[j]\n",
    "    \n",
    "    \n",
    "    ## decision tree classifier\n",
    "    \n",
    "    clfTree=DecisionTreeClassifier()\n",
    "    clfTree.fit(train_x,train_y)\n",
    "    predcit_y=clfTree.predict(test_x)\n",
    "    dtAccuracy.append(metrics.accuracy_score(predcit_y,test_y))\n",
    "    \n",
    "\n",
    "    \n",
    "    ### Knn Classifier\n",
    "    for k in range(0,neighboursMax):\n",
    "       \n",
    "        clfknn=neighbors.KNeighborsClassifier(n_neighbors=k+1)\n",
    "        clfknn.fit(train_x,train_y)\n",
    "        predcit_y=clfknn.predict(test_x)\n",
    "        knnAccuracy[k].append(metrics.accuracy_score(predcit_y,test_y))\n",
    "\n",
    "    \n",
    "\n",
    "\n",
    "joblib.dump(clfTree,\"Decision_Tree.joblib\")\n",
    "joblib.dump(clfknn,\"KNN.joblib\")    \n",
    "\n",
    "\n"
   ]
  },
  {
   "cell_type": "code",
   "execution_count": 123,
   "metadata": {},
   "outputs": [
    {
     "data": {
      "text/plain": [
       "[0.9333333333333333, 0.9666666666666667, 1.0, 0.9, 0.9666666666666667]"
      ]
     },
     "execution_count": 123,
     "metadata": {},
     "output_type": "execute_result"
    }
   ],
   "source": [
    "dtAccuracy\n",
    "#np.mean(dtAccuracy)"
   ]
  },
  {
   "cell_type": "code",
   "execution_count": 124,
   "metadata": {},
   "outputs": [],
   "source": [
    "mean_kNN_accuracies = []\n",
    "for i in range(0,25):\n",
    "    mean_kNN_accuracies.append(np.mean(knnAccuracy[i]))\n",
    " "
   ]
  },
  {
   "cell_type": "markdown",
   "metadata": {},
   "source": [
    "#### Evaluate how K impacts the overall accuracyof kNN on the dataset. Use histogram plots to visualize the results and identify the best K."
   ]
  },
  {
   "cell_type": "code",
   "execution_count": 125,
   "metadata": {},
   "outputs": [
    {
     "data": {
      "text/plain": [
       "(0.9, 1)"
      ]
     },
     "execution_count": 125,
     "metadata": {},
     "output_type": "execute_result"
    },
    {
     "data": {
      "image/png": "[encoded data removed]",
      "text/plain": [
       "<Figure size 432x288 with 1 Axes>"
      ]
     },
     "metadata": {
      "needs_background": "light"
     },
     "output_type": "display_data"
    }
   ],
   "source": [
    "\n",
    "x = sns.barplot([y+1 for y in range(neighboursMax)], mean_kNN_accuracies)\n",
    "x.set_ylim([.9,1])\n"
   ]
  },
  {
   "cell_type": "code",
   "execution_count": 126,
   "metadata": {},
   "outputs": [
    {
     "name": "stdout",
     "output_type": "stream",
     "text": [
      "The Best K value is : 7\n"
     ]
    }
   ],
   "source": [
    "# Best K \n",
    "\n",
    "print(\"The Best K value is :\",mean_kNN_accuracies.index(max(mean_kNN_accuracies)))\n"
   ]
  },
  {
   "cell_type": "markdown",
   "metadata": {},
   "source": [
    "#### Compare the overall accuraciesof kNN with the best K and decision trees using histogram plots. Which classifier is better and why?"
   ]
  },
  {
   "cell_type": "code",
   "execution_count": 127,
   "metadata": {},
   "outputs": [
    {
     "data": {
      "text/plain": [
       "(0.9, 1)"
      ]
     },
     "execution_count": 127,
     "metadata": {},
     "output_type": "execute_result"
    },
    {
     "data": {
      "image/png": "[encoded data removed]",
      "text/plain": [
       "<Figure size 432x288 with 1 Axes>"
      ]
     },
     "metadata": {
      "needs_background": "light"
     },
     "output_type": "display_data"
    }
   ],
   "source": [
    "# Histogram to compare the average accuracy of k-NN and Decision tree\n",
    "obj = ('k-NN', 'Decision Tree')\n",
    "\n",
    "results = {\n",
    "    'model': obj, \n",
    "    'accuracy': [mean_kNN_accuracies[7], np.mean(dtAccuracy)]\n",
    "}\n",
    "\n",
    "decision_tree_vs_knn_df = pd.DataFrame(data=results)\n",
    "\n",
    "x = sns.barplot(x=\"model\",y=\"accuracy\",data=decision_tree_vs_knn_df)\n",
    "x.set_ylim([.9,1])\n",
    "\n",
    "\n",
    "\n"
   ]
  },
  {
   "cell_type": "code",
   "execution_count": 128,
   "metadata": {},
   "outputs": [
    {
     "name": "stdout",
     "output_type": "stream",
     "text": [
      "DecisionTreeClassifier(ccp_alpha=0.0, class_weight=None, criterion='gini',\n",
      "                       max_depth=None, max_features=None, max_leaf_nodes=None,\n",
      "                       min_impurity_decrease=0.0, min_impurity_split=None,\n",
      "                       min_samples_leaf=1, min_samples_split=2,\n",
      "                       min_weight_fraction_leaf=0.0, presort='deprecated',\n",
      "                       random_state=None, splitter='best')\n"
     ]
    }
   ],
   "source": [
    "## Load the save model and predict the values\n",
    "##\n",
    "dtree=joblib.load(\"Decision_Tree.joblib\")\n",
    "print(dtree)"
   ]
  },
  {
   "cell_type": "code",
   "execution_count": 129,
   "metadata": {},
   "outputs": [
    {
     "name": "stdout",
     "output_type": "stream",
     "text": [
      "[1 1 1 0 0 0 0 1 2 0 0 2 0 2 1 2 2 2 2 0 0 0 0 2 1 0 2 2 2 2 2 2 1 0 2 0 1\n",
      " 2 1 1 1 2 0 1 2 1 0 1 0 0 2 1 0 2 0 0 0 1 2 2 1 0 0 1 1 2 2 0 1 1 0 1 2 1\n",
      " 1 1 1 1 0 0 2 0 2 2 0 1 1 1 1 0 0 0 0 1 2 0 0 1 2 1 2 2 0 2 0 1 1 2 0 2 0\n",
      " 1 1 2 0 1 1 1 2 0]\n"
     ]
    }
   ],
   "source": [
    "print(dtree.predict(train_x))"
   ]
  },
  {
   "cell_type": "code",
   "execution_count": 130,
   "metadata": {},
   "outputs": [
    {
     "data": {
      "text/plain": [
       "KNeighborsClassifier(algorithm='auto', leaf_size=30, metric='minkowski',\n",
       "                     metric_params=None, n_jobs=None, n_neighbors=25, p=2,\n",
       "                     weights='uniform')"
      ]
     },
     "execution_count": 130,
     "metadata": {},
     "output_type": "execute_result"
    }
   ],
   "source": [
    "knn=joblib.load(\"KNN.joblib\")\n",
    "knn\n"
   ]
  },
  {
   "cell_type": "code",
   "execution_count": 131,
   "metadata": {},
   "outputs": [
    {
     "name": "stdout",
     "output_type": "stream",
     "text": [
      "[1 1 1 0 0 0 0 1 1 0 0 2 0 2 1 2 2 2 2 0 0 0 0 2 2 0 2 2 2 1 2 2 1 0 2 0 1\n",
      " 2 1 1 1 2 0 1 2 1 0 1 0 0 1 1 0 1 0 0 0 1 2 2 1 0 0 1 1 2 2 0 1 1 0 1 2 1\n",
      " 1 1 1 1 0 0 2 0 2 2 0 1 1 1 1 0 0 0 0 1 2 0 0 1 2 1 2 2 0 2 0 1 1 2 0 2 0\n",
      " 1 1 1 0 1 1 1 2 0]\n"
     ]
    }
   ],
   "source": [
    "print(knn.predict(train_x))"
   ]
  },
  {
   "cell_type": "markdown",
   "metadata": {},
   "source": [
    "KNN works well with data with rare occurances, KNN is does'nt require additional training on data as it calculate some distance metrics, then it looks at the target label for each neighbour and places the new found data into the majority category. KNN is kind of iterative and disregards few features while training.On the other hand decision tree data hungry and it has the problem of overfitting in training.\n",
    "\n",
    "As we can see above bar chart that accuracy of of KNN is 0.98 while decision tree has 0.95. \n",
    "\n"
   ]
  }
 ],
 "metadata": {
  "kernelspec": {
   "display_name": "Python 3",
   "language": "python",
   "name": "python3"
  },
  "language_info": {
   "codemirror_mode": {
    "name": "ipython",
    "version": 3
   },
   "file_extension": ".py",
   "mimetype": "text/x-python",
   "name": "python",
   "nbconvert_exporter": "python",
   "pygments_lexer": "ipython3",
   "version": "3.7.4"
  }
 },
 "nbformat": 4,
 "nbformat_minor": 2
}

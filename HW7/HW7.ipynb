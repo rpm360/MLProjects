{
 "cells": [
  {
   "cell_type": "code",
   "execution_count": 98,
   "metadata": {},
   "outputs": [],
   "source": [
    "import pandas as pd \n",
    "import os\n",
    "from surprise import Reader\n",
    "from surprise import Dataset\n",
    "from surprise.model_selection import KFold\n",
    "from surprise import SVD\n",
    "from surprise import accuracy\n",
    "from surprise import NMF\n",
    "from surprise import KNNBasic\n",
    "import seaborn as sns"
   ]
  },
  {
   "cell_type": "code",
   "execution_count": 99,
   "metadata": {},
   "outputs": [
    {
     "data": {
      "text/html": [
       "<div>\n",
       "<style scoped>\n",
       "    .dataframe tbody tr th:only-of-type {\n",
       "        vertical-align: middle;\n",
       "    }\n",
       "\n",
       "    .dataframe tbody tr th {\n",
       "        vertical-align: top;\n",
       "    }\n",
       "\n",
       "    .dataframe thead th {\n",
       "        text-align: right;\n",
       "    }\n",
       "</style>\n",
       "<table border=\"1\" class=\"dataframe\">\n",
       "  <thead>\n",
       "    <tr style=\"text-align: right;\">\n",
       "      <th></th>\n",
       "      <th>user</th>\n",
       "      <th>item</th>\n",
       "      <th>rating</th>\n",
       "      <th>timestamp</th>\n",
       "    </tr>\n",
       "  </thead>\n",
       "  <tbody>\n",
       "    <tr>\n",
       "      <td>0</td>\n",
       "      <td>196</td>\n",
       "      <td>242</td>\n",
       "      <td>3</td>\n",
       "      <td>881250949</td>\n",
       "    </tr>\n",
       "    <tr>\n",
       "      <td>1</td>\n",
       "      <td>186</td>\n",
       "      <td>302</td>\n",
       "      <td>3</td>\n",
       "      <td>891717742</td>\n",
       "    </tr>\n",
       "    <tr>\n",
       "      <td>2</td>\n",
       "      <td>22</td>\n",
       "      <td>377</td>\n",
       "      <td>1</td>\n",
       "      <td>878887116</td>\n",
       "    </tr>\n",
       "    <tr>\n",
       "      <td>3</td>\n",
       "      <td>244</td>\n",
       "      <td>51</td>\n",
       "      <td>2</td>\n",
       "      <td>880606923</td>\n",
       "    </tr>\n",
       "    <tr>\n",
       "      <td>4</td>\n",
       "      <td>166</td>\n",
       "      <td>346</td>\n",
       "      <td>1</td>\n",
       "      <td>886397596</td>\n",
       "    </tr>\n",
       "    <tr>\n",
       "      <td>...</td>\n",
       "      <td>...</td>\n",
       "      <td>...</td>\n",
       "      <td>...</td>\n",
       "      <td>...</td>\n",
       "    </tr>\n",
       "    <tr>\n",
       "      <td>99995</td>\n",
       "      <td>880</td>\n",
       "      <td>476</td>\n",
       "      <td>3</td>\n",
       "      <td>880175444</td>\n",
       "    </tr>\n",
       "    <tr>\n",
       "      <td>99996</td>\n",
       "      <td>716</td>\n",
       "      <td>204</td>\n",
       "      <td>5</td>\n",
       "      <td>879795543</td>\n",
       "    </tr>\n",
       "    <tr>\n",
       "      <td>99997</td>\n",
       "      <td>276</td>\n",
       "      <td>1090</td>\n",
       "      <td>1</td>\n",
       "      <td>874795795</td>\n",
       "    </tr>\n",
       "    <tr>\n",
       "      <td>99998</td>\n",
       "      <td>13</td>\n",
       "      <td>225</td>\n",
       "      <td>2</td>\n",
       "      <td>882399156</td>\n",
       "    </tr>\n",
       "    <tr>\n",
       "      <td>99999</td>\n",
       "      <td>12</td>\n",
       "      <td>203</td>\n",
       "      <td>3</td>\n",
       "      <td>879959583</td>\n",
       "    </tr>\n",
       "  </tbody>\n",
       "</table>\n",
       "<p>100000 rows × 4 columns</p>\n",
       "</div>"
      ],
      "text/plain": [
       "       user  item  rating  timestamp\n",
       "0       196   242       3  881250949\n",
       "1       186   302       3  891717742\n",
       "2        22   377       1  878887116\n",
       "3       244    51       2  880606923\n",
       "4       166   346       1  886397596\n",
       "...     ...   ...     ...        ...\n",
       "99995   880   476       3  880175444\n",
       "99996   716   204       5  879795543\n",
       "99997   276  1090       1  874795795\n",
       "99998    13   225       2  882399156\n",
       "99999    12   203       3  879959583\n",
       "\n",
       "[100000 rows x 4 columns]"
      ]
     },
     "execution_count": 99,
     "metadata": {},
     "output_type": "execute_result"
    }
   ],
   "source": [
    "restdata=pd.read_csv(\"restaurant_ratings.txt\",delimiter=\"\\t\",names=[\"user\",\"item\",\"rating\",\"timestamp\"])\n",
    "restdata"
   ]
  },
  {
   "cell_type": "code",
   "execution_count": 100,
   "metadata": {},
   "outputs": [],
   "source": [
    "filelocation=os.path.expanduser('restaurant_ratings.txt')\n",
    "r=Reader(line_format='user item rating timestamp', sep='\\t')\n",
    "data=Dataset.load_from_file(filelocation,reader=r)\n",
    "kfolds=KFold(n_splits=3,random_state=0,shuffle=True)\n",
    "\n",
    "\n",
    "traindataset=[]\n",
    "testdataset=[]"
   ]
  },
  {
   "cell_type": "code",
   "execution_count": 101,
   "metadata": {},
   "outputs": [],
   "source": [
    "for traindata, testdata in kfolds.split(data):\n",
    "    traindataset.append(traindata)\n",
    "    testdataset.append(testdata)\n",
    "    \n"
   ]
  },
  {
   "cell_type": "code",
   "execution_count": 102,
   "metadata": {},
   "outputs": [],
   "source": [
    "def scoreofmodel(traindata,testdata):\n",
    "    \n",
    "    score=[]\n",
    "    \n",
    "    print(\"SVD working\")\n",
    "    SVDalgo=SVD()\n",
    "    SVDalgo.fit(traindata)\n",
    "    predval=SVDalgo.test(testdata)\n",
    "    \n",
    "    \n",
    "    RMSESVD=accuracy.rmse(predval,verbose=True)\n",
    "    \n",
    "    MAESVD=accuracy.mae(predval,verbose=True)\n",
    "    \n",
    "    \n",
    "    print(\"with PMF\")\n",
    "    SVDalgo=SVD(biased=False)\n",
    "    SVDalgo.fit(traindata)\n",
    "    predval=SVDalgo.test(testdata)\n",
    "    \n",
    "    \n",
    "    RMSEPMF=accuracy.rmse(predval,verbose=True)\n",
    "    \n",
    "    MAEPMF=accuracy.mae(predval,verbose=True)\n",
    "    \n",
    "    \n",
    "    print(\"NON-Negative Matrix Fact\")\n",
    "    \n",
    "    nnmf=NMF()\n",
    "    nnmf.fit(traindata)\n",
    "    predval=nnmf.test(testdata)\n",
    "    \n",
    "    RMNNMF=accuracy.rmse(predval,verbose=True)\n",
    "    MANNMF=accuracy.mae(predval,verbose=True)\n",
    "    \n",
    "    print(\"User based Collaborative Filtering algorithm\")\n",
    "    \n",
    "    KNN=KNNBasic(sim_options={'user_based':True})\n",
    "    KNN.fit(traindata)\n",
    "    predval=KNN.test(testdata)\n",
    "    \n",
    "    RMKNN=accuracy.rmse(predval,verbose=True)\n",
    "    MAEKNN=accuracy.mae(predval,verbose=True)\n",
    "    \n",
    "    print(\"Item based Collaborative Filtering algorithm\")\n",
    "    \n",
    "    KNN=KNNBasic(sim_options={'user_based':False})\n",
    "    KNN.fit(traindata)\n",
    "    predval=KNN.test(testdata)\n",
    "    \n",
    "    RMSEitem=accuracy.rmse(predval,verbose=True)\n",
    "    MAEitem=accuracy.mae(predval,verbose=True)\n",
    "    \n",
    "    score=[RMSESVD,MAESVD,RMSEPMF,MAEPMF,RMNNMF,MANNMF,RMKNN,MAEKNN,RMSEitem,MAEitem]\n",
    "    \n",
    "    return score\n",
    "    "
   ]
  },
  {
   "cell_type": "markdown",
   "metadata": {},
   "source": [
    "### Q10"
   ]
  },
  {
   "cell_type": "code",
   "execution_count": 103,
   "metadata": {},
   "outputs": [
    {
     "name": "stdout",
     "output_type": "stream",
     "text": [
      "SVD working\n",
      "RMSE: 0.9480\n",
      "MAE:  0.7484\n",
      "with PMF\n",
      "RMSE: 0.9702\n",
      "MAE:  0.7631\n",
      "NON-Negative Matrix Fact\n",
      "RMSE: 0.9799\n",
      "MAE:  0.7695\n",
      "User based Collaborative Filtering algorithm\n",
      "Computing the msd similarity matrix...\n",
      "Done computing similarity matrix.\n",
      "RMSE: 0.9941\n",
      "MAE:  0.7841\n",
      "Item based Collaborative Filtering algorithm\n",
      "Computing the msd similarity matrix...\n",
      "Done computing similarity matrix.\n",
      "RMSE: 0.9872\n",
      "MAE:  0.7813\n"
     ]
    }
   ],
   "source": [
    "fold1score=scoreofmodel(traindataset[0],testdataset[0])"
   ]
  },
  {
   "cell_type": "code",
   "execution_count": 104,
   "metadata": {},
   "outputs": [
    {
     "data": {
      "text/plain": [
       "Text(0.5, 1.0, 'Algorith Comparison - Fold 1')"
      ]
     },
     "execution_count": 104,
     "metadata": {},
     "output_type": "execute_result"
    },
    {
     "data": {
      "image/png": "[encoded data removed]",
      "text/plain": [
       "<Figure size 432x288 with 1 Axes>"
      ]
     },
     "metadata": {
      "needs_background": "light"
     },
     "output_type": "display_data"
    }
   ],
   "source": [
    "datalabel = {\n",
    "    'Algorithm': ('SVD','SVD','PMF', 'PMF','NMF','NMF','User Based','User Based','Item Based','Item Based'), \n",
    "    'RMSE and MAE': fold1score,\n",
    "    'Metric':['RMSE','MAE','RMSE','MAE','RMSE','MAE','RMSE','MAE','RMSE','MAE']\n",
    "}\n",
    "\n",
    "dataf = pd.DataFrame(datalabel)\n",
    "x = sns.barplot(x=\"Algorithm\",y=\"RMSE and MAE\",data=dataf,hue=\"Metric\")\n",
    "x.set_ylim([.6,1.1])\n",
    "x.set_title(\"Algorith Comparison - Fold 1\" ,loc=\"center\")"
   ]
  },
  {
   "cell_type": "markdown",
   "metadata": {},
   "source": [
    "from the above we can concluded that the <b>SVD has the lowest value</b> compared to all the other metrics"
   ]
  },
  {
   "cell_type": "markdown",
   "metadata": {},
   "source": [
    "### Q11"
   ]
  },
  {
   "cell_type": "code",
   "execution_count": 105,
   "metadata": {},
   "outputs": [
    {
     "name": "stdout",
     "output_type": "stream",
     "text": [
      "SVD working\n",
      "RMSE: 0.9396\n",
      "MAE:  0.7428\n",
      "with PMF\n",
      "RMSE: 0.9582\n",
      "MAE:  0.7559\n",
      "NON-Negative Matrix Fact\n",
      "RMSE: 0.9652\n",
      "MAE:  0.7580\n",
      "User based Collaborative Filtering algorithm\n",
      "Computing the msd similarity matrix...\n",
      "Done computing similarity matrix.\n",
      "RMSE: 0.9832\n",
      "MAE:  0.7760\n",
      "Item based Collaborative Filtering algorithm\n",
      "Computing the msd similarity matrix...\n",
      "Done computing similarity matrix.\n",
      "RMSE: 0.9787\n",
      "MAE:  0.7754\n"
     ]
    }
   ],
   "source": [
    "fold2score=scoreofmodel(traindataset[1],testdataset[1])"
   ]
  },
  {
   "cell_type": "code",
   "execution_count": 106,
   "metadata": {},
   "outputs": [
    {
     "data": {
      "text/plain": [
       "Text(0.5, 1.0, 'Algorith Comparison - Fold 2')"
      ]
     },
     "execution_count": 106,
     "metadata": {},
     "output_type": "execute_result"
    },
    {
     "data": {
      "image/png": "[encoded data removed]",
      "text/plain": [
       "<Figure size 432x288 with 1 Axes>"
      ]
     },
     "metadata": {
      "needs_background": "light"
     },
     "output_type": "display_data"
    }
   ],
   "source": [
    "datalabel = {\n",
    "    'Algorithm': ('SVD','SVD','PMF', 'PMF','NMF','NMF','User Based','User Based','Item Based','Item Based'), \n",
    "    'RMSE and MAE': fold2score,\n",
    "    'Metric':['RMSE','MAE','RMSE','MAE','RMSE','MAE','RMSE','MAE','RMSE','MAE']\n",
    "}\n",
    "\n",
    "dataf = pd.DataFrame(datalabel)\n",
    "x = sns.barplot(x=\"Algorithm\",y=\"RMSE and MAE\",data=dataf,hue=\"Metric\")\n",
    "x.set_ylim([.6,1.1])\n",
    "x.set_title(\"Algorith Comparison - Fold 2\" ,loc=\"center\")"
   ]
  },
  {
   "cell_type": "markdown",
   "metadata": {},
   "source": [
    "from the above we can concluded that the <b>SVD has the lowest value</b> compared to all the other metrics"
   ]
  },
  {
   "cell_type": "markdown",
   "metadata": {},
   "source": [
    "### Q12"
   ]
  },
  {
   "cell_type": "code",
   "execution_count": 107,
   "metadata": {},
   "outputs": [
    {
     "name": "stdout",
     "output_type": "stream",
     "text": [
      "SVD working\n",
      "RMSE: 0.9506\n",
      "MAE:  0.7500\n",
      "with PMF\n",
      "RMSE: 0.9751\n",
      "MAE:  0.7693\n",
      "NON-Negative Matrix Fact\n",
      "RMSE: 0.9802\n",
      "MAE:  0.7696\n",
      "User based Collaborative Filtering algorithm\n",
      "Computing the msd similarity matrix...\n",
      "Done computing similarity matrix.\n",
      "RMSE: 0.9926\n",
      "MAE:  0.7857\n",
      "Item based Collaborative Filtering algorithm\n",
      "Computing the msd similarity matrix...\n",
      "Done computing similarity matrix.\n",
      "RMSE: 0.9937\n",
      "MAE:  0.7863\n"
     ]
    }
   ],
   "source": [
    "fold3score=scoreofmodel(traindataset[2],testdataset[2])"
   ]
  },
  {
   "cell_type": "code",
   "execution_count": 108,
   "metadata": {},
   "outputs": [
    {
     "data": {
      "text/plain": [
       "Text(0.5, 1.0, 'Algorith Comparison - Fold 3')"
      ]
     },
     "execution_count": 108,
     "metadata": {},
     "output_type": "execute_result"
    },
    {
     "data": {
      "image/png": "[encoded data removed]",
      "text/plain": [
       "<Figure size 432x288 with 1 Axes>"
      ]
     },
     "metadata": {
      "needs_background": "light"
     },
     "output_type": "display_data"
    }
   ],
   "source": [
    "datalabel = {\n",
    "    'Algorithm': ('SVD','SVD','PMF', 'PMF','NMF','NMF','User Based','User Based','Item Based','Item Based'), \n",
    "    'RMSE and MAE': fold3score,\n",
    "    'Metric':['RMSE','MAE','RMSE','MAE','RMSE','MAE','RMSE','MAE','RMSE','MAE']\n",
    "}\n",
    "\n",
    "dataf = pd.DataFrame(datalabel)\n",
    "x = sns.barplot(x=\"Algorithm\",y=\"RMSE and MAE\",data=dataf,hue=\"Metric\")\n",
    "x.set_ylim([.6,1.1])\n",
    "x.set_title(\"Algorith Comparison - Fold 3\" ,loc=\"center\")"
   ]
  },
  {
   "cell_type": "markdown",
   "metadata": {},
   "source": [
    "from the above we can concluded that the <b>SVD has the lowest value</b> compared to all the other metrics"
   ]
  },
  {
   "cell_type": "markdown",
   "metadata": {},
   "source": [
    "### Q13"
   ]
  },
  {
   "cell_type": "code",
   "execution_count": 109,
   "metadata": {},
   "outputs": [],
   "source": [
    "def findavg(trainset, testset, method):\n",
    "    \n",
    "    size=len(trainset)\n",
    "    sumofrmse=0\n",
    "    sumofmse=0\n",
    "    for i in range(size):\n",
    "        method.fit(trainset[i])\n",
    "        pred=method.test(testset[i])\n",
    "        \n",
    "        sumofrmse+=accuracy.rmse(pred,verbose=True)\n",
    "        \n",
    "        sumofmse+=accuracy.mae(pred,verbose=True)\n",
    "        print()\n",
    "    armse=sumofrmse/size\n",
    "    amse=sumofmse/size\n",
    "    print(\"Avg RMSE={}\".format(armse))\n",
    "    print(\"Avg MAE={}\".format(amse))\n",
    "    \n",
    "    return armse,amse"
   ]
  },
  {
   "cell_type": "code",
   "execution_count": 110,
   "metadata": {},
   "outputs": [
    {
     "name": "stdout",
     "output_type": "stream",
     "text": [
      "****************************** SVD ******************************\n",
      " \n",
      "RMSE: 0.9455\n",
      "MAE:  0.7457\n",
      "\n",
      "RMSE: 0.9364\n",
      "MAE:  0.7385\n",
      "\n",
      "RMSE: 0.9487\n",
      "MAE:  0.7492\n",
      "\n",
      "Avg RMSE=0.9435421289477605\n",
      "Avg MAE=0.7444579625030309\n"
     ]
    }
   ],
   "source": [
    "print(\"******\"*5,\"SVD\",\"******\"*5)\n",
    "print(\" \")\n",
    "svdrmse,svdmae=findavg(traindataset,testdataset,SVD())"
   ]
  },
  {
   "cell_type": "code",
   "execution_count": 111,
   "metadata": {},
   "outputs": [
    {
     "name": "stdout",
     "output_type": "stream",
     "text": [
      "****************************** PMF ******************************\n",
      " \n",
      "RMSE: 0.9659\n",
      "MAE:  0.7616\n",
      "\n",
      "RMSE: 0.9597\n",
      "MAE:  0.7577\n",
      "\n",
      "RMSE: 0.9732\n",
      "MAE:  0.7664\n",
      "\n",
      "Avg RMSE=0.9662503883732412\n",
      "Avg MAE=0.7618923178382472\n"
     ]
    }
   ],
   "source": [
    "print(\"******\"*5,\"PMF\",\"******\"*5)\n",
    "print(\" \")\n",
    "pmfrmse,pmfmae=findavg(traindataset,testdataset,SVD(biased=False))"
   ]
  },
  {
   "cell_type": "code",
   "execution_count": 112,
   "metadata": {},
   "outputs": [
    {
     "name": "stdout",
     "output_type": "stream",
     "text": [
      "****************************** NMF ******************************\n",
      " \n",
      "RMSE: 0.9744\n",
      "MAE:  0.7642\n",
      "\n",
      "RMSE: 0.9714\n",
      "MAE:  0.7626\n",
      "\n",
      "RMSE: 0.9855\n",
      "MAE:  0.7771\n",
      "\n",
      "Avg RMSE=0.9770940639227197\n",
      "Avg MAE=0.7679872936396562\n"
     ]
    }
   ],
   "source": [
    "print(\"******\"*5,\"NMF\",\"******\"*5)\n",
    "print(\" \")\n",
    "nmfrmse,nmfmae=findavg(traindataset,testdataset,NMF())"
   ]
  },
  {
   "cell_type": "code",
   "execution_count": 113,
   "metadata": {},
   "outputs": [
    {
     "name": "stdout",
     "output_type": "stream",
     "text": [
      "****************************** User Based Collaborative Filtering ******************************\n",
      " \n",
      "Computing the msd similarity matrix...\n",
      "Done computing similarity matrix.\n",
      "RMSE: 0.9941\n",
      "MAE:  0.7841\n",
      "\n",
      "Computing the msd similarity matrix...\n",
      "Done computing similarity matrix.\n",
      "RMSE: 0.9832\n",
      "MAE:  0.7760\n",
      "\n",
      "Computing the msd similarity matrix...\n",
      "Done computing similarity matrix.\n",
      "RMSE: 0.9926\n",
      "MAE:  0.7857\n",
      "\n",
      "Avg RMSE=0.9899348891048744\n",
      "Avg MAE=0.7819536859243135\n"
     ]
    }
   ],
   "source": [
    "print(\"******\"*5,\"User Based Collaborative Filtering\",\"******\"*5)\n",
    "print(\" \")\n",
    "userrmse,usermae=findavg(traindataset,testdataset,KNNBasic(sim_options={'user_based':True}))"
   ]
  },
  {
   "cell_type": "code",
   "execution_count": 114,
   "metadata": {},
   "outputs": [
    {
     "name": "stdout",
     "output_type": "stream",
     "text": [
      "****************************** item Based Collaborative Filtering ******************************\n",
      " \n",
      "Computing the msd similarity matrix...\n",
      "Done computing similarity matrix.\n",
      "RMSE: 0.9872\n",
      "MAE:  0.7813\n",
      "\n",
      "Computing the msd similarity matrix...\n",
      "Done computing similarity matrix.\n",
      "RMSE: 0.9787\n",
      "MAE:  0.7754\n",
      "\n",
      "Computing the msd similarity matrix...\n",
      "Done computing similarity matrix.\n",
      "RMSE: 0.9937\n",
      "MAE:  0.7863\n",
      "\n",
      "Avg RMSE=0.9865282245806526\n",
      "Avg MAE=0.7810296886142001\n"
     ]
    }
   ],
   "source": [
    "print(\"******\"*5,\"item Based Collaborative Filtering\",\"******\"*5)\n",
    "print(\" \")\n",
    "itemrmse,itemmae=findavg(traindataset,testdataset,KNNBasic(sim_options={'user_based':False}))"
   ]
  },
  {
   "cell_type": "code",
   "execution_count": 115,
   "metadata": {},
   "outputs": [
    {
     "data": {
      "text/plain": [
       "Text(0.5, 1.0, 'Algorith - Mean compare')"
      ]
     },
     "execution_count": 115,
     "metadata": {},
     "output_type": "execute_result"
    },
    {
     "data": {
      "image/png": "[encoded data removed]",
      "text/plain": [
       "<Figure size 432x288 with 1 Axes>"
      ]
     },
     "metadata": {
      "needs_background": "light"
     },
     "output_type": "display_data"
    }
   ],
   "source": [
    "datalabel = {\n",
    "    'Algorithm': ('SVD','SVD','PMF', 'PMF','NMF','NMF','User Based','User Based','Item Based','Item Based'), \n",
    "    'RMSE and MAE': [svdrmse,svdmae,pmfrmse,pmfmae,nmfrmse,nmfmae,userrmse,usermae,itemrmse,itemmae],\n",
    "    'Metric':['RMSE','MAE','RMSE','MAE','RMSE','MAE','RMSE','MAE','RMSE','MAE']\n",
    "}\n",
    "\n",
    "dataf = pd.DataFrame(datalabel)\n",
    "x = sns.barplot(x=\"Algorithm\",y=\"RMSE and MAE\",data=dataf,hue=\"Metric\")\n",
    "x.set_ylim([.6,1.1])\n",
    "x.set_title(\"Algorith - Mean compare\" ,loc=\"center\")"
   ]
  },
  {
   "cell_type": "markdown",
   "metadata": {},
   "source": [
    "from the above we can concluded that the <b>SVD has the lowest value</b> compared to all the other metrics"
   ]
  },
  {
   "cell_type": "markdown",
   "metadata": {},
   "source": [
    "### Q 14\n",
    "\n",
    "#### user based"
   ]
  },
  {
   "cell_type": "code",
   "execution_count": 116,
   "metadata": {},
   "outputs": [
    {
     "name": "stdout",
     "output_type": "stream",
     "text": [
      "****************** User Based Collaborative Filtering using MSD Similarity ******************\n",
      " \n",
      "Computing the msd similarity matrix...\n",
      "Done computing similarity matrix.\n",
      "RMSE: 0.9941\n",
      "MAE:  0.7841\n",
      "\n",
      "Computing the msd similarity matrix...\n",
      "Done computing similarity matrix.\n",
      "RMSE: 0.9832\n",
      "MAE:  0.7760\n",
      "\n",
      "Computing the msd similarity matrix...\n",
      "Done computing similarity matrix.\n",
      "RMSE: 0.9926\n",
      "MAE:  0.7857\n",
      "\n",
      "Avg RMSE=0.9899348891048744\n",
      "Avg MAE=0.7819536859243135\n"
     ]
    }
   ],
   "source": [
    "print(\"******\"*3,\"User Based Collaborative Filtering using MSD Similarity\",\"******\"*3)\n",
    "\n",
    "print(\" \")\n",
    "msdrmse_user,msdmae_user=findavg(traindataset,testdataset,KNNBasic(sim_options={'user_based':True}))"
   ]
  },
  {
   "cell_type": "code",
   "execution_count": 117,
   "metadata": {},
   "outputs": [
    {
     "name": "stdout",
     "output_type": "stream",
     "text": [
      "****************** User Based Collaborative Filtering using cosine Similarity ******************\n",
      " \n",
      "Computing the cosine similarity matrix...\n",
      "Done computing similarity matrix.\n",
      "RMSE: 1.0260\n",
      "MAE:  0.8112\n",
      "\n",
      "Computing the cosine similarity matrix...\n",
      "Done computing similarity matrix.\n",
      "RMSE: 1.0163\n",
      "MAE:  0.8031\n",
      "\n",
      "Computing the cosine similarity matrix...\n",
      "Done computing similarity matrix.\n",
      "RMSE: 1.0253\n",
      "MAE:  0.8137\n",
      "\n",
      "Avg RMSE=1.0225442145861894\n",
      "Avg MAE=0.8093346213727681\n"
     ]
    }
   ],
   "source": [
    "print(\"******\"*3,\"User Based Collaborative Filtering using cosine Similarity\",\"******\"*3)\n",
    "print(\" \")\n",
    "cosinermse_user,cosinmae_user=findavg(traindataset,testdataset,KNNBasic(sim_options={'name':'cosine','user_based':True}))"
   ]
  },
  {
   "cell_type": "code",
   "execution_count": 118,
   "metadata": {},
   "outputs": [
    {
     "name": "stdout",
     "output_type": "stream",
     "text": [
      "****************** User Based Collaborative Filtering using pearson Similarity ******************\n",
      " \n",
      "Computing the pearson similarity matrix...\n",
      "Done computing similarity matrix.\n",
      "RMSE: 1.0250\n",
      "MAE:  0.8115\n",
      "\n",
      "Computing the pearson similarity matrix...\n",
      "Done computing similarity matrix.\n",
      "RMSE: 1.0123\n",
      "MAE:  0.8030\n",
      "\n",
      "Computing the pearson similarity matrix...\n",
      "Done computing similarity matrix.\n",
      "RMSE: 1.0244\n",
      "MAE:  0.8145\n",
      "\n",
      "Avg RMSE=1.020562187258179\n",
      "Avg MAE=0.8096649014365088\n"
     ]
    }
   ],
   "source": [
    "print(\"******\"*3,\"User Based Collaborative Filtering using pearson Similarity\",\"******\"*3)\n",
    "print(\" \")\n",
    "\n",
    "perrmse_user,permae_user=findavg(traindataset,testdataset,KNNBasic(sim_options={'name':'pearson','user_based':True}))\n",
    "\n",
    "\n",
    "\n"
   ]
  },
  {
   "cell_type": "code",
   "execution_count": 119,
   "metadata": {},
   "outputs": [
    {
     "data": {
      "text/plain": [
       "Text(0.5, 1.0, 'User based Collaborative filtering')"
      ]
     },
     "execution_count": 119,
     "metadata": {},
     "output_type": "execute_result"
    },
    {
     "data": {
      "image/png": "[encoded data removed]",
      "text/plain": [
       "<Figure size 432x288 with 1 Axes>"
      ]
     },
     "metadata": {
      "needs_background": "light"
     },
     "output_type": "display_data"
    }
   ],
   "source": [
    "datalabel = {\n",
    "    'Algorithm': ('User MSD','User MSD','User Cosine', 'User Cosine','User Pearson','User Pearson'), \n",
    "    'RMSE and MAE': [msdrmse_user,msdmae_user,cosinermse_user,cosinmae_user,perrmse_user,permae_user],\n",
    "    'Metric':['RMSE','MAE','RMSE','MAE','RMSE','MAE']\n",
    "}\n",
    "\n",
    "dataf = pd.DataFrame(datalabel)\n",
    "x = sns.barplot(x=\"Algorithm\",y=\"RMSE and MAE\",data=dataf,hue=\"Metric\")\n",
    "x.set_ylim([.6,1.4])\n",
    "x.set_title(\"User based Collaborative filtering\" ,loc=\"center\")"
   ]
  },
  {
   "cell_type": "markdown",
   "metadata": {},
   "source": [
    "#### item based"
   ]
  },
  {
   "cell_type": "code",
   "execution_count": 120,
   "metadata": {},
   "outputs": [
    {
     "name": "stdout",
     "output_type": "stream",
     "text": [
      "****************** item Based Collaborative Filtering using MSD Similarity ******************\n",
      " \n",
      "Computing the msd similarity matrix...\n",
      "Done computing similarity matrix.\n",
      "RMSE: 0.9872\n",
      "MAE:  0.7813\n",
      "\n",
      "Computing the msd similarity matrix...\n",
      "Done computing similarity matrix.\n",
      "RMSE: 0.9787\n",
      "MAE:  0.7754\n",
      "\n",
      "Computing the msd similarity matrix...\n",
      "Done computing similarity matrix.\n",
      "RMSE: 0.9937\n",
      "MAE:  0.7863\n",
      "\n",
      "Avg RMSE=0.9865282245806526\n",
      "Avg MAE=0.7810296886142001\n"
     ]
    }
   ],
   "source": [
    "\n",
    "print(\"******\"*3,\"item Based Collaborative Filtering using MSD Similarity\",\"******\"*3)\n",
    "print(\" \")\n",
    "msdrmse_item,msdmae_itme=findavg(traindataset,testdataset,KNNBasic(sim_options={'user_based':False}))"
   ]
  },
  {
   "cell_type": "code",
   "execution_count": 121,
   "metadata": {},
   "outputs": [
    {
     "name": "stdout",
     "output_type": "stream",
     "text": [
      "****************** item Based Collaborative Filtering using Cosine based Similarity ******************\n",
      " \n",
      "Computing the cosine similarity matrix...\n",
      "Done computing similarity matrix.\n",
      "RMSE: 1.0361\n",
      "MAE:  0.8217\n",
      "\n",
      "Computing the cosine similarity matrix...\n",
      "Done computing similarity matrix.\n",
      "RMSE: 1.0313\n",
      "MAE:  0.8196\n",
      "\n",
      "Computing the cosine similarity matrix...\n",
      "Done computing similarity matrix.\n",
      "RMSE: 1.0434\n",
      "MAE:  0.8275\n",
      "\n",
      "Avg RMSE=1.0369075296632437\n",
      "Avg MAE=0.8229201955061879\n"
     ]
    }
   ],
   "source": [
    "print(\"******\"*3,\"item Based Collaborative Filtering using Cosine based Similarity\",\"******\"*3)\n",
    "print(\" \")\n",
    "cosinermse_item,cosinmae_item=findavg(traindataset,testdataset,KNNBasic(sim_options={'name':'cosine','user_based':False}))\n",
    "\n",
    "\n"
   ]
  },
  {
   "cell_type": "code",
   "execution_count": 122,
   "metadata": {},
   "outputs": [
    {
     "name": "stdout",
     "output_type": "stream",
     "text": [
      "****************** Item Based Collaborative Filtering using Pearson Similarity ******************\n",
      " \n",
      "Computing the pearson similarity matrix...\n",
      "Done computing similarity matrix.\n",
      "RMSE: 1.0479\n",
      "MAE:  0.8380\n",
      "\n",
      "Computing the pearson similarity matrix...\n",
      "Done computing similarity matrix.\n",
      "RMSE: 1.0439\n",
      "MAE:  0.8370\n",
      "\n",
      "Computing the pearson similarity matrix...\n",
      "Done computing similarity matrix.\n",
      "RMSE: 1.0564\n",
      "MAE:  0.8446\n",
      "\n",
      "Avg RMSE=1.0494210834072175\n",
      "Avg MAE=0.8398506491090796\n"
     ]
    }
   ],
   "source": [
    "print(\"******\"*3,\"Item Based Collaborative Filtering using Pearson Similarity\",\"******\"*3)\n",
    "print(\" \")\n",
    "pearrmse_item,pearmae_item=findavg(traindataset,testdataset,KNNBasic(sim_options={'name':'pearson','user_based':False}))"
   ]
  },
  {
   "cell_type": "code",
   "execution_count": 123,
   "metadata": {},
   "outputs": [
    {
     "data": {
      "text/plain": [
       "Text(0.5, 1.0, 'Item based Collaborative filtering- similarity metrics')"
      ]
     },
     "execution_count": 123,
     "metadata": {},
     "output_type": "execute_result"
    },
    {
     "data": {
      "image/png": "[encoded data removed]",
      "text/plain": [
       "<Figure size 432x288 with 1 Axes>"
      ]
     },
     "metadata": {
      "needs_background": "light"
     },
     "output_type": "display_data"
    }
   ],
   "source": [
    "datalabel = {\n",
    "    'Algorithm': ('item MSD','item MSD','item Cosine', 'item Cosine','item Pearson','item Pearson'), \n",
    "    'RMSE and MAE': [msdrmse_item,msdmae_itme,cosinermse_item,cosinmae_item,pearrmse_item,pearmae_item],\n",
    "    'Metric':['RMSE','MAE','RMSE','MAE','RMSE','MAE']\n",
    "}\n",
    "\n",
    "dataf = pd.DataFrame(datalabel)\n",
    "x = sns.barplot(x=\"Algorithm\",y=\"RMSE and MAE\",data=dataf,hue=\"Metric\")\n",
    "x.set_ylim([.6,1.4])\n",
    "x.set_title(\"Item based Collaborative filtering- similarity metrics\" ,loc=\"center\")"
   ]
  },
  {
   "cell_type": "markdown",
   "metadata": {},
   "source": [
    "MSD Similarity provides the lowest values of the RMSE and MAE for the user based and item based collaborative filtering"
   ]
  },
  {
   "cell_type": "markdown",
   "metadata": {},
   "source": [
    "###  Q15"
   ]
  },
  {
   "cell_type": "code",
   "execution_count": 124,
   "metadata": {},
   "outputs": [
    {
     "name": "stdout",
     "output_type": "stream",
     "text": [
      "Computing the msd similarity matrix...\n",
      "Done computing similarity matrix.\n",
      "RMSE: 1.3322\n",
      "MAE:  0.9842\n",
      "\n",
      "Computing the msd similarity matrix...\n",
      "Done computing similarity matrix.\n",
      "RMSE: 1.3302\n",
      "MAE:  0.9839\n",
      "\n",
      "Computing the msd similarity matrix...\n",
      "Done computing similarity matrix.\n",
      "RMSE: 1.3184\n",
      "MAE:  0.9713\n",
      "\n",
      "Avg RMSE=1.3269412537591294\n",
      "Avg MAE=0.9798001488386802\n",
      "Computing the msd similarity matrix...\n",
      "Done computing similarity matrix.\n",
      "RMSE: 1.1616\n",
      "MAE:  0.8956\n",
      "\n",
      "Computing the msd similarity matrix...\n",
      "Done computing similarity matrix.\n",
      "RMSE: 1.1523\n",
      "MAE:  0.8907\n",
      "\n",
      "Computing the msd similarity matrix...\n",
      "Done computing similarity matrix.\n",
      "RMSE: 1.1487\n",
      "MAE:  0.8860\n",
      "\n",
      "Avg RMSE=1.1541705638473736\n",
      "Avg MAE=0.8907611474197997\n",
      "Computing the msd similarity matrix...\n",
      "Done computing similarity matrix.\n",
      "RMSE: 1.0972\n",
      "MAE:  0.8570\n",
      "\n",
      "Computing the msd similarity matrix...\n",
      "Done computing similarity matrix.\n",
      "RMSE: 1.0881\n",
      "MAE:  0.8496\n",
      "\n",
      "Computing the msd similarity matrix...\n",
      "Done computing similarity matrix.\n",
      "RMSE: 1.0881\n",
      "MAE:  0.8498\n",
      "\n",
      "Avg RMSE=1.0911312522122678\n",
      "Avg MAE=0.8521625741237564\n",
      "Computing the msd similarity matrix...\n",
      "Done computing similarity matrix.\n",
      "RMSE: 1.0649\n",
      "MAE:  0.8354\n",
      "\n",
      "Computing the msd similarity matrix...\n",
      "Done computing similarity matrix.\n",
      "RMSE: 1.0533\n",
      "MAE:  0.8251\n",
      "\n",
      "Computing the msd similarity matrix...\n",
      "Done computing similarity matrix.\n",
      "RMSE: 1.0568\n",
      "MAE:  0.8293\n",
      "\n",
      "Avg RMSE=1.0583686136994952\n",
      "Avg MAE=0.8298986859896353\n",
      "Computing the msd similarity matrix...\n",
      "Done computing similarity matrix.\n",
      "RMSE: 1.0445\n",
      "MAE:  0.8204\n",
      "\n",
      "Computing the msd similarity matrix...\n",
      "Done computing similarity matrix.\n",
      "RMSE: 1.0328\n",
      "MAE:  0.8109\n",
      "\n",
      "Computing the msd similarity matrix...\n",
      "Done computing similarity matrix.\n",
      "RMSE: 1.0383\n",
      "MAE:  0.8172\n",
      "\n",
      "Avg RMSE=1.0385071418175686\n",
      "Avg MAE=0.816157759145051\n",
      "Computing the msd similarity matrix...\n",
      "Done computing similarity matrix.\n",
      "RMSE: 1.0325\n",
      "MAE:  0.8123\n",
      "\n",
      "Computing the msd similarity matrix...\n",
      "Done computing similarity matrix.\n",
      "RMSE: 1.0204\n",
      "MAE:  0.8025\n",
      "\n",
      "Computing the msd similarity matrix...\n",
      "Done computing similarity matrix.\n",
      "RMSE: 1.0255\n",
      "MAE:  0.8079\n",
      "\n",
      "Avg RMSE=1.0261487800831712\n",
      "Avg MAE=0.8075836212663717\n",
      "Computing the msd similarity matrix...\n",
      "Done computing similarity matrix.\n",
      "RMSE: 1.0228\n",
      "MAE:  0.8055\n",
      "\n",
      "Computing the msd similarity matrix...\n",
      "Done computing similarity matrix.\n",
      "RMSE: 1.0116\n",
      "MAE:  0.7957\n",
      "\n",
      "Computing the msd similarity matrix...\n",
      "Done computing similarity matrix.\n",
      "RMSE: 1.0169\n",
      "MAE:  0.8011\n",
      "\n",
      "Avg RMSE=1.0170830081003475\n",
      "Avg MAE=0.8007672325419296\n",
      "Computing the msd similarity matrix...\n",
      "Done computing similarity matrix.\n",
      "RMSE: 1.0158\n",
      "MAE:  0.7999\n",
      "\n",
      "Computing the msd similarity matrix...\n",
      "Done computing similarity matrix.\n",
      "RMSE: 1.0041\n",
      "MAE:  0.7904\n",
      "\n",
      "Computing the msd similarity matrix...\n",
      "Done computing similarity matrix.\n",
      "RMSE: 1.0112\n",
      "MAE:  0.7978\n",
      "\n",
      "Avg RMSE=1.0103680580338572\n",
      "Avg MAE=0.7960065796264386\n",
      "Computing the msd similarity matrix...\n",
      "Done computing similarity matrix.\n",
      "RMSE: 1.0103\n",
      "MAE:  0.7962\n",
      "\n",
      "Computing the msd similarity matrix...\n",
      "Done computing similarity matrix.\n",
      "RMSE: 1.0002\n",
      "MAE:  0.7874\n",
      "\n",
      "Computing the msd similarity matrix...\n",
      "Done computing similarity matrix.\n",
      "RMSE: 1.0068\n",
      "MAE:  0.7942\n",
      "\n",
      "Avg RMSE=1.0057904107644438\n",
      "Avg MAE=0.792589818463067\n",
      "Computing the msd similarity matrix...\n",
      "Done computing similarity matrix.\n",
      "RMSE: 1.0068\n",
      "MAE:  0.7934\n",
      "\n",
      "Computing the msd similarity matrix...\n",
      "Done computing similarity matrix.\n",
      "RMSE: 0.9964\n",
      "MAE:  0.7847\n",
      "\n",
      "Computing the msd similarity matrix...\n",
      "Done computing similarity matrix.\n",
      "RMSE: 1.0032\n",
      "MAE:  0.7922\n",
      "\n",
      "Avg RMSE=1.0021140204964214\n",
      "Avg MAE=0.7900745303559997\n",
      "Computing the msd similarity matrix...\n",
      "Done computing similarity matrix.\n",
      "RMSE: 1.0043\n",
      "MAE:  0.7914\n",
      "\n",
      "Computing the msd similarity matrix...\n",
      "Done computing similarity matrix.\n",
      "RMSE: 0.9935\n",
      "MAE:  0.7825\n",
      "\n",
      "Computing the msd similarity matrix...\n",
      "Done computing similarity matrix.\n",
      "RMSE: 1.0002\n",
      "MAE:  0.7897\n",
      "\n",
      "Avg RMSE=0.999330483259402\n",
      "Avg MAE=0.7878622350998622\n",
      "Computing the msd similarity matrix...\n",
      "Done computing similarity matrix.\n",
      "RMSE: 1.0020\n",
      "MAE:  0.7896\n",
      "\n",
      "Computing the msd similarity matrix...\n",
      "Done computing similarity matrix.\n",
      "RMSE: 0.9910\n",
      "MAE:  0.7803\n",
      "\n",
      "Computing the msd similarity matrix...\n",
      "Done computing similarity matrix.\n",
      "RMSE: 0.9984\n",
      "MAE:  0.7883\n",
      "\n",
      "Avg RMSE=0.9971312229539381\n",
      "Avg MAE=0.7860541014027259\n",
      "Computing the msd similarity matrix...\n",
      "Done computing similarity matrix.\n",
      "RMSE: 0.9999\n",
      "MAE:  0.7879\n",
      "\n",
      "Computing the msd similarity matrix...\n",
      "Done computing similarity matrix.\n",
      "RMSE: 0.9891\n",
      "MAE:  0.7790\n",
      "\n",
      "Computing the msd similarity matrix...\n",
      "Done computing similarity matrix.\n",
      "RMSE: 0.9968\n",
      "MAE:  0.7869\n",
      "\n",
      "Avg RMSE=0.9952688686530994\n",
      "Avg MAE=0.7845880331248555\n",
      "Computing the msd similarity matrix...\n",
      "Done computing similarity matrix.\n",
      "RMSE: 0.9983\n",
      "MAE:  0.7865\n",
      "\n",
      "Computing the msd similarity matrix...\n",
      "Done computing similarity matrix.\n",
      "RMSE: 0.9872\n",
      "MAE:  0.7774\n",
      "\n",
      "Computing the msd similarity matrix...\n",
      "Done computing similarity matrix.\n",
      "RMSE: 0.9955\n",
      "MAE:  0.7858\n",
      "\n",
      "Avg RMSE=0.9936785803701044\n",
      "Avg MAE=0.7832439178792164\n",
      "Computing the msd similarity matrix...\n",
      "Done computing similarity matrix.\n",
      "RMSE: 0.9968\n",
      "MAE:  0.7855\n",
      "\n",
      "Computing the msd similarity matrix...\n",
      "Done computing similarity matrix.\n",
      "RMSE: 0.9858\n",
      "MAE:  0.7763\n",
      "\n",
      "Computing the msd similarity matrix...\n",
      "Done computing similarity matrix.\n",
      "RMSE: 0.9940\n",
      "MAE:  0.7846\n",
      "\n",
      "Avg RMSE=0.9921767338051684\n",
      "Avg MAE=0.7821593876396209\n",
      "Computing the msd similarity matrix...\n",
      "Done computing similarity matrix.\n",
      "RMSE: 0.9960\n",
      "MAE:  0.7847\n",
      "\n",
      "Computing the msd similarity matrix...\n",
      "Done computing similarity matrix.\n",
      "RMSE: 0.9848\n",
      "MAE:  0.7757\n",
      "\n",
      "Computing the msd similarity matrix...\n",
      "Done computing similarity matrix.\n",
      "RMSE: 0.9930\n",
      "MAE:  0.7840\n",
      "\n",
      "Avg RMSE=0.9912972234008354\n",
      "Avg MAE=0.7814888564518379\n",
      "Computing the msd similarity matrix...\n",
      "Done computing similarity matrix.\n",
      "RMSE: 0.9951\n",
      "MAE:  0.7840\n",
      "\n",
      "Computing the msd similarity matrix...\n",
      "Done computing similarity matrix.\n",
      "RMSE: 0.9842\n",
      "MAE:  0.7753\n",
      "\n",
      "Computing the msd similarity matrix...\n",
      "Done computing similarity matrix.\n",
      "RMSE: 0.9924\n",
      "MAE:  0.7836\n",
      "\n",
      "Avg RMSE=0.9905494252519927\n",
      "Avg MAE=0.7809534874800704\n",
      "Computing the msd similarity matrix...\n",
      "Done computing similarity matrix.\n",
      "RMSE: 0.9943\n",
      "MAE:  0.7833\n",
      "\n",
      "Computing the msd similarity matrix...\n",
      "Done computing similarity matrix.\n",
      "RMSE: 0.9833\n",
      "MAE:  0.7747\n",
      "\n",
      "Computing the msd similarity matrix...\n",
      "Done computing similarity matrix.\n",
      "RMSE: 0.9918\n",
      "MAE:  0.7833\n",
      "\n",
      "Avg RMSE=0.989779808261173\n",
      "Avg MAE=0.7804490499779199\n",
      "Computing the msd similarity matrix...\n",
      "Done computing similarity matrix.\n",
      "RMSE: 0.9932\n",
      "MAE:  0.7826\n",
      "\n",
      "Computing the msd similarity matrix...\n",
      "Done computing similarity matrix.\n",
      "RMSE: 0.9828\n",
      "MAE:  0.7744\n",
      "\n",
      "Computing the msd similarity matrix...\n",
      "Done computing similarity matrix.\n",
      "RMSE: 0.9912\n",
      "MAE:  0.7829\n",
      "\n",
      "Avg RMSE=0.9890697932481881\n",
      "Avg MAE=0.77994800912142\n",
      "Computing the msd similarity matrix...\n",
      "Done computing similarity matrix.\n",
      "RMSE: 0.9929\n",
      "MAE:  0.7824\n",
      "\n",
      "Computing the msd similarity matrix...\n",
      "Done computing similarity matrix.\n",
      "RMSE: 0.9821\n",
      "MAE:  0.7739\n",
      "\n",
      "Computing the msd similarity matrix...\n",
      "Done computing similarity matrix.\n",
      "RMSE: 0.9909\n",
      "MAE:  0.7829\n",
      "\n",
      "Avg RMSE=0.9886234026394588\n",
      "Avg MAE=0.7797183958007191\n",
      "Computing the msd similarity matrix...\n",
      "Done computing similarity matrix.\n",
      "RMSE: 0.9925\n",
      "MAE:  0.7820\n",
      "\n",
      "Computing the msd similarity matrix...\n",
      "Done computing similarity matrix.\n",
      "RMSE: 0.9820\n",
      "MAE:  0.7739\n",
      "\n",
      "Computing the msd similarity matrix...\n",
      "Done computing similarity matrix.\n",
      "RMSE: 0.9909\n",
      "MAE:  0.7829\n",
      "\n",
      "Avg RMSE=0.9884828577401819\n",
      "Avg MAE=0.7796230034603301\n",
      "Computing the msd similarity matrix...\n",
      "Done computing similarity matrix.\n",
      "RMSE: 0.9924\n",
      "MAE:  0.7821\n",
      "\n",
      "Computing the msd similarity matrix...\n",
      "Done computing similarity matrix.\n",
      "RMSE: 0.9817\n",
      "MAE:  0.7737\n",
      "\n",
      "Computing the msd similarity matrix...\n",
      "Done computing similarity matrix.\n",
      "RMSE: 0.9905\n",
      "MAE:  0.7826\n",
      "\n",
      "Avg RMSE=0.9882032033525933\n",
      "Avg MAE=0.7794531938708249\n",
      "Computing the msd similarity matrix...\n",
      "Done computing similarity matrix.\n",
      "RMSE: 0.9924\n",
      "MAE:  0.7820\n",
      "\n",
      "Computing the msd similarity matrix...\n",
      "Done computing similarity matrix.\n",
      "RMSE: 0.9814\n",
      "MAE:  0.7737\n",
      "\n",
      "Computing the msd similarity matrix...\n",
      "Done computing similarity matrix.\n",
      "RMSE: 0.9901\n",
      "MAE:  0.7823\n",
      "\n",
      "Avg RMSE=0.9879869354206375\n",
      "Avg MAE=0.7793247615366998\n",
      "Computing the msd similarity matrix...\n"
     ]
    },
    {
     "name": "stdout",
     "output_type": "stream",
     "text": [
      "Done computing similarity matrix.\n",
      "RMSE: 0.9923\n",
      "MAE:  0.7820\n",
      "\n",
      "Computing the msd similarity matrix...\n",
      "Done computing similarity matrix.\n",
      "RMSE: 0.9815\n",
      "MAE:  0.7738\n",
      "\n",
      "Computing the msd similarity matrix...\n",
      "Done computing similarity matrix.\n",
      "RMSE: 0.9901\n",
      "MAE:  0.7825\n",
      "\n",
      "Avg RMSE=0.9879868114496232\n",
      "Avg MAE=0.7794337540039259\n",
      "Computing the msd similarity matrix...\n",
      "Done computing similarity matrix.\n",
      "RMSE: 0.9923\n",
      "MAE:  0.7819\n",
      "\n",
      "Computing the msd similarity matrix...\n",
      "Done computing similarity matrix.\n",
      "RMSE: 0.9812\n",
      "MAE:  0.7736\n",
      "\n",
      "Computing the msd similarity matrix...\n",
      "Done computing similarity matrix.\n",
      "RMSE: 0.9900\n",
      "MAE:  0.7824\n",
      "\n",
      "Avg RMSE=0.9878490521780753\n",
      "Avg MAE=0.7792776695079905\n",
      "Computing the msd similarity matrix...\n",
      "Done computing similarity matrix.\n",
      "RMSE: 0.9922\n",
      "MAE:  0.7820\n",
      "\n",
      "Computing the msd similarity matrix...\n",
      "Done computing similarity matrix.\n",
      "RMSE: 0.9814\n",
      "MAE:  0.7739\n",
      "\n",
      "Computing the msd similarity matrix...\n",
      "Done computing similarity matrix.\n",
      "RMSE: 0.9901\n",
      "MAE:  0.7825\n",
      "\n",
      "Avg RMSE=0.9878985185398473\n",
      "Avg MAE=0.7794667748404303\n",
      "Computing the msd similarity matrix...\n",
      "Done computing similarity matrix.\n",
      "RMSE: 0.9921\n",
      "MAE:  0.7821\n",
      "\n",
      "Computing the msd similarity matrix...\n",
      "Done computing similarity matrix.\n",
      "RMSE: 0.9813\n",
      "MAE:  0.7739\n",
      "\n",
      "Computing the msd similarity matrix...\n",
      "Done computing similarity matrix.\n",
      "RMSE: 0.9901\n",
      "MAE:  0.7826\n",
      "\n",
      "Avg RMSE=0.9878524417229695\n",
      "Avg MAE=0.7795072897036466\n",
      "Computing the msd similarity matrix...\n",
      "Done computing similarity matrix.\n",
      "RMSE: 0.9920\n",
      "MAE:  0.7821\n",
      "\n",
      "Computing the msd similarity matrix...\n",
      "Done computing similarity matrix.\n",
      "RMSE: 0.9815\n",
      "MAE:  0.7741\n",
      "\n",
      "Computing the msd similarity matrix...\n",
      "Done computing similarity matrix.\n",
      "RMSE: 0.9901\n",
      "MAE:  0.7827\n",
      "\n",
      "Avg RMSE=0.9878680337419138\n",
      "Avg MAE=0.7796225886199926\n",
      "Computing the msd similarity matrix...\n",
      "Done computing similarity matrix.\n",
      "RMSE: 0.9921\n",
      "MAE:  0.7822\n",
      "\n",
      "Computing the msd similarity matrix...\n",
      "Done computing similarity matrix.\n",
      "RMSE: 0.9813\n",
      "MAE:  0.7739\n",
      "\n",
      "Computing the msd similarity matrix...\n",
      "Done computing similarity matrix.\n",
      "RMSE: 0.9904\n",
      "MAE:  0.7831\n",
      "\n",
      "Avg RMSE=0.9879107203180162\n",
      "Avg MAE=0.77974166700545\n"
     ]
    }
   ],
   "source": [
    "userrmse=[]\n",
    "usermae=[]\n",
    "maxval=30\n",
    "for i in range(1,maxval):\n",
    "    r,m=findavg(traindataset,testdataset,KNNBasic(k=i,sim_options={'user_based':True}))\n",
    "    userrmse.append(r)\n",
    "    usermae.append(m)\n"
   ]
  },
  {
   "cell_type": "code",
   "execution_count": 125,
   "metadata": {},
   "outputs": [
    {
     "data": {
      "text/plain": [
       "Text(0.5, 1.0, 'RMSE Values')"
      ]
     },
     "execution_count": 125,
     "metadata": {},
     "output_type": "execute_result"
    },
    {
     "data": {
      "image/png": "[encoded data removed]",
      "text/plain": [
       "<Figure size 432x288 with 1 Axes>"
      ]
     },
     "metadata": {
      "needs_background": "light"
     },
     "output_type": "display_data"
    }
   ],
   "source": [
    "RMSE_KNN = {\n",
    "    'KNN K Value': [y for y in range(1,maxval)], \n",
    "    'RMSE': userrmse\n",
    "}\n",
    "df=pd.DataFrame(RMSE_KNN)\n",
    "graph = sns.barplot(x=\"KNN K Value\",y=\"RMSE\",data=df,color=\"Green\")\n",
    "graph.set_ylim([.9,1.35])\n",
    "graph.set_title(\"RMSE Values\")"
   ]
  },
  {
   "cell_type": "code",
   "execution_count": 126,
   "metadata": {},
   "outputs": [
    {
     "data": {
      "text/plain": [
       "Text(0.5, 1.0, 'MAE_Values')"
      ]
     },
     "execution_count": 126,
     "metadata": {},
     "output_type": "execute_result"
    },
    {
     "data": {
      "image/png": "[encoded data removed]",
      "text/plain": [
       "<Figure size 432x288 with 1 Axes>"
      ]
     },
     "metadata": {
      "needs_background": "light"
     },
     "output_type": "display_data"
    }
   ],
   "source": [
    "MAE_KNN = {\n",
    "    'KNN K Value': [y for y in range(1,maxval)], \n",
    "    'RMSE': usermae\n",
    "}\n",
    "df=pd.DataFrame(MAE_KNN)\n",
    "graph = sns.barplot(x=\"KNN K Value\",y=\"RMSE\",data=df,color=\"orange\")\n",
    "graph.set_ylim([.75,1.0])\n",
    "graph.set_title(\"MAE_Values\")"
   ]
  },
  {
   "cell_type": "code",
   "execution_count": 127,
   "metadata": {},
   "outputs": [
    {
     "name": "stdout",
     "output_type": "stream",
     "text": [
      "Best Value of K =25\n",
      "RMSE=0.9878490521780753\n"
     ]
    }
   ],
   "source": [
    "kbestval=userrmse.index(min(userrmse))+1\n",
    "print(\"Best Value of K ={}\".format(kbestval))\n",
    "print(\"RMSE={}\".format(min(userrmse)))"
   ]
  },
  {
   "cell_type": "markdown",
   "metadata": {},
   "source": [
    " The best value of k for user based filter ing is 25"
   ]
  },
  {
   "cell_type": "code",
   "execution_count": 128,
   "metadata": {},
   "outputs": [
    {
     "name": "stdout",
     "output_type": "stream",
     "text": [
      "Computing the msd similarity matrix...\n",
      "Done computing similarity matrix.\n",
      "RMSE: 1.4270\n",
      "MAE:  1.0501\n",
      "\n",
      "Computing the msd similarity matrix...\n",
      "Done computing similarity matrix.\n",
      "RMSE: 1.4271\n",
      "MAE:  1.0549\n",
      "\n",
      "Computing the msd similarity matrix...\n",
      "Done computing similarity matrix.\n",
      "RMSE: 1.4528\n",
      "MAE:  1.0738\n",
      "\n",
      "Avg RMSE=1.4356090647521549\n",
      "Avg MAE=1.05959028765325\n",
      "Computing the msd similarity matrix...\n",
      "Done computing similarity matrix.\n",
      "RMSE: 1.2295\n",
      "MAE:  0.9479\n",
      "\n",
      "Computing the msd similarity matrix...\n",
      "Done computing similarity matrix.\n",
      "RMSE: 1.2322\n",
      "MAE:  0.9530\n",
      "\n",
      "Computing the msd similarity matrix...\n",
      "Done computing similarity matrix.\n",
      "RMSE: 1.2460\n",
      "MAE:  0.9613\n",
      "\n",
      "Avg RMSE=1.2359094403809512\n",
      "Avg MAE=0.9540641838139597\n",
      "Computing the msd similarity matrix...\n",
      "Done computing similarity matrix.\n",
      "RMSE: 1.1521\n",
      "MAE:  0.9005\n",
      "\n",
      "Computing the msd similarity matrix...\n",
      "Done computing similarity matrix.\n",
      "RMSE: 1.1504\n",
      "MAE:  0.9021\n",
      "\n",
      "Computing the msd similarity matrix...\n",
      "Done computing similarity matrix.\n",
      "RMSE: 1.1650\n",
      "MAE:  0.9104\n",
      "\n",
      "Avg RMSE=1.1558300989143298\n",
      "Avg MAE=0.9043443771230972\n",
      "Computing the msd similarity matrix...\n",
      "Done computing similarity matrix.\n",
      "RMSE: 1.1095\n",
      "MAE:  0.8712\n",
      "\n",
      "Computing the msd similarity matrix...\n",
      "Done computing similarity matrix.\n",
      "RMSE: 1.1085\n",
      "MAE:  0.8734\n",
      "\n",
      "Computing the msd similarity matrix...\n",
      "Done computing similarity matrix.\n",
      "RMSE: 1.1206\n",
      "MAE:  0.8782\n",
      "\n",
      "Avg RMSE=1.1128656709884346\n",
      "Avg MAE=0.8742775119970473\n",
      "Computing the msd similarity matrix...\n",
      "Done computing similarity matrix.\n",
      "RMSE: 1.0826\n",
      "MAE:  0.8517\n",
      "\n",
      "Computing the msd similarity matrix...\n",
      "Done computing similarity matrix.\n",
      "RMSE: 1.0797\n",
      "MAE:  0.8532\n",
      "\n",
      "Computing the msd similarity matrix...\n",
      "Done computing similarity matrix.\n",
      "RMSE: 1.0924\n",
      "MAE:  0.8587\n",
      "\n",
      "Avg RMSE=1.0848877666408134\n",
      "Avg MAE=0.8545155950300013\n",
      "Computing the msd similarity matrix...\n",
      "Done computing similarity matrix.\n",
      "RMSE: 1.0632\n",
      "MAE:  0.8380\n",
      "\n",
      "Computing the msd similarity matrix...\n",
      "Done computing similarity matrix.\n",
      "RMSE: 1.0596\n",
      "MAE:  0.8386\n",
      "\n",
      "Computing the msd similarity matrix...\n",
      "Done computing similarity matrix.\n",
      "RMSE: 1.0731\n",
      "MAE:  0.8452\n",
      "\n",
      "Avg RMSE=1.065293498480635\n",
      "Avg MAE=0.8405930762238049\n",
      "Computing the msd similarity matrix...\n",
      "Done computing similarity matrix.\n",
      "RMSE: 1.0489\n",
      "MAE:  0.8268\n",
      "\n",
      "Computing the msd similarity matrix...\n",
      "Done computing similarity matrix.\n",
      "RMSE: 1.0447\n",
      "MAE:  0.8273\n",
      "\n",
      "Computing the msd similarity matrix...\n",
      "Done computing similarity matrix.\n",
      "RMSE: 1.0589\n",
      "MAE:  0.8341\n",
      "\n",
      "Avg RMSE=1.0508289035588665\n",
      "Avg MAE=0.8294136518965406\n",
      "Computing the msd similarity matrix...\n",
      "Done computing similarity matrix.\n",
      "RMSE: 1.0389\n",
      "MAE:  0.8193\n",
      "\n",
      "Computing the msd similarity matrix...\n",
      "Done computing similarity matrix.\n",
      "RMSE: 1.0338\n",
      "MAE:  0.8191\n",
      "\n",
      "Computing the msd similarity matrix...\n",
      "Done computing similarity matrix.\n",
      "RMSE: 1.0471\n",
      "MAE:  0.8259\n",
      "\n",
      "Avg RMSE=1.0399457610035263\n",
      "Avg MAE=0.8214438685453288\n",
      "Computing the msd similarity matrix...\n",
      "Done computing similarity matrix.\n",
      "RMSE: 1.0304\n",
      "MAE:  0.8132\n",
      "\n",
      "Computing the msd similarity matrix...\n",
      "Done computing similarity matrix.\n",
      "RMSE: 1.0240\n",
      "MAE:  0.8116\n",
      "\n",
      "Computing the msd similarity matrix...\n",
      "Done computing similarity matrix.\n",
      "RMSE: 1.0378\n",
      "MAE:  0.8183\n",
      "\n",
      "Avg RMSE=1.0307517554838121\n",
      "Avg MAE=0.8143960166419988\n",
      "Computing the msd similarity matrix...\n",
      "Done computing similarity matrix.\n",
      "RMSE: 1.0244\n",
      "MAE:  0.8088\n",
      "\n",
      "Computing the msd similarity matrix...\n",
      "Done computing similarity matrix.\n",
      "RMSE: 1.0175\n",
      "MAE:  0.8061\n",
      "\n",
      "Computing the msd similarity matrix...\n",
      "Done computing similarity matrix.\n",
      "RMSE: 1.0309\n",
      "MAE:  0.8138\n",
      "\n",
      "Avg RMSE=1.0242991837134587\n",
      "Avg MAE=0.8095552361321373\n",
      "Computing the msd similarity matrix...\n",
      "Done computing similarity matrix.\n",
      "RMSE: 1.0185\n",
      "MAE:  0.8042\n",
      "\n",
      "Computing the msd similarity matrix...\n",
      "Done computing similarity matrix.\n",
      "RMSE: 1.0118\n",
      "MAE:  0.8016\n",
      "\n",
      "Computing the msd similarity matrix...\n",
      "Done computing similarity matrix.\n",
      "RMSE: 1.0252\n",
      "MAE:  0.8094\n",
      "\n",
      "Avg RMSE=1.0185181841791673\n",
      "Avg MAE=0.8050637604278487\n",
      "Computing the msd similarity matrix...\n",
      "Done computing similarity matrix.\n",
      "RMSE: 1.0140\n",
      "MAE:  0.8005\n",
      "\n",
      "Computing the msd similarity matrix...\n",
      "Done computing similarity matrix.\n",
      "RMSE: 1.0075\n",
      "MAE:  0.7977\n",
      "\n",
      "Computing the msd similarity matrix...\n",
      "Done computing similarity matrix.\n",
      "RMSE: 1.0204\n",
      "MAE:  0.8055\n",
      "\n",
      "Avg RMSE=1.0139522924113356\n",
      "Avg MAE=0.8012412650198227\n",
      "Computing the msd similarity matrix...\n",
      "Done computing similarity matrix.\n",
      "RMSE: 1.0103\n",
      "MAE:  0.7978\n",
      "\n",
      "Computing the msd similarity matrix...\n",
      "Done computing similarity matrix.\n",
      "RMSE: 1.0031\n",
      "MAE:  0.7943\n",
      "\n",
      "Computing the msd similarity matrix...\n",
      "Done computing similarity matrix.\n",
      "RMSE: 1.0163\n",
      "MAE:  0.8026\n",
      "\n",
      "Avg RMSE=1.009892453501419\n",
      "Avg MAE=0.7982608587585354\n",
      "Computing the msd similarity matrix...\n",
      "Done computing similarity matrix.\n",
      "RMSE: 1.0074\n",
      "MAE:  0.7955\n",
      "\n",
      "Computing the msd similarity matrix...\n",
      "Done computing similarity matrix.\n",
      "RMSE: 0.9996\n",
      "MAE:  0.7913\n",
      "\n",
      "Computing the msd similarity matrix...\n",
      "Done computing similarity matrix.\n",
      "RMSE: 1.0129\n",
      "MAE:  0.8001\n",
      "\n",
      "Avg RMSE=1.0066308029118847\n",
      "Avg MAE=0.7956526553103226\n",
      "Computing the msd similarity matrix...\n",
      "Done computing similarity matrix.\n",
      "RMSE: 1.0054\n",
      "MAE:  0.7939\n",
      "\n",
      "Computing the msd similarity matrix...\n",
      "Done computing similarity matrix.\n",
      "RMSE: 0.9965\n",
      "MAE:  0.7890\n",
      "\n",
      "Computing the msd similarity matrix...\n",
      "Done computing similarity matrix.\n",
      "RMSE: 1.0104\n",
      "MAE:  0.7982\n",
      "\n",
      "Avg RMSE=1.0040743959250829\n",
      "Avg MAE=0.7936771901819125\n",
      "Computing the msd similarity matrix...\n",
      "Done computing similarity matrix.\n",
      "RMSE: 1.0034\n",
      "MAE:  0.7922\n",
      "\n",
      "Computing the msd similarity matrix...\n",
      "Done computing similarity matrix.\n",
      "RMSE: 0.9940\n",
      "MAE:  0.7872\n",
      "\n",
      "Computing the msd similarity matrix...\n",
      "Done computing similarity matrix.\n",
      "RMSE: 1.0079\n",
      "MAE:  0.7963\n",
      "\n",
      "Avg RMSE=1.0017351823804777\n",
      "Avg MAE=0.791901052053532\n",
      "Computing the msd similarity matrix...\n",
      "Done computing similarity matrix.\n",
      "RMSE: 1.0019\n",
      "MAE:  0.7916\n",
      "\n",
      "Computing the msd similarity matrix...\n",
      "Done computing similarity matrix.\n",
      "RMSE: 0.9919\n",
      "MAE:  0.7855\n",
      "\n",
      "Computing the msd similarity matrix...\n",
      "Done computing similarity matrix.\n",
      "RMSE: 1.0058\n",
      "MAE:  0.7948\n",
      "\n",
      "Avg RMSE=0.9998548247880642\n",
      "Avg MAE=0.7906160956996939\n",
      "Computing the msd similarity matrix...\n",
      "Done computing similarity matrix.\n",
      "RMSE: 0.9999\n",
      "MAE:  0.7900\n",
      "\n",
      "Computing the msd similarity matrix...\n",
      "Done computing similarity matrix.\n",
      "RMSE: 0.9903\n",
      "MAE:  0.7844\n",
      "\n",
      "Computing the msd similarity matrix...\n",
      "Done computing similarity matrix.\n",
      "RMSE: 1.0045\n",
      "MAE:  0.7938\n",
      "\n",
      "Avg RMSE=0.9982219018394406\n",
      "Avg MAE=0.7893794263147155\n",
      "Computing the msd similarity matrix...\n",
      "Done computing similarity matrix.\n",
      "RMSE: 0.9981\n",
      "MAE:  0.7886\n",
      "\n",
      "Computing the msd similarity matrix...\n",
      "Done computing similarity matrix.\n",
      "RMSE: 0.9886\n",
      "MAE:  0.7833\n",
      "\n",
      "Computing the msd similarity matrix...\n",
      "Done computing similarity matrix.\n",
      "RMSE: 1.0032\n",
      "MAE:  0.7928\n",
      "\n",
      "Avg RMSE=0.9966558375064376\n",
      "Avg MAE=0.788240149150559\n",
      "Computing the msd similarity matrix...\n",
      "Done computing similarity matrix.\n",
      "RMSE: 0.9965\n",
      "MAE:  0.7872\n",
      "\n",
      "Computing the msd similarity matrix...\n",
      "Done computing similarity matrix.\n",
      "RMSE: 0.9872\n",
      "MAE:  0.7818\n",
      "\n",
      "Computing the msd similarity matrix...\n",
      "Done computing similarity matrix.\n",
      "RMSE: 1.0017\n",
      "MAE:  0.7915\n",
      "\n",
      "Avg RMSE=0.9951215555069527\n",
      "Avg MAE=0.7868577189232892\n",
      "Computing the msd similarity matrix...\n",
      "Done computing similarity matrix.\n",
      "RMSE: 0.9954\n",
      "MAE:  0.7864\n",
      "\n",
      "Computing the msd similarity matrix...\n",
      "Done computing similarity matrix.\n",
      "RMSE: 0.9857\n",
      "MAE:  0.7806\n",
      "\n",
      "Computing the msd similarity matrix...\n",
      "Done computing similarity matrix.\n",
      "RMSE: 1.0007\n",
      "MAE:  0.7908\n",
      "\n",
      "Avg RMSE=0.9939603022302327\n",
      "Avg MAE=0.7859364929724779\n",
      "Computing the msd similarity matrix...\n",
      "Done computing similarity matrix.\n",
      "RMSE: 0.9944\n",
      "MAE:  0.7858\n",
      "\n",
      "Computing the msd similarity matrix...\n",
      "Done computing similarity matrix.\n",
      "RMSE: 0.9848\n",
      "MAE:  0.7798\n",
      "\n",
      "Computing the msd similarity matrix...\n",
      "Done computing similarity matrix.\n",
      "RMSE: 0.9992\n",
      "MAE:  0.7896\n",
      "\n",
      "Avg RMSE=0.9927963564962369\n",
      "Avg MAE=0.7850906152860246\n",
      "Computing the msd similarity matrix...\n",
      "Done computing similarity matrix.\n",
      "RMSE: 0.9936\n",
      "MAE:  0.7851\n",
      "\n",
      "Computing the msd similarity matrix...\n",
      "Done computing similarity matrix.\n",
      "RMSE: 0.9841\n",
      "MAE:  0.7793\n",
      "\n",
      "Computing the msd similarity matrix...\n",
      "Done computing similarity matrix.\n",
      "RMSE: 0.9983\n",
      "MAE:  0.7890\n",
      "\n",
      "Avg RMSE=0.9919941207751523\n",
      "Avg MAE=0.7844555305293963\n",
      "Computing the msd similarity matrix...\n"
     ]
    },
    {
     "name": "stdout",
     "output_type": "stream",
     "text": [
      "Done computing similarity matrix.\n",
      "RMSE: 0.9928\n",
      "MAE:  0.7848\n",
      "\n",
      "Computing the msd similarity matrix...\n",
      "Done computing similarity matrix.\n",
      "RMSE: 0.9834\n",
      "MAE:  0.7788\n",
      "\n",
      "Computing the msd similarity matrix...\n",
      "Done computing similarity matrix.\n",
      "RMSE: 0.9975\n",
      "MAE:  0.7883\n",
      "\n",
      "Avg RMSE=0.9912431753970466\n",
      "Avg MAE=0.7839592203684851\n",
      "Computing the msd similarity matrix...\n",
      "Done computing similarity matrix.\n",
      "RMSE: 0.9918\n",
      "MAE:  0.7839\n",
      "\n",
      "Computing the msd similarity matrix...\n",
      "Done computing similarity matrix.\n",
      "RMSE: 0.9827\n",
      "MAE:  0.7782\n",
      "\n",
      "Computing the msd similarity matrix...\n",
      "Done computing similarity matrix.\n",
      "RMSE: 0.9970\n",
      "MAE:  0.7880\n",
      "\n",
      "Avg RMSE=0.9904783445829883\n",
      "Avg MAE=0.7833292190574276\n",
      "Computing the msd similarity matrix...\n",
      "Done computing similarity matrix.\n",
      "RMSE: 0.9912\n",
      "MAE:  0.7834\n",
      "\n",
      "Computing the msd similarity matrix...\n",
      "Done computing similarity matrix.\n",
      "RMSE: 0.9821\n",
      "MAE:  0.7779\n",
      "\n",
      "Computing the msd similarity matrix...\n",
      "Done computing similarity matrix.\n",
      "RMSE: 0.9965\n",
      "MAE:  0.7876\n",
      "\n",
      "Avg RMSE=0.9898953293244223\n",
      "Avg MAE=0.7829763891567906\n",
      "Computing the msd similarity matrix...\n",
      "Done computing similarity matrix.\n",
      "RMSE: 0.9903\n",
      "MAE:  0.7829\n",
      "\n",
      "Computing the msd similarity matrix...\n",
      "Done computing similarity matrix.\n",
      "RMSE: 0.9814\n",
      "MAE:  0.7772\n",
      "\n",
      "Computing the msd similarity matrix...\n",
      "Done computing similarity matrix.\n",
      "RMSE: 0.9959\n",
      "MAE:  0.7874\n",
      "\n",
      "Avg RMSE=0.9891661891792974\n",
      "Avg MAE=0.7824737257071129\n",
      "Computing the msd similarity matrix...\n",
      "Done computing similarity matrix.\n",
      "RMSE: 0.9898\n",
      "MAE:  0.7825\n",
      "\n",
      "Computing the msd similarity matrix...\n",
      "Done computing similarity matrix.\n",
      "RMSE: 0.9809\n",
      "MAE:  0.7769\n",
      "\n",
      "Computing the msd similarity matrix...\n",
      "Done computing similarity matrix.\n",
      "RMSE: 0.9955\n",
      "MAE:  0.7873\n",
      "\n",
      "Avg RMSE=0.9887378093511346\n",
      "Avg MAE=0.7822367899237127\n",
      "Computing the msd similarity matrix...\n",
      "Done computing similarity matrix.\n",
      "RMSE: 0.9896\n",
      "MAE:  0.7825\n",
      "\n",
      "Computing the msd similarity matrix...\n",
      "Done computing similarity matrix.\n",
      "RMSE: 0.9804\n",
      "MAE:  0.7764\n",
      "\n",
      "Computing the msd similarity matrix...\n",
      "Done computing similarity matrix.\n",
      "RMSE: 0.9951\n",
      "MAE:  0.7871\n",
      "\n",
      "Avg RMSE=0.988353481600738\n",
      "Avg MAE=0.782017278792149\n"
     ]
    }
   ],
   "source": [
    "itemrmse=[]\n",
    "itemmae=[]\n",
    "maxval=30\n",
    "for i in range(1,maxval):\n",
    "    r,m=findavg(traindataset,testdataset,KNNBasic(k=i,sim_options={'user_based':False}))\n",
    "    itemrmse.append(r)\n",
    "    itemmae.append(m)"
   ]
  },
  {
   "cell_type": "code",
   "execution_count": 129,
   "metadata": {},
   "outputs": [
    {
     "data": {
      "text/plain": [
       "Text(0.5, 1.0, 'RMSE Values')"
      ]
     },
     "execution_count": 129,
     "metadata": {},
     "output_type": "execute_result"
    },
    {
     "data": {
      "image/png": "[encoded data removed]",
      "text/plain": [
       "<Figure size 432x288 with 1 Axes>"
      ]
     },
     "metadata": {
      "needs_background": "light"
     },
     "output_type": "display_data"
    }
   ],
   "source": [
    "RMSE_KNN = {\n",
    "    'KNN K Value': [y for y in range(1,maxval)], \n",
    "    'RMSE': itemrmse\n",
    "}\n",
    "dfdata=pd.DataFrame(RMSE_KNN)\n",
    "graph = sns.barplot(x=\"KNN K Value\",y=\"RMSE\",data=dfdata,color=\"green\")\n",
    "graph.set_ylim([.9,1.6])\n",
    "graph.set_title(\"RMSE Values\")"
   ]
  },
  {
   "cell_type": "code",
   "execution_count": 130,
   "metadata": {},
   "outputs": [
    {
     "data": {
      "text/plain": [
       "Text(0.5, 1.0, 'RMSE Values')"
      ]
     },
     "execution_count": 130,
     "metadata": {},
     "output_type": "execute_result"
    },
    {
     "data": {
      "image/png": "[encoded data removed]",
      "text/plain": [
       "<Figure size 432x288 with 1 Axes>"
      ]
     },
     "metadata": {
      "needs_background": "light"
     },
     "output_type": "display_data"
    }
   ],
   "source": [
    "MAE_KNN = {\n",
    "    'KNN K Value': [y for y in range(1,maxval)], \n",
    "    'RMSE': itemmae\n",
    "}\n",
    "dfdata=pd.DataFrame(MAE_KNN)\n",
    "graph = sns.barplot(x=\"KNN K Value\",y=\"RMSE\",data=dfdata,color=\"orange\")\n",
    "graph.set_ylim([.75,1.2])\n",
    "graph.set_title(\"RMSE Values\")"
   ]
  },
  {
   "cell_type": "code",
   "execution_count": 131,
   "metadata": {},
   "outputs": [
    {
     "name": "stdout",
     "output_type": "stream",
     "text": [
      "Best Value of K = 29\n",
      "RMSE= 0.988353481600738\n"
     ]
    }
   ],
   "source": [
    "kbestval=itemrmse.index(min(itemrmse))+1\n",
    "print(\"Best Value of K = {}\".format(kbestval))\n",
    "print(\"RMSE= {}\".format(min(itemrmse)))"
   ]
  },
  {
   "cell_type": "markdown",
   "metadata": {},
   "source": [
    "The best value of K after the item based collaborativ filtering is 29"
   ]
  },
  {
   "cell_type": "markdown",
   "metadata": {},
   "source": [
    "https://github.com/rpm360/MLassignment/blob/master/HW7/HW7.ipynb"
   ]
  }
 ],
 "metadata": {
  "kernelspec": {
   "display_name": "Python 3",
   "language": "python",
   "name": "python3"
  },
  "language_info": {
   "codemirror_mode": {
    "name": "ipython",
    "version": 3
   },
   "file_extension": ".py",
   "mimetype": "text/x-python",
   "name": "python",
   "nbconvert_exporter": "python",
   "pygments_lexer": "ipython3",
   "version": "3.7.4"
  }
 },
 "nbformat": 4,
 "nbformat_minor": 2
}
